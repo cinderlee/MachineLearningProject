{
 "cells": [
  {
   "cell_type": "code",
   "execution_count": 3,
   "metadata": {},
   "outputs": [],
   "source": [
    "import sklearn\n",
    "import numpy as np\n",
    "from numpy import ma\n",
    "import pandas as pd\n",
    "from sklearn.feature_extraction.text import CountVectorizer\n",
    "from sklearn.preprocessing import StandardScaler\n",
    "from sklearn import preprocessing\n",
    "\n",
    "\n",
    "import matplotlib.pyplot as plt\n",
    "%matplotlib inline\n",
    "\n",
    "from sklearn.linear_model import LogisticRegression"
   ]
  },
  {
   "cell_type": "code",
   "execution_count": 4,
   "metadata": {},
   "outputs": [
    {
     "name": "stderr",
     "output_type": "stream",
     "text": [
      "/usr/local/lib/python3.7/site-packages/IPython/core/interactiveshell.py:3020: DtypeWarning: Columns (2,3,4,5,6,7) have mixed types. Specify dtype option on import or set low_memory=False.\n",
      "  interactivity=interactivity, compiler=compiler, result=result)\n"
     ]
    }
   ],
   "source": [
    "names =['id', 'comment_text', 'toxic', 'severe_toxic', 'obscene', 'threat', 'insult', 'identity_hate']\n",
    "df = pd.read_csv('train.csv',header=None,sep=\",\",names=names, encoding = \"ISO-8859-1\")\n",
    "\n",
    "df['toxic_score'] = df[['toxic','severe_toxic','obscene', 'threat', 'insult', 'identity_hate']].max(axis=1)\n",
    "#drop unnecessary columns\n",
    "df = df.drop(['id', 'toxic','severe_toxic','obscene', 'threat', 'insult', 'identity_hate'], axis=1)\n",
    "#drop first row\n",
    "df.drop(df.index[:1], inplace=True)"
   ]
  },
  {
   "cell_type": "code",
   "execution_count": 5,
   "metadata": {},
   "outputs": [],
   "source": [
    "bad_words = []\n",
    "negative_file = open(\"negative-words.txt\", \"r\")\n",
    "for line in negative_file:\n",
    "    bad_words.append(line.strip(\"\\n\"))\n",
    "negative_file.close()\n",
    "profanity_file = open(\"profanity-words.txt\", \"r\")\n",
    "for line in profanity_file:\n",
    "    if (line.strip(\"\\n\") not in bad_words):\n",
    "        bad_words.append(line.strip(\"\\n\"))\n",
    "profanity_file.close()"
   ]
  },
  {
   "cell_type": "code",
   "execution_count": 6,
   "metadata": {},
   "outputs": [
    {
     "name": "stdout",
     "output_type": "stream",
     "text": [
      "[[0 0 0 ... 0 0 0]\n",
      " [0 0 0 ... 0 0 0]\n",
      " [0 0 0 ... 0 0 0]\n",
      " ...\n",
      " [0 0 0 ... 0 0 0]\n",
      " [0 0 0 ... 0 0 0]\n",
      " [0 0 0 ... 0 0 0]] [[0 0 0 ... 0 0 0]\n",
      " [0 0 0 ... 0 0 0]\n",
      " [0 0 0 ... 0 0 0]\n",
      " ...\n",
      " [0 0 0 ... 0 0 0]\n",
      " [0 0 0 ... 0 0 0]\n",
      " [0 0 0 ... 0 0 0]]\n"
     ]
    }
   ],
   "source": [
    "# making an even data set since ~16,000 are labeled as toxic\n",
    "# others of the 150,000 are labeled as non-toxic, so data-set is highly unbalanced\n",
    "# also making data set size 15000 since our laptops for some reason can't handle high data sizes\n",
    "data = df.values\n",
    "\n",
    "X = data[:,0].reshape((159571,1))\n",
    "Y = data[:,1].reshape((159571,1))\n",
    "\n",
    "toxic_count = 0\n",
    "not_toxic_count = 0\n",
    "val_toxic = 0\n",
    "val_not_toxic = 0\n",
    "\n",
    "X_tr = []\n",
    "Y_tr = []\n",
    "X_val = []\n",
    "Y_val = []\n",
    "\n",
    "data_size = 15000\n",
    "\n",
    "for index in range(0,159571):\n",
    "    if ((int(Y[index][0]) == 1 and toxic_count < 0.5 * data_size) or \n",
    "        (int(Y[index][0]) == 0 and not_toxic_count < 0.5 * data_size)):\n",
    "        Y_tr.append(int(Y[index][0]))\n",
    "        X_tr.append(X[index][0])\n",
    "        if (int(Y[index][0]) == 1):\n",
    "            toxic_count += 1\n",
    "        else:\n",
    "            not_toxic_count += 1\n",
    "    if toxic_count == 0.5 * data_size and not_toxic_count == 0.5 * data_size:\n",
    "        if ((int(Y[index][0]) == 1 and val_toxic < 0.5 * data_size) or \n",
    "            (int(Y[index][0]) == 0 and val_not_toxic < 0.5 * data_size)):\n",
    "            Y_val.append(int(Y[index][0]))\n",
    "            X_val.append(X[index][0])\n",
    "            if (int(Y[index][0]) == 1):\n",
    "                val_toxic += 1\n",
    "            else:\n",
    "                val_not_toxic += 1\n",
    "        if val_toxic + val_not_toxic == data_size:\n",
    "            break\n",
    "\n",
    "# X_tr = np.array(X_tr).reshape((15000, 1))\n",
    "Y_train = np.array(Y_tr).reshape((data_size, 1))\n",
    "Y_test = np.array(Y_val).reshape((data_size, 1))\n",
    "\n",
    "\n",
    "cv = sklearn.feature_extraction.text.CountVectorizer(vocabulary=bad_words)\n",
    "X_train = cv.fit_transform(X_tr).toarray()\n",
    "X_test = cv.fit_transform(X_val).toarray()\n",
    "\n",
    "print(X_train, X_test)"
   ]
  },
  {
   "cell_type": "code",
   "execution_count": 5,
   "metadata": {},
   "outputs": [
    {
     "name": "stderr",
     "output_type": "stream",
     "text": [
      "/usr/local/lib/python3.7/site-packages/sklearn/utils/validation.py:595: DataConversionWarning: Data with input dtype int64 was converted to float64 by the scale function.\n",
      "  warnings.warn(msg, DataConversionWarning)\n",
      "/usr/local/lib/python3.7/site-packages/sklearn/utils/validation.py:595: DataConversionWarning: Data with input dtype int64 was converted to float64 by the scale function.\n",
      "  warnings.warn(msg, DataConversionWarning)\n"
     ]
    }
   ],
   "source": [
    "#Preprocessing\n",
    "X_train = preprocessing.scale(X_train)\n",
    "X_test = preprocessing.scale(X_test)"
   ]
  },
  {
   "cell_type": "code",
   "execution_count": 6,
   "metadata": {},
   "outputs": [],
   "source": [
    "def logreg_model(c, penalty=\"l2\"):\n",
    "    solver = 'saga'\n",
    "    if penalty == \"l2\":\n",
    "        solver = 'sag'\n",
    "    logreg = LogisticRegression(penalty=penalty, C=c, solver=solver)\n",
    "    \n",
    "    logreg.fit(X_train, Y_train.ravel())\n",
    "    \n",
    "    Yhat_train = logreg.predict(X_train)\n",
    "    acc_train = logreg.score(X_train, Y_train.ravel())\n",
    "    \n",
    "    Yhat_test = logreg.predict(X_test)\n",
    "    acc_test = logreg.score(X_test, Y_test.ravel())\n",
    "    \n",
    "    print(\"Weights:\", logreg.coef_)\n",
    "    print(\"Intercept:\", logreg.intercept_)\n",
    "    \n",
    "    return acc_train, acc_test"
   ]
  },
  {
   "cell_type": "code",
   "execution_count": 7,
   "metadata": {},
   "outputs": [
    {
     "name": "stdout",
     "output_type": "stream",
     "text": [
      "Logistic Regression:\n"
     ]
    },
    {
     "name": "stderr",
     "output_type": "stream",
     "text": [
      "/usr/local/lib/python3.7/site-packages/sklearn/linear_model/sag.py:334: ConvergenceWarning: The max_iter was reached which means the coef_ did not converge\n",
      "  \"the coef_ did not converge\", ConvergenceWarning)\n"
     ]
    },
    {
     "name": "stdout",
     "output_type": "stream",
     "text": [
      "Weights: [[0.         0.         0.03987014 ... 0.0071711  0.         0.03935088]]\n",
      "Intercept: [0.13759802]\n",
      "Training accuracy: 0.7840666666666667\n",
      "Test accuracy: 0.7188666666666667\n",
      "\n",
      "Logistic Regression with Lasso\n",
      "C: 0.0001\n",
      "Weights: [[0. 0. 0. ... 0. 0. 0.]]\n",
      "Intercept: [0.00152387]\n",
      "Training accuracy: 0.5\n",
      "Testing accuracy: 0.5\n",
      "\n",
      "C: 0.001\n",
      "Weights: [[0. 0. 0. ... 0. 0. 0.]]\n",
      "Intercept: [-0.00082989]\n",
      "Training accuracy: 0.5\n",
      "Testing accuracy: 0.5\n",
      "\n",
      "C: 0.01\n"
     ]
    },
    {
     "name": "stderr",
     "output_type": "stream",
     "text": [
      "/usr/local/lib/python3.7/site-packages/sklearn/linear_model/sag.py:334: ConvergenceWarning: The max_iter was reached which means the coef_ did not converge\n",
      "  \"the coef_ did not converge\", ConvergenceWarning)\n"
     ]
    },
    {
     "name": "stdout",
     "output_type": "stream",
     "text": [
      "Weights: [[0. 0. 0. ... 0. 0. 0.]]\n",
      "Intercept: [0.04564727]\n",
      "Training accuracy: 0.7172\n",
      "Testing accuracy: 0.6849333333333333\n",
      "\n",
      "C: 0.1\n"
     ]
    },
    {
     "name": "stderr",
     "output_type": "stream",
     "text": [
      "/usr/local/lib/python3.7/site-packages/sklearn/linear_model/sag.py:334: ConvergenceWarning: The max_iter was reached which means the coef_ did not converge\n",
      "  \"the coef_ did not converge\", ConvergenceWarning)\n"
     ]
    },
    {
     "name": "stdout",
     "output_type": "stream",
     "text": [
      "Weights: [[0.         0.         0.03101044 ... 0.00508779 0.         0.02967071]]\n",
      "Intercept: [0.09897877]\n",
      "Training accuracy: 0.7816\n",
      "Testing accuracy: 0.7174\n",
      "\n",
      "C: 1\n"
     ]
    },
    {
     "name": "stderr",
     "output_type": "stream",
     "text": [
      "/usr/local/lib/python3.7/site-packages/sklearn/linear_model/sag.py:334: ConvergenceWarning: The max_iter was reached which means the coef_ did not converge\n",
      "  \"the coef_ did not converge\", ConvergenceWarning)\n"
     ]
    },
    {
     "name": "stdout",
     "output_type": "stream",
     "text": [
      "Weights: [[0.         0.         0.0384848  ... 0.00705164 0.         0.03809295]]\n",
      "Intercept: [0.10190829]\n",
      "Training accuracy: 0.7826666666666666\n",
      "Testing accuracy: 0.7169333333333333\n",
      "\n",
      "C: 10\n"
     ]
    },
    {
     "name": "stderr",
     "output_type": "stream",
     "text": [
      "/usr/local/lib/python3.7/site-packages/sklearn/linear_model/sag.py:334: ConvergenceWarning: The max_iter was reached which means the coef_ did not converge\n",
      "  \"the coef_ did not converge\", ConvergenceWarning)\n"
     ]
    },
    {
     "name": "stdout",
     "output_type": "stream",
     "text": [
      "Weights: [[0.         0.         0.03919906 ... 0.00726248 0.         0.03884383]]\n",
      "Intercept: [0.10221531]\n",
      "Training accuracy: 0.7827333333333333\n",
      "Testing accuracy: 0.7162666666666667\n",
      "\n",
      "C: 100\n"
     ]
    },
    {
     "name": "stderr",
     "output_type": "stream",
     "text": [
      "/usr/local/lib/python3.7/site-packages/sklearn/linear_model/sag.py:334: ConvergenceWarning: The max_iter was reached which means the coef_ did not converge\n",
      "  \"the coef_ did not converge\", ConvergenceWarning)\n"
     ]
    },
    {
     "name": "stdout",
     "output_type": "stream",
     "text": [
      "Weights: [[0.         0.         0.0396084  ... 0.00736603 0.         0.03895804]]\n",
      "Intercept: [0.10243739]\n",
      "Training accuracy: 0.7830666666666667\n",
      "Testing accuracy: 0.7162666666666667\n",
      "\n",
      "\n",
      "Logistic Regression with Ridge\n",
      "C: 0.0001\n",
      "Weights: [[0.         0.         0.00611452 ... 0.0026352  0.         0.00533911]]\n",
      "Intercept: [0.00414918]\n",
      "Training accuracy: 0.757\n",
      "Testing accuracy: 0.7098\n",
      "\n",
      "C: 0.001\n"
     ]
    },
    {
     "name": "stderr",
     "output_type": "stream",
     "text": [
      "/usr/local/lib/python3.7/site-packages/sklearn/linear_model/sag.py:334: ConvergenceWarning: The max_iter was reached which means the coef_ did not converge\n",
      "  \"the coef_ did not converge\", ConvergenceWarning)\n"
     ]
    },
    {
     "name": "stdout",
     "output_type": "stream",
     "text": [
      "Weights: [[0.         0.         0.02328382 ... 0.00639566 0.         0.02327437]]\n",
      "Intercept: [0.06669766]\n",
      "Training accuracy: 0.7794666666666666\n",
      "Testing accuracy: 0.7138666666666666\n",
      "\n",
      "C: 0.01\n"
     ]
    },
    {
     "name": "stderr",
     "output_type": "stream",
     "text": [
      "/usr/local/lib/python3.7/site-packages/sklearn/linear_model/sag.py:334: ConvergenceWarning: The max_iter was reached which means the coef_ did not converge\n",
      "  \"the coef_ did not converge\", ConvergenceWarning)\n"
     ]
    },
    {
     "name": "stdout",
     "output_type": "stream",
     "text": [
      "Weights: [[0.         0.         0.03717896 ... 0.00704333 0.         0.03686493]]\n",
      "Intercept: [0.12708641]\n",
      "Training accuracy: 0.7837333333333333\n",
      "Testing accuracy: 0.718\n",
      "\n",
      "C: 0.1\n"
     ]
    },
    {
     "name": "stderr",
     "output_type": "stream",
     "text": [
      "/usr/local/lib/python3.7/site-packages/sklearn/linear_model/sag.py:334: ConvergenceWarning: The max_iter was reached which means the coef_ did not converge\n",
      "  \"the coef_ did not converge\", ConvergenceWarning)\n"
     ]
    },
    {
     "name": "stdout",
     "output_type": "stream",
     "text": [
      "Weights: [[0.         0.         0.03949329 ... 0.00733965 0.         0.03856055]]\n",
      "Intercept: [0.13670172]\n",
      "Training accuracy: 0.7840666666666667\n",
      "Testing accuracy: 0.7188666666666667\n",
      "\n",
      "C: 1\n"
     ]
    },
    {
     "name": "stderr",
     "output_type": "stream",
     "text": [
      "/usr/local/lib/python3.7/site-packages/sklearn/linear_model/sag.py:334: ConvergenceWarning: The max_iter was reached which means the coef_ did not converge\n",
      "  \"the coef_ did not converge\", ConvergenceWarning)\n"
     ]
    },
    {
     "name": "stdout",
     "output_type": "stream",
     "text": [
      "Weights: [[0.         0.         0.03943734 ... 0.00729667 0.         0.03877244]]\n",
      "Intercept: [0.13807817]\n",
      "Training accuracy: 0.784\n",
      "Testing accuracy: 0.7188666666666667\n",
      "\n",
      "C: 10\n"
     ]
    },
    {
     "name": "stderr",
     "output_type": "stream",
     "text": [
      "/usr/local/lib/python3.7/site-packages/sklearn/linear_model/sag.py:334: ConvergenceWarning: The max_iter was reached which means the coef_ did not converge\n",
      "  \"the coef_ did not converge\", ConvergenceWarning)\n"
     ]
    },
    {
     "name": "stdout",
     "output_type": "stream",
     "text": [
      "Weights: [[0.         0.         0.03975924 ... 0.00727137 0.         0.03916455]]\n",
      "Intercept: [0.13839111]\n",
      "Training accuracy: 0.784\n",
      "Testing accuracy: 0.719\n",
      "\n",
      "C: 100\n"
     ]
    },
    {
     "name": "stderr",
     "output_type": "stream",
     "text": [
      "/usr/local/lib/python3.7/site-packages/sklearn/linear_model/sag.py:334: ConvergenceWarning: The max_iter was reached which means the coef_ did not converge\n",
      "  \"the coef_ did not converge\", ConvergenceWarning)\n"
     ]
    },
    {
     "name": "stdout",
     "output_type": "stream",
     "text": [
      "Weights: [[0.         0.         0.03988147 ... 0.0072482  0.         0.03860369]]\n",
      "Intercept: [0.13865024]\n",
      "Training accuracy: 0.784\n",
      "Testing accuracy: 0.7189333333333333\n",
      "\n",
      "\n"
     ]
    },
    {
     "data": {
      "image/png": "[encoded data removed]",
      "text/plain": [
       "<Figure size 432x288 with 1 Axes>"
      ]
     },
     "metadata": {
      "needs_background": "light"
     },
     "output_type": "display_data"
    },
    {
     "data": {
      "image/png": "[encoded data removed]",
      "text/plain": [
       "<Figure size 432x288 with 1 Axes>"
      ]
     },
     "metadata": {
      "needs_background": "light"
     },
     "output_type": "display_data"
    }
   ],
   "source": [
    "# regular logistic regression\n",
    "\n",
    "print(\"Logistic Regression:\")\n",
    "acc_train, acc_test = logreg_model(c=100000000)\n",
    "print(\"Training accuracy:\", acc_train)\n",
    "print(\"Test accuracy:\", acc_test)\n",
    "print()\n",
    "\n",
    "regularization = {\n",
    "    'l1': 'Lasso',\n",
    "    'l2': 'Ridge'\n",
    "}\n",
    "\n",
    "c_values = [0.0001, 0.001, 0.01, 0.1, 1, 10, 100]\n",
    "for key in regularization:\n",
    "    print(\"Logistic Regression with \" + regularization[key])\n",
    "    acc_training = []\n",
    "    acc_testing = []\n",
    "    for val in c_values:\n",
    "        print(\"C:\", val)\n",
    "        acc_tr, acc_te = logreg_model(c=val, penalty=key)\n",
    "        acc_training.append(acc_tr)\n",
    "        acc_testing.append(acc_te)\n",
    "        print('Training accuracy:', acc_tr)\n",
    "        print('Testing accuracy:', acc_te)\n",
    "        print()\n",
    "    plt.figure()\n",
    "    plt.plot(c_values, acc_training, 'r.-') \n",
    "    plt.plot(c_values, acc_testing,'b.-') \n",
    "    plt.grid()\n",
    "    plt.legend(['Training Accuracy', 'Test Accuracy'], loc='lower right')\n",
    "    print()"
   ]
  },
  {
   "cell_type": "markdown",
   "metadata": {},
   "source": [
    "# Normalizing the Data"
   ]
  },
  {
   "cell_type": "code",
   "execution_count": 6,
   "metadata": {},
   "outputs": [
    {
     "name": "stdout",
     "output_type": "stream",
     "text": [
      "[[0 0 0 ... 0 0 0]\n",
      " [0 0 0 ... 0 0 0]\n",
      " [0 0 0 ... 0 0 0]\n",
      " ...\n",
      " [0 0 0 ... 0 0 0]\n",
      " [0 0 0 ... 0 0 0]\n",
      " [0 0 0 ... 0 0 0]] [[0 0 0 ... 0 0 0]\n",
      " [0 0 0 ... 0 0 0]\n",
      " [0 0 0 ... 0 0 0]\n",
      " ...\n",
      " [0 0 0 ... 0 0 0]\n",
      " [0 0 0 ... 0 0 0]\n",
      " [0 0 0 ... 0 0 0]]\n"
     ]
    }
   ],
   "source": [
    "X_train_norm = cv.fit_transform(X_tr).toarray()\n",
    "X_test_norm = cv.fit_transform(X_val).toarray()\n",
    "\n",
    "print(X_train_norm, X_test_norm)\n",
    "\n",
    "#Preprocessing - Normalization\n",
    "X_train_norm = preprocessing.normalize(X_train_norm)\n",
    "X_test_norm = preprocessing.normalize(X_test_norm)"
   ]
  },
  {
   "cell_type": "code",
   "execution_count": 7,
   "metadata": {},
   "outputs": [],
   "source": [
    "def logreg_model_norm(c, penalty=\"l2\"):\n",
    "    solver = 'saga'\n",
    "    if penalty == \"l2\":\n",
    "        solver = 'sag'\n",
    "    logreg_norm = LogisticRegression(penalty=penalty, C=c, solver=solver)\n",
    "    \n",
    "    logreg_norm.fit(X_train_norm, Y_train.ravel())\n",
    "    \n",
    "    Yhat_train = logreg_norm.predict(X_train_norm)\n",
    "    acc_train_norm = logreg_norm.score(X_train_norm, Y_train.ravel())\n",
    "    \n",
    "    Yhat_test = logreg_norm.predict(X_test_norm)\n",
    "    acc_test_norm = logreg_norm.score(X_test_norm, Y_test.ravel())\n",
    "    \n",
    "    print(\"Weights:\", logreg_norm.coef_)\n",
    "    print(\"Intercept:\", logreg_norm.intercept_)\n",
    "    \n",
    "    return acc_train_norm, acc_test_norm"
   ]
  },
  {
   "cell_type": "code",
   "execution_count": 8,
   "metadata": {},
   "outputs": [
    {
     "name": "stdout",
     "output_type": "stream",
     "text": [
      "Logistic Regression - Normalized Data:\n"
     ]
    },
    {
     "name": "stderr",
     "output_type": "stream",
     "text": [
      "/usr/local/lib/python3.7/site-packages/sklearn/linear_model/sag.py:334: ConvergenceWarning: The max_iter was reached which means the coef_ did not converge\n",
      "  \"the coef_ did not converge\", ConvergenceWarning)\n"
     ]
    },
    {
     "name": "stdout",
     "output_type": "stream",
     "text": [
      "Weights: [[ 0.00000000e+00  0.00000000e+00  5.17791373e+00 ... -4.56399674e-03\n",
      "   0.00000000e+00  4.30846908e+00]]\n",
      "Intercept: [-1.60136739]\n",
      "Training accuracy: 0.9086666666666666\n",
      "Test accuracy: 0.8520666666666666\n",
      "\n"
     ]
    }
   ],
   "source": [
    "print(\"Logistic Regression - Normalized Data:\")\n",
    "acc_train_norm, acc_test_norm = logreg_model_norm(c=100000000)\n",
    "print(\"Training accuracy:\", acc_train_norm)\n",
    "print(\"Test accuracy:\", acc_test_norm)\n",
    "print()\n"
   ]
  },
  {
   "cell_type": "markdown",
   "metadata": {},
   "source": [
    "# Polynomial Features of Data"
   ]
  },
  {
   "cell_type": "code",
   "execution_count": null,
   "metadata": {},
   "outputs": [],
   "source": [
    "X_train_pf = cv.fit_transform(X_tr).toarray()\n",
    "X_test_pf = cv.fit_transform(X_val).toarray()\n",
    "\n",
    "#Preprocessing again\n",
    "poly = preprocessing.PolynomialFeatures(2)\n",
    "X_train_pf = poly.fit_transform(X_train_pf)\n",
    "X_test_pf = poly.fit_transform(X_test_pf)"
   ]
  },
  {
   "cell_type": "code",
   "execution_count": null,
   "metadata": {},
   "outputs": [],
   "source": [
    "def logreg_model_pf(c, penalty=\"l2\"):\n",
    "    solver = 'saga'\n",
    "    if penalty == \"l2\":\n",
    "        solver = 'sag'\n",
    "    logreg_pf = LogisticRegression(penalty=penalty, C=c, solver=solver)\n",
    "    \n",
    "    logreg_pf.fit(X_train_pf, Y_train.ravel())\n",
    "    \n",
    "    Yhat_train = logreg_pf.predict(X_train_pf)\n",
    "    acc_train_pf = logreg_pf.score(X_train_pf, Y_train.ravel())\n",
    "    \n",
    "    Yhat_test = logreg_pf.predict(X_test_pf)\n",
    "    acc_test_pf = logreg_pf.score(X_test_pf, Y_test.ravel())\n",
    "    \n",
    "    print(\"Weights:\", logreg_pf.coef_)\n",
    "    print(\"Intercept:\", logreg_pf.intercept_)\n",
    "    \n",
    "    return acc_train_pf, acc_test_pf"
   ]
  },
  {
   "cell_type": "code",
   "execution_count": null,
   "metadata": {},
   "outputs": [],
   "source": [
    "print(\"Logistic Regression - Power-Transformed Data:\")\n",
    "acc_train_pf, acc_test_pf = logreg_model_pf(c=100000000)\n",
    "print(\"Training accuracy:\", acc_train_pf)\n",
    "print(\"Test accuracy:\", acc_test_pf)\n",
    "print()\n",
    "\n",
    "#This overkilled the kernel hence there are no results"
   ]
  },
  {
   "cell_type": "markdown",
   "metadata": {},
   "source": [
    "# Min Max Feature Transformation"
   ]
  },
  {
   "cell_type": "code",
   "execution_count": 7,
   "metadata": {},
   "outputs": [
    {
     "name": "stderr",
     "output_type": "stream",
     "text": [
      "/usr/local/lib/python3.7/site-packages/sklearn/utils/validation.py:595: DataConversionWarning: Data with input dtype int64 was converted to float64.\n",
      "  warnings.warn(msg, DataConversionWarning)\n",
      "/usr/local/lib/python3.7/site-packages/sklearn/utils/validation.py:595: DataConversionWarning: Data with input dtype int64 was converted to float64.\n",
      "  warnings.warn(msg, DataConversionWarning)\n"
     ]
    }
   ],
   "source": [
    "X_train_mm = cv.fit_transform(X_tr).toarray()\n",
    "X_test_mm = cv.fit_transform(X_val).toarray()\n",
    "\n",
    "#Preprocessing - Min Max - center it between 0 and 1\n",
    "X_train_mm = preprocessing.minmax_scale(X_train_mm, feature_range=(0, 1))\n",
    "X_test_mm = preprocessing.minmax_scale(X_test_mm, feature_range=(0, 1))"
   ]
  },
  {
   "cell_type": "code",
   "execution_count": 8,
   "metadata": {},
   "outputs": [],
   "source": [
    "def logreg_model_mm(c, penalty=\"l2\"):\n",
    "    solver = 'saga'\n",
    "    if penalty == \"l2\":\n",
    "        solver = 'sag'\n",
    "    logreg_mm = LogisticRegression(penalty=penalty, C=c, solver=solver)\n",
    "    \n",
    "    logreg_mm.fit(X_train_mm, Y_train.ravel())\n",
    "    \n",
    "    Yhat_train = logreg_mm.predict(X_train_mm)\n",
    "    acc_train_mm = logreg_mm.score(X_train_mm, Y_train.ravel())\n",
    "    \n",
    "    Yhat_test = logreg_mm.predict(X_test_mm)\n",
    "    acc_test_mm = logreg_mm.score(X_test_mm, Y_test.ravel())\n",
    "    \n",
    "    print(\"Weights:\", logreg_mm.coef_)\n",
    "    print(\"Intercept:\", logreg_mm.intercept_)\n",
    "    \n",
    "    return acc_train_mm, acc_test_mm"
   ]
  },
  {
   "cell_type": "code",
   "execution_count": 9,
   "metadata": {},
   "outputs": [
    {
     "name": "stdout",
     "output_type": "stream",
     "text": [
      "Logistic Regression - Min-Max Data:\n"
     ]
    },
    {
     "name": "stderr",
     "output_type": "stream",
     "text": [
      "/usr/local/lib/python3.7/site-packages/sklearn/linear_model/sag.py:334: ConvergenceWarning: The max_iter was reached which means the coef_ did not converge\n",
      "  \"the coef_ did not converge\", ConvergenceWarning)\n"
     ]
    },
    {
     "name": "stdout",
     "output_type": "stream",
     "text": [
      "Weights: [[0.         0.         3.11953524 ... 0.2852822  0.         3.03205108]]\n",
      "Intercept: [-0.33305111]\n",
      "Training accuracy: 0.7779333333333334\n",
      "Test accuracy: 0.709\n",
      "\n"
     ]
    }
   ],
   "source": [
    "print(\"Logistic Regression - Min-Max Data:\")\n",
    "acc_train_mm, acc_test_mm = logreg_model_mm(c=100000000)\n",
    "print(\"Training accuracy:\", acc_train_mm)\n",
    "print(\"Test accuracy:\", acc_test_mm)\n",
    "print()\n"
   ]
  },
  {
   "cell_type": "code",
   "execution_count": null,
   "metadata": {},
   "outputs": [],
   "source": []
  }
 ],
 "metadata": {
  "kernelspec": {
   "display_name": "Python 3",
   "language": "python",
   "name": "python3"
  },
  "language_info": {
   "codemirror_mode": {
    "name": "ipython",
    "version": 3
   },
   "file_extension": ".py",
   "mimetype": "text/x-python",
   "name": "python",
   "nbconvert_exporter": "python",
   "pygments_lexer": "ipython3",
   "version": "3.7.1"
  }
 },
 "nbformat": 4,
 "nbformat_minor": 2
}
