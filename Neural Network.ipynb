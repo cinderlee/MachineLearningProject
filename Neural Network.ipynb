{
 "cells": [
  {
   "cell_type": "code",
   "execution_count": 1,
   "metadata": {},
   "outputs": [],
   "source": [
    "import sklearn\n",
    "import numpy as np\n",
    "from numpy import ma\n",
    "import pandas as pd\n",
    "from sklearn.feature_extraction.text import CountVectorizer\n",
    "from sklearn.preprocessing import StandardScaler\n",
    "from sklearn import preprocessing\n",
    "import numpy.random as r\n",
    "from sklearn.metrics import accuracy_score \n",
    "\n",
    "import matplotlib.pyplot as plt\n",
    "%matplotlib inline\n",
    "\n",
    "from sklearn.linear_model import LogisticRegression\n",
    "import tensorflow as tf\n",
    "from tensorflow import keras"
   ]
  },
  {
   "cell_type": "code",
   "execution_count": 2,
   "metadata": {},
   "outputs": [
    {
     "ename": "FileNotFoundError",
     "evalue": "File b'train.csv' does not exist",
     "output_type": "error",
     "traceback": [
      "\u001b[0;31m---------------------------------------------------------------------------\u001b[0m",
      "\u001b[0;31mFileNotFoundError\u001b[0m                         Traceback (most recent call last)",
      "\u001b[0;32m<ipython-input-2-2a455b7c2263>\u001b[0m in \u001b[0;36m<module>\u001b[0;34m\u001b[0m\n\u001b[1;32m      1\u001b[0m \u001b[0mnames\u001b[0m \u001b[0;34m=\u001b[0m\u001b[0;34m[\u001b[0m\u001b[0;34m'id'\u001b[0m\u001b[0;34m,\u001b[0m \u001b[0;34m'comment_text'\u001b[0m\u001b[0;34m,\u001b[0m \u001b[0;34m'toxic'\u001b[0m\u001b[0;34m,\u001b[0m \u001b[0;34m'severe_toxic'\u001b[0m\u001b[0;34m,\u001b[0m \u001b[0;34m'obscene'\u001b[0m\u001b[0;34m,\u001b[0m \u001b[0;34m'threat'\u001b[0m\u001b[0;34m,\u001b[0m \u001b[0;34m'insult'\u001b[0m\u001b[0;34m,\u001b[0m \u001b[0;34m'identity_hate'\u001b[0m\u001b[0;34m]\u001b[0m\u001b[0;34m\u001b[0m\u001b[0m\n\u001b[0;32m----> 2\u001b[0;31m \u001b[0mdf\u001b[0m \u001b[0;34m=\u001b[0m \u001b[0mpd\u001b[0m\u001b[0;34m.\u001b[0m\u001b[0mread_csv\u001b[0m\u001b[0;34m(\u001b[0m\u001b[0;34m'train.csv'\u001b[0m\u001b[0;34m,\u001b[0m\u001b[0mheader\u001b[0m\u001b[0;34m=\u001b[0m\u001b[0;32mNone\u001b[0m\u001b[0;34m,\u001b[0m\u001b[0msep\u001b[0m\u001b[0;34m=\u001b[0m\u001b[0;34m\",\"\u001b[0m\u001b[0;34m,\u001b[0m\u001b[0mnames\u001b[0m\u001b[0;34m=\u001b[0m\u001b[0mnames\u001b[0m\u001b[0;34m,\u001b[0m \u001b[0mencoding\u001b[0m \u001b[0;34m=\u001b[0m \u001b[0;34m\"ISO-8859-1\"\u001b[0m\u001b[0;34m)\u001b[0m\u001b[0;34m\u001b[0m\u001b[0m\n\u001b[0m\u001b[1;32m      3\u001b[0m \u001b[0;34m\u001b[0m\u001b[0m\n\u001b[1;32m      4\u001b[0m \u001b[0mnames_test\u001b[0m \u001b[0;34m=\u001b[0m\u001b[0;34m[\u001b[0m\u001b[0;34m'id'\u001b[0m\u001b[0;34m,\u001b[0m \u001b[0;34m'comment_text'\u001b[0m\u001b[0;34m]\u001b[0m\u001b[0;34m\u001b[0m\u001b[0m\n\u001b[1;32m      5\u001b[0m \u001b[0mdf_test\u001b[0m \u001b[0;34m=\u001b[0m \u001b[0mpd\u001b[0m\u001b[0;34m.\u001b[0m\u001b[0mread_csv\u001b[0m\u001b[0;34m(\u001b[0m\u001b[0;34m'test.csv'\u001b[0m\u001b[0;34m,\u001b[0m\u001b[0mheader\u001b[0m\u001b[0;34m=\u001b[0m\u001b[0;32mNone\u001b[0m\u001b[0;34m,\u001b[0m\u001b[0msep\u001b[0m\u001b[0;34m=\u001b[0m\u001b[0;34m\",\"\u001b[0m\u001b[0;34m,\u001b[0m\u001b[0mnames\u001b[0m\u001b[0;34m=\u001b[0m\u001b[0mnames_test\u001b[0m\u001b[0;34m,\u001b[0m \u001b[0mencoding\u001b[0m \u001b[0;34m=\u001b[0m \u001b[0;34m\"ISO-8859-1\"\u001b[0m\u001b[0;34m)\u001b[0m\u001b[0;34m\u001b[0m\u001b[0m\n",
      "\u001b[0;32m/Library/Frameworks/Python.framework/Versions/3.6/lib/python3.6/site-packages/pandas/io/parsers.py\u001b[0m in \u001b[0;36mparser_f\u001b[0;34m(filepath_or_buffer, sep, delimiter, header, names, index_col, usecols, squeeze, prefix, mangle_dupe_cols, dtype, engine, converters, true_values, false_values, skipinitialspace, skiprows, nrows, na_values, keep_default_na, na_filter, verbose, skip_blank_lines, parse_dates, infer_datetime_format, keep_date_col, date_parser, dayfirst, iterator, chunksize, compression, thousands, decimal, lineterminator, quotechar, quoting, escapechar, comment, encoding, dialect, tupleize_cols, error_bad_lines, warn_bad_lines, skipfooter, doublequote, delim_whitespace, low_memory, memory_map, float_precision)\u001b[0m\n\u001b[1;32m    676\u001b[0m                     skip_blank_lines=skip_blank_lines)\n\u001b[1;32m    677\u001b[0m \u001b[0;34m\u001b[0m\u001b[0m\n\u001b[0;32m--> 678\u001b[0;31m         \u001b[0;32mreturn\u001b[0m \u001b[0m_read\u001b[0m\u001b[0;34m(\u001b[0m\u001b[0mfilepath_or_buffer\u001b[0m\u001b[0;34m,\u001b[0m \u001b[0mkwds\u001b[0m\u001b[0;34m)\u001b[0m\u001b[0;34m\u001b[0m\u001b[0m\n\u001b[0m\u001b[1;32m    679\u001b[0m \u001b[0;34m\u001b[0m\u001b[0m\n\u001b[1;32m    680\u001b[0m     \u001b[0mparser_f\u001b[0m\u001b[0;34m.\u001b[0m\u001b[0m__name__\u001b[0m \u001b[0;34m=\u001b[0m \u001b[0mname\u001b[0m\u001b[0;34m\u001b[0m\u001b[0m\n",
      "\u001b[0;32m/Library/Frameworks/Python.framework/Versions/3.6/lib/python3.6/site-packages/pandas/io/parsers.py\u001b[0m in \u001b[0;36m_read\u001b[0;34m(filepath_or_buffer, kwds)\u001b[0m\n\u001b[1;32m    438\u001b[0m \u001b[0;34m\u001b[0m\u001b[0m\n\u001b[1;32m    439\u001b[0m     \u001b[0;31m# Create the parser.\u001b[0m\u001b[0;34m\u001b[0m\u001b[0;34m\u001b[0m\u001b[0m\n\u001b[0;32m--> 440\u001b[0;31m     \u001b[0mparser\u001b[0m \u001b[0;34m=\u001b[0m \u001b[0mTextFileReader\u001b[0m\u001b[0;34m(\u001b[0m\u001b[0mfilepath_or_buffer\u001b[0m\u001b[0;34m,\u001b[0m \u001b[0;34m**\u001b[0m\u001b[0mkwds\u001b[0m\u001b[0;34m)\u001b[0m\u001b[0;34m\u001b[0m\u001b[0m\n\u001b[0m\u001b[1;32m    441\u001b[0m \u001b[0;34m\u001b[0m\u001b[0m\n\u001b[1;32m    442\u001b[0m     \u001b[0;32mif\u001b[0m \u001b[0mchunksize\u001b[0m \u001b[0;32mor\u001b[0m \u001b[0miterator\u001b[0m\u001b[0;34m:\u001b[0m\u001b[0;34m\u001b[0m\u001b[0m\n",
      "\u001b[0;32m/Library/Frameworks/Python.framework/Versions/3.6/lib/python3.6/site-packages/pandas/io/parsers.py\u001b[0m in \u001b[0;36m__init__\u001b[0;34m(self, f, engine, **kwds)\u001b[0m\n\u001b[1;32m    785\u001b[0m             \u001b[0mself\u001b[0m\u001b[0;34m.\u001b[0m\u001b[0moptions\u001b[0m\u001b[0;34m[\u001b[0m\u001b[0;34m'has_index_names'\u001b[0m\u001b[0;34m]\u001b[0m \u001b[0;34m=\u001b[0m \u001b[0mkwds\u001b[0m\u001b[0;34m[\u001b[0m\u001b[0;34m'has_index_names'\u001b[0m\u001b[0;34m]\u001b[0m\u001b[0;34m\u001b[0m\u001b[0m\n\u001b[1;32m    786\u001b[0m \u001b[0;34m\u001b[0m\u001b[0m\n\u001b[0;32m--> 787\u001b[0;31m         \u001b[0mself\u001b[0m\u001b[0;34m.\u001b[0m\u001b[0m_make_engine\u001b[0m\u001b[0;34m(\u001b[0m\u001b[0mself\u001b[0m\u001b[0;34m.\u001b[0m\u001b[0mengine\u001b[0m\u001b[0;34m)\u001b[0m\u001b[0;34m\u001b[0m\u001b[0m\n\u001b[0m\u001b[1;32m    788\u001b[0m \u001b[0;34m\u001b[0m\u001b[0m\n\u001b[1;32m    789\u001b[0m     \u001b[0;32mdef\u001b[0m \u001b[0mclose\u001b[0m\u001b[0;34m(\u001b[0m\u001b[0mself\u001b[0m\u001b[0;34m)\u001b[0m\u001b[0;34m:\u001b[0m\u001b[0;34m\u001b[0m\u001b[0m\n",
      "\u001b[0;32m/Library/Frameworks/Python.framework/Versions/3.6/lib/python3.6/site-packages/pandas/io/parsers.py\u001b[0m in \u001b[0;36m_make_engine\u001b[0;34m(self, engine)\u001b[0m\n\u001b[1;32m   1012\u001b[0m     \u001b[0;32mdef\u001b[0m \u001b[0m_make_engine\u001b[0m\u001b[0;34m(\u001b[0m\u001b[0mself\u001b[0m\u001b[0;34m,\u001b[0m \u001b[0mengine\u001b[0m\u001b[0;34m=\u001b[0m\u001b[0;34m'c'\u001b[0m\u001b[0;34m)\u001b[0m\u001b[0;34m:\u001b[0m\u001b[0;34m\u001b[0m\u001b[0m\n\u001b[1;32m   1013\u001b[0m         \u001b[0;32mif\u001b[0m \u001b[0mengine\u001b[0m \u001b[0;34m==\u001b[0m \u001b[0;34m'c'\u001b[0m\u001b[0;34m:\u001b[0m\u001b[0;34m\u001b[0m\u001b[0m\n\u001b[0;32m-> 1014\u001b[0;31m             \u001b[0mself\u001b[0m\u001b[0;34m.\u001b[0m\u001b[0m_engine\u001b[0m \u001b[0;34m=\u001b[0m \u001b[0mCParserWrapper\u001b[0m\u001b[0;34m(\u001b[0m\u001b[0mself\u001b[0m\u001b[0;34m.\u001b[0m\u001b[0mf\u001b[0m\u001b[0;34m,\u001b[0m \u001b[0;34m**\u001b[0m\u001b[0mself\u001b[0m\u001b[0;34m.\u001b[0m\u001b[0moptions\u001b[0m\u001b[0;34m)\u001b[0m\u001b[0;34m\u001b[0m\u001b[0m\n\u001b[0m\u001b[1;32m   1015\u001b[0m         \u001b[0;32melse\u001b[0m\u001b[0;34m:\u001b[0m\u001b[0;34m\u001b[0m\u001b[0m\n\u001b[1;32m   1016\u001b[0m             \u001b[0;32mif\u001b[0m \u001b[0mengine\u001b[0m \u001b[0;34m==\u001b[0m \u001b[0;34m'python'\u001b[0m\u001b[0;34m:\u001b[0m\u001b[0;34m\u001b[0m\u001b[0m\n",
      "\u001b[0;32m/Library/Frameworks/Python.framework/Versions/3.6/lib/python3.6/site-packages/pandas/io/parsers.py\u001b[0m in \u001b[0;36m__init__\u001b[0;34m(self, src, **kwds)\u001b[0m\n\u001b[1;32m   1706\u001b[0m         \u001b[0mkwds\u001b[0m\u001b[0;34m[\u001b[0m\u001b[0;34m'usecols'\u001b[0m\u001b[0;34m]\u001b[0m \u001b[0;34m=\u001b[0m \u001b[0mself\u001b[0m\u001b[0;34m.\u001b[0m\u001b[0musecols\u001b[0m\u001b[0;34m\u001b[0m\u001b[0m\n\u001b[1;32m   1707\u001b[0m \u001b[0;34m\u001b[0m\u001b[0m\n\u001b[0;32m-> 1708\u001b[0;31m         \u001b[0mself\u001b[0m\u001b[0;34m.\u001b[0m\u001b[0m_reader\u001b[0m \u001b[0;34m=\u001b[0m \u001b[0mparsers\u001b[0m\u001b[0;34m.\u001b[0m\u001b[0mTextReader\u001b[0m\u001b[0;34m(\u001b[0m\u001b[0msrc\u001b[0m\u001b[0;34m,\u001b[0m \u001b[0;34m**\u001b[0m\u001b[0mkwds\u001b[0m\u001b[0;34m)\u001b[0m\u001b[0;34m\u001b[0m\u001b[0m\n\u001b[0m\u001b[1;32m   1709\u001b[0m \u001b[0;34m\u001b[0m\u001b[0m\n\u001b[1;32m   1710\u001b[0m         \u001b[0mpassed_names\u001b[0m \u001b[0;34m=\u001b[0m \u001b[0mself\u001b[0m\u001b[0;34m.\u001b[0m\u001b[0mnames\u001b[0m \u001b[0;32mis\u001b[0m \u001b[0;32mNone\u001b[0m\u001b[0;34m\u001b[0m\u001b[0m\n",
      "\u001b[0;32mpandas/_libs/parsers.pyx\u001b[0m in \u001b[0;36mpandas._libs.parsers.TextReader.__cinit__\u001b[0;34m()\u001b[0m\n",
      "\u001b[0;32mpandas/_libs/parsers.pyx\u001b[0m in \u001b[0;36mpandas._libs.parsers.TextReader._setup_parser_source\u001b[0;34m()\u001b[0m\n",
      "\u001b[0;31mFileNotFoundError\u001b[0m: File b'train.csv' does not exist"
     ]
    }
   ],
   "source": [
    "names =['id', 'comment_text', 'toxic', 'severe_toxic', 'obscene', 'threat', 'insult', 'identity_hate']\n",
    "df = pd.read_csv('train.csv',header=None,sep=\",\",names=names, encoding = \"ISO-8859-1\")\n",
    "\n",
    "names_test =['id', 'comment_text']\n",
    "df_test = pd.read_csv('test.csv',header=None,sep=\",\",names=names_test, encoding = \"ISO-8859-1\")"
   ]
  },
  {
   "cell_type": "code",
   "execution_count": null,
   "metadata": {},
   "outputs": [],
   "source": [
    "df['toxic_score'] = df[['toxic','severe_toxic','obscene', 'threat', 'insult', 'identity_hate']].max(axis=1)\n",
    "#drop unnecessary columns\n",
    "df = df.drop(['id', 'toxic','severe_toxic','obscene', 'threat', 'insult', 'identity_hate'], axis=1)\n",
    "#drop first row\n",
    "df.drop(df.index[:1], inplace=True)\n",
    "\n",
    "df_test = df_test.drop(['id'], axis=1)\n",
    "df_test.drop(df_test.index[:1], inplace=True)\n",
    "#df.drop(df.index[:150000], inplace=True) #smaller data set"
   ]
  },
  {
   "cell_type": "code",
   "execution_count": null,
   "metadata": {},
   "outputs": [],
   "source": [
    "# print(df)"
   ]
  },
  {
   "cell_type": "code",
   "execution_count": null,
   "metadata": {},
   "outputs": [],
   "source": [
    "df.head(5)\n",
    "df_test.head(5)"
   ]
  },
  {
   "cell_type": "code",
   "execution_count": null,
   "metadata": {},
   "outputs": [],
   "source": [
    "bad_words = []\n",
    "negative_file = open(\"negative-words.txt\", \"r\")\n",
    "for line in negative_file:\n",
    "    bad_words.append(line.strip(\"\\n\"))\n",
    "negative_file.close()\n",
    "profanity_file = open(\"profanity-words.txt\", \"r\")\n",
    "for line in profanity_file:\n",
    "    if (line.strip(\"\\n\") not in bad_words):\n",
    "        bad_words.append(line.strip(\"\\n\"))\n",
    "profanity_file.close()\n",
    "# print(bad_words)"
   ]
  },
  {
   "cell_type": "code",
   "execution_count": 3,
   "metadata": {},
   "outputs": [
    {
     "ename": "NameError",
     "evalue": "name 'df' is not defined",
     "output_type": "error",
     "traceback": [
      "\u001b[0;31m---------------------------------------------------------------------------\u001b[0m",
      "\u001b[0;31mNameError\u001b[0m                                 Traceback (most recent call last)",
      "\u001b[0;32m<ipython-input-3-269940f3e16f>\u001b[0m in \u001b[0;36m<module>\u001b[0;34m\u001b[0m\n\u001b[1;32m      1\u001b[0m \u001b[0;31m# because we have a lot of features, scaling the data set size down to 3000\u001b[0m\u001b[0;34m\u001b[0m\u001b[0;34m\u001b[0m\u001b[0m\n\u001b[1;32m      2\u001b[0m \u001b[0;34m\u001b[0m\u001b[0m\n\u001b[0;32m----> 3\u001b[0;31m \u001b[0mdata\u001b[0m \u001b[0;34m=\u001b[0m \u001b[0mdf\u001b[0m\u001b[0;34m.\u001b[0m\u001b[0mvalues\u001b[0m\u001b[0;34m\u001b[0m\u001b[0m\n\u001b[0m\u001b[1;32m      4\u001b[0m \u001b[0;34m\u001b[0m\u001b[0m\n\u001b[1;32m      5\u001b[0m \u001b[0mX\u001b[0m \u001b[0;34m=\u001b[0m \u001b[0mdata\u001b[0m\u001b[0;34m[\u001b[0m\u001b[0;34m:\u001b[0m\u001b[0;34m,\u001b[0m\u001b[0;36m0\u001b[0m\u001b[0;34m]\u001b[0m\u001b[0;34m.\u001b[0m\u001b[0mreshape\u001b[0m\u001b[0;34m(\u001b[0m\u001b[0;34m(\u001b[0m\u001b[0;36m159571\u001b[0m\u001b[0;34m,\u001b[0m\u001b[0;36m1\u001b[0m\u001b[0;34m)\u001b[0m\u001b[0;34m)\u001b[0m\u001b[0;34m\u001b[0m\u001b[0m\n",
      "\u001b[0;31mNameError\u001b[0m: name 'df' is not defined"
     ]
    }
   ],
   "source": [
    "# because we have a lot of features, scaling the data set size down to 3000\n",
    "\n",
    "data = df.values\n",
    "\n",
    "X = data[:,0].reshape((159571,1))\n",
    "Y = data[:,1].reshape((159571,1))\n",
    "\n",
    "toxic_count = 0\n",
    "not_toxic_count = 0\n",
    "val_toxic = 0\n",
    "val_not_toxic = 0\n",
    "test_count = 0\n",
    "\n",
    "X_training = []\n",
    "Y_training = []\n",
    "X_validation = []\n",
    "Y_validation = []\n",
    "X_testing = []\n",
    "Y_testing = []\n",
    "\n",
    "data_size = 15000\n",
    "\n",
    "for index in range(0,159571):\n",
    "    if ((int(Y[index][0]) == 1 and toxic_count < 0.5 * data_size) or \n",
    "        (int(Y[index][0]) == 0 and not_toxic_count < 0.5 * data_size)):\n",
    "        Y_training.append(int(Y[index][0]))\n",
    "        X_training.append(X[index][0])\n",
    "        if (int(Y[index][0]) == 1):\n",
    "            toxic_count += 1\n",
    "        else:\n",
    "            not_toxic_count += 1\n",
    "    else:\n",
    "        if ((int(Y[index][0]) == 1 and val_toxic < 0.5 * data_size) or \n",
    "            (int(Y[index][0]) == 0 and val_not_toxic < 0.5 * data_size)):\n",
    "            Y_validation.append(int(Y[index][0]))\n",
    "            X_validation.append(X[index][0])\n",
    "            if (int(Y[index][0]) == 1):\n",
    "                val_toxic += 1\n",
    "            else:\n",
    "                val_not_toxic += 1\n",
    "        else:\n",
    "            if(test_count < data_size * 2):\n",
    "                Y_testing.append(int(Y[index][0]))\n",
    "                X_testing.append(X[index][0])\n",
    "                test_count += 1\n",
    "    if (toxic_count + not_toxic_count == data_size and \n",
    "        val_toxic + val_not_toxic == data_size and \n",
    "        test_count == data_size * 2):\n",
    "        break\n",
    "                \n",
    "# X_tr = np.array(X_tr).reshape((15000, 1))\n",
    "Y_train = np.array(Y_training).reshape((data_size, 1))\n",
    "Y_test = np.array(Y_testing).reshape((data_size * 2, 1))\n",
    "Y_val = np.array(Y_validation).reshape((data_size, 1))\n",
    "\n",
    "\n",
    "cv = sklearn.feature_extraction.text.CountVectorizer(vocabulary=bad_words)\n",
    "X_train = cv.fit_transform(X_training).toarray()\n",
    "X_test = cv.fit_transform(X_testing).toarray()\n",
    "X_val = cv.fit_transform(X_validation).toarray()"
   ]
  },
  {
   "cell_type": "markdown",
   "metadata": {},
   "source": [
    "# Neural Networks Not Scaled - Sigmoid"
   ]
  },
  {
   "cell_type": "code",
   "execution_count": 8,
   "metadata": {},
   "outputs": [
    {
     "name": "stdout",
     "output_type": "stream",
     "text": [
      "WARNING:tensorflow:From /usr/local/lib/python3.7/site-packages/tensorflow/python/ops/resource_variable_ops.py:435: colocate_with (from tensorflow.python.framework.ops) is deprecated and will be removed in a future version.\n",
      "Instructions for updating:\n",
      "Colocations handled automatically by placer.\n",
      "_________________________________________________________________\n",
      "Layer (type)                 Output Shape              Param #   \n",
      "=================================================================\n",
      "dense (Dense)                (None, 5213)              27180582  \n",
      "_________________________________________________________________\n",
      "dense_1 (Dense)              (None, 1500)              7821000   \n",
      "_________________________________________________________________\n",
      "dense_2 (Dense)              (None, 1500)              2251500   \n",
      "_________________________________________________________________\n",
      "dense_3 (Dense)              (None, 1)                 1501      \n",
      "=================================================================\n",
      "Total params: 37,254,583\n",
      "Trainable params: 37,254,583\n",
      "Non-trainable params: 0\n",
      "_________________________________________________________________\n"
     ]
    }
   ],
   "source": [
    "#using tensorflow to make the neural network\n",
    "num_features = len(bad_words)\n",
    "\n",
    "model = keras.Sequential()\n",
    "model.add(keras.layers.Dense(units=num_features, input_shape=(num_features,)))\n",
    "model.add(keras.layers.Dense(units=1500, activation=tf.nn.sigmoid))\n",
    "model.add(keras.layers.Dense(units=1500, activation=tf.nn.sigmoid))\n",
    "model.add(keras.layers.Dense(units=1, activation=tf.nn.sigmoid))\n",
    "\n",
    "model.summary()"
   ]
  },
  {
   "cell_type": "code",
   "execution_count": 9,
   "metadata": {},
   "outputs": [],
   "source": [
    "model.compile(optimizer='adam',\n",
    "              loss='binary_crossentropy',\n",
    "              metrics=['acc'])"
   ]
  },
  {
   "cell_type": "code",
   "execution_count": 10,
   "metadata": {},
   "outputs": [
    {
     "name": "stdout",
     "output_type": "stream",
     "text": [
      "Train on 15000 samples, validate on 15000 samples\n",
      "WARNING:tensorflow:From /usr/local/lib/python3.7/site-packages/tensorflow/python/ops/math_ops.py:3066: to_int32 (from tensorflow.python.ops.math_ops) is deprecated and will be removed in a future version.\n",
      "Instructions for updating:\n",
      "Use tf.cast instead.\n",
      "Epoch 1/30\n",
      "15000/15000 [==============================] - 30s 2ms/sample - loss: 0.8821 - acc: 0.6425 - val_loss: 0.3690 - val_acc: 0.8563\n",
      "Epoch 2/30\n",
      "15000/15000 [==============================] - 29s 2ms/sample - loss: 0.3440 - acc: 0.8739 - val_loss: 0.3725 - val_acc: 0.8566\n",
      "Epoch 3/30\n",
      "15000/15000 [==============================] - 31s 2ms/sample - loss: 0.3016 - acc: 0.8917 - val_loss: 0.3866 - val_acc: 0.8563\n",
      "Epoch 4/30\n",
      "15000/15000 [==============================] - 31s 2ms/sample - loss: 0.2885 - acc: 0.8937 - val_loss: 0.3920 - val_acc: 0.8570\n",
      "Epoch 5/30\n",
      "15000/15000 [==============================] - 30s 2ms/sample - loss: 0.2789 - acc: 0.8975 - val_loss: 0.4023 - val_acc: 0.8545\n",
      "Epoch 6/30\n",
      "15000/15000 [==============================] - 30s 2ms/sample - loss: 0.2748 - acc: 0.8994 - val_loss: 0.4009 - val_acc: 0.8554\n",
      "Epoch 7/30\n",
      "15000/15000 [==============================] - 29s 2ms/sample - loss: 0.2712 - acc: 0.9013 - val_loss: 0.4032 - val_acc: 0.8535\n",
      "Epoch 8/30\n",
      "15000/15000 [==============================] - 30s 2ms/sample - loss: 0.2681 - acc: 0.9019 - val_loss: 0.4084 - val_acc: 0.8539\n",
      "Epoch 9/30\n",
      "15000/15000 [==============================] - 29s 2ms/sample - loss: 0.2650 - acc: 0.9017 - val_loss: 0.4114 - val_acc: 0.8537\n",
      "Epoch 10/30\n",
      "15000/15000 [==============================] - 29s 2ms/sample - loss: 0.2602 - acc: 0.9031 - val_loss: 0.4173 - val_acc: 0.8542\n",
      "Epoch 11/30\n",
      "15000/15000 [==============================] - 29s 2ms/sample - loss: 0.2524 - acc: 0.9033 - val_loss: 0.4139 - val_acc: 0.8538\n",
      "Epoch 12/30\n",
      "15000/15000 [==============================] - 29s 2ms/sample - loss: 0.2464 - acc: 0.9056 - val_loss: 0.4406 - val_acc: 0.8526\n",
      "Epoch 13/30\n",
      "15000/15000 [==============================] - 29s 2ms/sample - loss: 0.2421 - acc: 0.9053 - val_loss: 0.4517 - val_acc: 0.8536\n",
      "Epoch 14/30\n",
      "15000/15000 [==============================] - 29s 2ms/sample - loss: 0.2373 - acc: 0.9071 - val_loss: 0.4732 - val_acc: 0.8471\n",
      "Epoch 15/30\n",
      "15000/15000 [==============================] - 29s 2ms/sample - loss: 0.2369 - acc: 0.9066 - val_loss: 0.4603 - val_acc: 0.8463\n",
      "Epoch 16/30\n",
      "15000/15000 [==============================] - 30s 2ms/sample - loss: 0.2352 - acc: 0.9087 - val_loss: 0.4820 - val_acc: 0.8515\n",
      "Epoch 17/30\n",
      "15000/15000 [==============================] - 29s 2ms/sample - loss: 0.2338 - acc: 0.9083 - val_loss: 0.4870 - val_acc: 0.8513\n",
      "Epoch 18/30\n",
      "15000/15000 [==============================] - 29s 2ms/sample - loss: 0.2288 - acc: 0.9099 - val_loss: 0.5056 - val_acc: 0.8463\n",
      "Epoch 19/30\n",
      "15000/15000 [==============================] - 29s 2ms/sample - loss: 0.2265 - acc: 0.9109 - val_loss: 0.4960 - val_acc: 0.8484\n",
      "Epoch 20/30\n",
      "15000/15000 [==============================] - 29s 2ms/sample - loss: 0.2253 - acc: 0.9119 - val_loss: 0.5098 - val_acc: 0.8495\n",
      "Epoch 21/30\n",
      "15000/15000 [==============================] - 30s 2ms/sample - loss: 0.2244 - acc: 0.9117 - val_loss: 0.5227 - val_acc: 0.8515\n",
      "Epoch 22/30\n",
      "15000/15000 [==============================] - 29s 2ms/sample - loss: 0.2220 - acc: 0.9131 - val_loss: 0.5213 - val_acc: 0.8463\n",
      "Epoch 23/30\n",
      "15000/15000 [==============================] - 29s 2ms/sample - loss: 0.2219 - acc: 0.9134 - val_loss: 0.5371 - val_acc: 0.8507\n",
      "Epoch 24/30\n",
      "15000/15000 [==============================] - 30s 2ms/sample - loss: 0.2211 - acc: 0.9124 - val_loss: 0.5229 - val_acc: 0.8447\n",
      "Epoch 25/30\n",
      "15000/15000 [==============================] - 30s 2ms/sample - loss: 0.2189 - acc: 0.9139 - val_loss: 0.5400 - val_acc: 0.8494\n",
      "Epoch 26/30\n",
      "15000/15000 [==============================] - 30s 2ms/sample - loss: 0.2189 - acc: 0.9137 - val_loss: 0.5392 - val_acc: 0.8492\n",
      "Epoch 27/30\n",
      "15000/15000 [==============================] - 28s 2ms/sample - loss: 0.2188 - acc: 0.9142 - val_loss: 0.5450 - val_acc: 0.8498\n",
      "Epoch 28/30\n",
      "15000/15000 [==============================] - 28s 2ms/sample - loss: 0.2148 - acc: 0.9147 - val_loss: 0.5499 - val_acc: 0.8479\n",
      "Epoch 29/30\n",
      "15000/15000 [==============================] - 28s 2ms/sample - loss: 0.2140 - acc: 0.9159 - val_loss: 0.5404 - val_acc: 0.8472\n",
      "Epoch 30/30\n",
      "15000/15000 [==============================] - 27s 2ms/sample - loss: 0.2134 - acc: 0.9167 - val_loss: 0.5682 - val_acc: 0.8457\n"
     ]
    }
   ],
   "source": [
    "training = model.fit(X_train,\n",
    "                    Y_train,\n",
    "                    epochs=30,\n",
    "                    batch_size=500,\n",
    "                    validation_data=(X_val, Y_val),\n",
    "                    verbose=1)"
   ]
  },
  {
   "cell_type": "code",
   "execution_count": 11,
   "metadata": {},
   "outputs": [
    {
     "name": "stdout",
     "output_type": "stream",
     "text": [
      "30000/30000 [==============================] - 23s 762us/sample - loss: 0.4588 - acc: 0.9144\n",
      "[0.4587731474518776, 0.91443336]\n"
     ]
    }
   ],
   "source": [
    "results = model.evaluate(X_test, Y_test)\n",
    "print(results)"
   ]
  },
  {
   "cell_type": "code",
   "execution_count": 12,
   "metadata": {},
   "outputs": [
    {
     "data": {
      "image/png": "[encoded data removed]",
      "text/plain": [
       "<Figure size 432x288 with 1 Axes>"
      ]
     },
     "metadata": {
      "needs_background": "light"
     },
     "output_type": "display_data"
    }
   ],
   "source": [
    "training_hist = training.history\n",
    "train_acc = training_hist['acc']\n",
    "val_acc = training_hist['val_acc']\n",
    "plt.figure()   \n",
    "num_epochs = range(1, len(train_acc) + 1)\n",
    "plt.plot(num_epochs, train_acc, 'b.-', label='Training acc')\n",
    "plt.plot(num_epochs, val_acc, 'r.-', label='Validation acc')\n",
    "plt.title('Training and validation accuracy for not scaled data')\n",
    "plt.xlabel('Epochs')\n",
    "plt.ylabel('Accuracy')\n",
    "plt.legend()\n",
    "\n",
    "plt.show()"
   ]
  },
  {
   "cell_type": "code",
   "execution_count": 13,
   "metadata": {},
   "outputs": [],
   "source": [
    "# create neural network"
   ]
  },
  {
   "cell_type": "markdown",
   "metadata": {},
   "source": [
    "# Neural Networks Scaling - Sigmoid"
   ]
  },
  {
   "cell_type": "code",
   "execution_count": 14,
   "metadata": {},
   "outputs": [
    {
     "name": "stderr",
     "output_type": "stream",
     "text": [
      "/usr/local/lib/python3.7/site-packages/sklearn/utils/validation.py:595: DataConversionWarning: Data with input dtype int64 was converted to float64 by StandardScaler.\n",
      "  warnings.warn(msg, DataConversionWarning)\n",
      "/usr/local/lib/python3.7/site-packages/sklearn/utils/validation.py:595: DataConversionWarning: Data with input dtype int64 was converted to float64 by StandardScaler.\n",
      "  warnings.warn(msg, DataConversionWarning)\n",
      "/usr/local/lib/python3.7/site-packages/sklearn/utils/validation.py:595: DataConversionWarning: Data with input dtype int64 was converted to float64 by StandardScaler.\n",
      "  warnings.warn(msg, DataConversionWarning)\n",
      "/usr/local/lib/python3.7/site-packages/sklearn/utils/validation.py:595: DataConversionWarning: Data with input dtype int64 was converted to float64 by StandardScaler.\n",
      "  warnings.warn(msg, DataConversionWarning)\n",
      "/usr/local/lib/python3.7/site-packages/sklearn/utils/validation.py:595: DataConversionWarning: Data with input dtype int64 was converted to float64 by StandardScaler.\n",
      "  warnings.warn(msg, DataConversionWarning)\n",
      "/usr/local/lib/python3.7/site-packages/sklearn/utils/validation.py:595: DataConversionWarning: Data with input dtype int64 was converted to float64 by StandardScaler.\n",
      "  warnings.warn(msg, DataConversionWarning)\n"
     ]
    }
   ],
   "source": [
    "X_scale = StandardScaler()\n",
    "X_tr = X_scale.fit_transform(X_train)\n",
    "X_te = X_scale.fit_transform(X_test)\n",
    "X_va = X_scale.fit_transform(X_val)"
   ]
  },
  {
   "cell_type": "code",
   "execution_count": 15,
   "metadata": {},
   "outputs": [
    {
     "name": "stdout",
     "output_type": "stream",
     "text": [
      "_________________________________________________________________\n",
      "Layer (type)                 Output Shape              Param #   \n",
      "=================================================================\n",
      "dense_4 (Dense)              (None, 5213)              27180582  \n",
      "_________________________________________________________________\n",
      "dense_5 (Dense)              (None, 1500)              7821000   \n",
      "_________________________________________________________________\n",
      "dense_6 (Dense)              (None, 1500)              2251500   \n",
      "_________________________________________________________________\n",
      "dense_7 (Dense)              (None, 1)                 1501      \n",
      "=================================================================\n",
      "Total params: 37,254,583\n",
      "Trainable params: 37,254,583\n",
      "Non-trainable params: 0\n",
      "_________________________________________________________________\n"
     ]
    }
   ],
   "source": [
    "model_scale = keras.Sequential()\n",
    "model_scale.add(keras.layers.Dense(units=num_features, input_shape=(num_features,)))\n",
    "model_scale.add(keras.layers.Dense(units=1500, activation=tf.nn.sigmoid))\n",
    "model_scale.add(keras.layers.Dense(units=1500, activation=tf.nn.sigmoid))\n",
    "model_scale.add(keras.layers.Dense(units=1, activation=tf.nn.sigmoid))\n",
    "model_scale.compile(optimizer='adam',\n",
    "                    loss='binary_crossentropy',\n",
    "                    metrics=['acc'])\n",
    "model_scale.summary()"
   ]
  },
  {
   "cell_type": "code",
   "execution_count": 16,
   "metadata": {},
   "outputs": [
    {
     "name": "stdout",
     "output_type": "stream",
     "text": [
      "Train on 15000 samples, validate on 15000 samples\n",
      "Epoch 1/30\n",
      "15000/15000 [==============================] - 33s 2ms/sample - loss: 0.9162 - acc: 0.6145 - val_loss: 0.5771 - val_acc: 0.7013\n",
      "Epoch 2/30\n",
      "15000/15000 [==============================] - 31s 2ms/sample - loss: 0.4674 - acc: 0.7894 - val_loss: 0.5545 - val_acc: 0.7253\n",
      "Epoch 3/30\n",
      "15000/15000 [==============================] - 30s 2ms/sample - loss: 0.4167 - acc: 0.8145 - val_loss: 0.5831 - val_acc: 0.7351\n",
      "Epoch 4/30\n",
      "15000/15000 [==============================] - 29s 2ms/sample - loss: 0.3792 - acc: 0.8367 - val_loss: 0.5788 - val_acc: 0.7495\n",
      "Epoch 5/30\n",
      "15000/15000 [==============================] - 30s 2ms/sample - loss: 0.3576 - acc: 0.8452 - val_loss: 0.7465 - val_acc: 0.7342\n",
      "Epoch 6/30\n",
      "15000/15000 [==============================] - 31s 2ms/sample - loss: 0.3413 - acc: 0.8565 - val_loss: 0.6622 - val_acc: 0.7449\n",
      "Epoch 7/30\n",
      "15000/15000 [==============================] - 30s 2ms/sample - loss: 0.3154 - acc: 0.8701 - val_loss: 0.7573 - val_acc: 0.7459\n",
      "Epoch 8/30\n",
      "15000/15000 [==============================] - 30s 2ms/sample - loss: 0.3016 - acc: 0.8786 - val_loss: 0.8000 - val_acc: 0.7483\n",
      "Epoch 9/30\n",
      "15000/15000 [==============================] - 29s 2ms/sample - loss: 0.3026 - acc: 0.8789 - val_loss: 0.7759 - val_acc: 0.7453\n",
      "Epoch 10/30\n",
      "15000/15000 [==============================] - 28s 2ms/sample - loss: 0.2899 - acc: 0.8863 - val_loss: 0.8720 - val_acc: 0.7397\n",
      "Epoch 11/30\n",
      "15000/15000 [==============================] - 28s 2ms/sample - loss: 0.2858 - acc: 0.8880 - val_loss: 0.8635 - val_acc: 0.7434\n",
      "Epoch 12/30\n",
      "15000/15000 [==============================] - 28s 2ms/sample - loss: 0.2776 - acc: 0.8914 - val_loss: 1.0142 - val_acc: 0.7402\n",
      "Epoch 13/30\n",
      "15000/15000 [==============================] - 27s 2ms/sample - loss: 0.2758 - acc: 0.8906 - val_loss: 1.0414 - val_acc: 0.7397\n",
      "Epoch 14/30\n",
      "15000/15000 [==============================] - 27s 2ms/sample - loss: 0.2713 - acc: 0.8915 - val_loss: 1.0823 - val_acc: 0.7348\n",
      "Epoch 15/30\n",
      "15000/15000 [==============================] - 28s 2ms/sample - loss: 0.2834 - acc: 0.8891 - val_loss: 0.8666 - val_acc: 0.7452\n",
      "Epoch 16/30\n",
      "15000/15000 [==============================] - 28s 2ms/sample - loss: 0.2655 - acc: 0.8929 - val_loss: 1.0089 - val_acc: 0.7375\n",
      "Epoch 17/30\n",
      "15000/15000 [==============================] - 28s 2ms/sample - loss: 0.2633 - acc: 0.8957 - val_loss: 0.9648 - val_acc: 0.7434\n",
      "Epoch 18/30\n",
      "15000/15000 [==============================] - 28s 2ms/sample - loss: 0.2608 - acc: 0.8960 - val_loss: 0.9743 - val_acc: 0.7392\n",
      "Epoch 19/30\n",
      "15000/15000 [==============================] - 30s 2ms/sample - loss: 0.2580 - acc: 0.8973 - val_loss: 1.0166 - val_acc: 0.7328\n",
      "Epoch 20/30\n",
      "15000/15000 [==============================] - 30s 2ms/sample - loss: 0.2607 - acc: 0.8998 - val_loss: 0.9225 - val_acc: 0.7405\n",
      "Epoch 21/30\n",
      "15000/15000 [==============================] - 29s 2ms/sample - loss: 0.2559 - acc: 0.9011 - val_loss: 0.8629 - val_acc: 0.7256\n",
      "Epoch 22/30\n",
      "15000/15000 [==============================] - 30s 2ms/sample - loss: 0.2531 - acc: 0.9017 - val_loss: 0.9580 - val_acc: 0.7353\n",
      "Epoch 23/30\n",
      "15000/15000 [==============================] - 31s 2ms/sample - loss: 0.2474 - acc: 0.9018 - val_loss: 0.9450 - val_acc: 0.7371\n",
      "Epoch 24/30\n",
      "15000/15000 [==============================] - 30s 2ms/sample - loss: 0.2389 - acc: 0.9061 - val_loss: 0.9024 - val_acc: 0.7374\n",
      "Epoch 25/30\n",
      "15000/15000 [==============================] - 29s 2ms/sample - loss: 0.2454 - acc: 0.9064 - val_loss: 0.8291 - val_acc: 0.7422\n",
      "Epoch 26/30\n",
      "15000/15000 [==============================] - 29s 2ms/sample - loss: 0.2350 - acc: 0.9073 - val_loss: 0.8788 - val_acc: 0.7353\n",
      "Epoch 27/30\n",
      "15000/15000 [==============================] - 29s 2ms/sample - loss: 0.2305 - acc: 0.9099 - val_loss: 1.0205 - val_acc: 0.7309\n",
      "Epoch 28/30\n",
      "15000/15000 [==============================] - 30s 2ms/sample - loss: 0.2368 - acc: 0.9094 - val_loss: 0.8871 - val_acc: 0.7341\n",
      "Epoch 29/30\n",
      "15000/15000 [==============================] - 30s 2ms/sample - loss: 0.2341 - acc: 0.9099 - val_loss: 0.8877 - val_acc: 0.7355\n",
      "Epoch 30/30\n",
      "15000/15000 [==============================] - 31s 2ms/sample - loss: 0.2297 - acc: 0.9109 - val_loss: 0.9204 - val_acc: 0.7300\n"
     ]
    }
   ],
   "source": [
    "train_scale = model_scale.fit(X_tr,\n",
    "                              Y_train, \n",
    "                              epochs=30, \n",
    "                              batch_size=500, \n",
    "                              validation_data=(X_va, Y_val), \n",
    "                              verbose=1)"
   ]
  },
  {
   "cell_type": "code",
   "execution_count": 19,
   "metadata": {},
   "outputs": [
    {
     "name": "stdout",
     "output_type": "stream",
     "text": [
      "30000/30000 [==============================] - 24s 789us/sample - loss: 3.2830 - acc: 0.2852\n",
      "[3.2830106524149576, 0.2852]\n"
     ]
    }
   ],
   "source": [
    "results = model_scale.evaluate(X_te, Y_test)\n",
    "print(results)"
   ]
  },
  {
   "cell_type": "code",
   "execution_count": 20,
   "metadata": {},
   "outputs": [
    {
     "data": {
      "image/png": "[encoded data removed]",
      "text/plain": [
       "<Figure size 432x288 with 1 Axes>"
      ]
     },
     "metadata": {
      "needs_background": "light"
     },
     "output_type": "display_data"
    }
   ],
   "source": [
    "train_hist_scale = train_scale.history\n",
    "train_acc_scale = train_hist_scale['acc']\n",
    "val_acc_scale = train_hist_scale['val_acc']\n",
    "plt.figure()   \n",
    "num_epochs_scale = range(1, len(train_acc_scale) + 1)\n",
    "plt.plot(num_epochs_scale, train_acc_scale, 'b.-', label='Training acc')\n",
    "plt.plot(num_epochs_scale, val_acc_scale, 'r.-', label='Validation acc')\n",
    "plt.title('Training and validation accuracy - Fit Transform')\n",
    "plt.xlabel('Epochs')\n",
    "plt.ylabel('Accuracy')\n",
    "plt.legend()\n",
    "\n",
    "plt.show()"
   ]
  },
  {
   "cell_type": "markdown",
   "metadata": {},
   "source": [
    "# Neural Network - Normalized Data"
   ]
  },
  {
   "cell_type": "code",
   "execution_count": null,
   "metadata": {},
   "outputs": [],
   "source": [
    "X_tr_norm = preprocessing.normalize(X_train)\n",
    "X_te_norm = preprocessing.normalize(X_test)\n",
    "X_va_norm = preprocessing.normalize(X_val)"
   ]
  },
  {
   "cell_type": "code",
   "execution_count": null,
   "metadata": {},
   "outputs": [],
   "source": [
    "model_norm = keras.Sequential()\n",
    "model_norm.add(keras.layers.Dense(units=num_features, input_shape=(num_features,)))\n",
    "model_norm.add(keras.layers.Dense(units=1500, activation=tf.nn.sigmoid))\n",
    "model_norm.add(keras.layers.Dense(units=1500, activation=tf.nn.sigmoid))\n",
    "model_norm.add(keras.layers.Dense(units=1, activation=tf.nn.sigmoid))\n",
    "model_norm.compile(optimizer='adam',\n",
    "                   loss='binary_crossentropy',\n",
    "                   metrics=['acc'])\n",
    "model_norm.summary()"
   ]
  },
  {
   "cell_type": "code",
   "execution_count": null,
   "metadata": {},
   "outputs": [],
   "source": [
    "train_norm = model_norm.fit(X_tr_norm,\n",
    "                            Y_train, \n",
    "                            epochs=30, \n",
    "                            batch_size=500, \n",
    "                            validation_data=(X_va_norm, Y_val), \n",
    "                            verbose=1)"
   ]
  },
  {
   "cell_type": "code",
   "execution_count": null,
   "metadata": {},
   "outputs": [],
   "source": [
    "results = model_norm.evaluate(X_te_norm, Y_test)\n",
    "print(results)"
   ]
  },
  {
   "cell_type": "code",
   "execution_count": null,
   "metadata": {},
   "outputs": [],
   "source": [
    "train_hist_norm = train_norm.history\n",
    "train_acc_norm = train_hist_norm['acc']\n",
    "val_acc_norm = train_hist_norm['val_acc']\n",
    "plt.figure()   \n",
    "num_epochs_norm = range(1, len(train_acc_norm) + 1)\n",
    "plt.plot(num_epochs_norm, train_acc_norm, 'b.-', label='Training acc')\n",
    "plt.plot(num_epochs_norm, val_acc_norm, 'r.-', label='Validation acc')\n",
    "plt.title('Training and validation accuracy - Normalized Data')\n",
    "plt.xlabel('Epochs')\n",
    "plt.ylabel('Accuracy')\n",
    "plt.legend()\n",
    "\n",
    "plt.show()"
   ]
  },
  {
   "cell_type": "markdown",
   "metadata": {},
   "source": [
    "# Min-Max Scaled Data"
   ]
  },
  {
   "cell_type": "code",
   "execution_count": null,
   "metadata": {},
   "outputs": [],
   "source": [
    "X_tr_mm = preprocessing.minmax_scale(X_train, feature_range=(0,1))\n",
    "X_te_mm = preprocessing.minmax_scale(X_test, feature_range=(0,1))\n",
    "X_va_mm = preprocessing.minmax_scale(X_val, feature_range=(0,1))"
   ]
  },
  {
   "cell_type": "code",
   "execution_count": null,
   "metadata": {},
   "outputs": [],
   "source": [
    "modem_mm = keras.Sequential()\n",
    "modem_mm.add(keras.layers.Dense(units=num_features, input_shape=(num_features,)))\n",
    "modem_mm.add(keras.layers.Dense(units=1500, activation=tf.nn.sigmoid))\n",
    "modem_mm.add(keras.layers.Dense(units=1500, activation=tf.nn.sigmoid))\n",
    "modem_mm.add(keras.layers.Dense(units=1, activation=tf.nn.sigmoid))\n",
    "modem_mm.compile(optimizer='adam',\n",
    "                 loss='binary_crossentropy',\n",
    "                 metrics=['acc'])\n",
    "modem_mm.summary()"
   ]
  },
  {
   "cell_type": "code",
   "execution_count": null,
   "metadata": {},
   "outputs": [],
   "source": [
    "train_mm = modem_mm.fit(X_tr_mm,\n",
    "                        Y_train, \n",
    "                        epochs=30, \n",
    "                        batch_size=500, \n",
    "                        validation_data=(X_va_mm, Y_val), \n",
    "                        verbose=1)"
   ]
  },
  {
   "cell_type": "code",
   "execution_count": null,
   "metadata": {},
   "outputs": [],
   "source": [
    "results = modem_mm.evaluate(X_te_mm, Y_test)\n",
    "print(results)"
   ]
  },
  {
   "cell_type": "code",
   "execution_count": null,
   "metadata": {},
   "outputs": [],
   "source": [
    "train_hist_mm = train_mm.history\n",
    "train_acc_mm = train_hist_mm['acc']\n",
    "val_acc_mm = train_hist_mm['val_acc']\n",
    "plt.figure()   \n",
    "num_epochs_mm = range(1, len(train_acc_mm) + 1)\n",
    "plt.plot(num_epochs_mm, train_acc_mm, 'b.-', label='Training acc')\n",
    "plt.plot(num_epochs_mm, val_acc_mm, 'r.-', label='Validation acc')\n",
    "plt.title('Training and validation accuracy - Min-Max Scaled Data')\n",
    "plt.xlabel('Epochs')\n",
    "plt.ylabel('Accuracy')\n",
    "plt.legend()\n",
    "\n",
    "plt.show()"
   ]
  }
 ],
 "metadata": {
  "kernelspec": {
   "display_name": "Python 3",
   "language": "python",
   "name": "python3"
  },
  "language_info": {
   "codemirror_mode": {
    "name": "ipython",
    "version": 3
   },
   "file_extension": ".py",
   "mimetype": "text/x-python",
   "name": "python",
   "nbconvert_exporter": "python",
   "pygments_lexer": "ipython3",
   "version": "3.6.2"
  }
 },
 "nbformat": 4,
 "nbformat_minor": 2
}
