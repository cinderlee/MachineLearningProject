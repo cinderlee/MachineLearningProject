{
 "cells": [
  {
   "cell_type": "code",
   "execution_count": 1,
   "metadata": {},
   "outputs": [],
   "source": [
    "import sklearn\n",
    "import numpy as np\n",
    "from numpy import ma\n",
    "import pandas as pd\n",
    "from sklearn.feature_extraction.text import CountVectorizer\n",
    "from sklearn.preprocessing import StandardScaler\n",
    "from sklearn import preprocessing\n",
    "import numpy.random as r\n",
    "from sklearn.metrics import accuracy_score \n",
    "\n",
    "import matplotlib.pyplot as plt\n",
    "%matplotlib inline\n",
    "\n",
    "from sklearn.linear_model import LogisticRegression\n",
    "import tensorflow as tf\n",
    "from tensorflow import keras"
   ]
  },
  {
   "cell_type": "code",
   "execution_count": 2,
   "metadata": {},
   "outputs": [
    {
     "name": "stderr",
     "output_type": "stream",
     "text": [
      "/Library/Frameworks/Python.framework/Versions/3.6/lib/python3.6/site-packages/IPython/core/interactiveshell.py:3020: DtypeWarning: Columns (2,3,4,5,6,7) have mixed types. Specify dtype option on import or set low_memory=False.\n",
      "  interactivity=interactivity, compiler=compiler, result=result)\n"
     ]
    }
   ],
   "source": [
    "names =['id', 'comment_text', 'toxic', 'severe_toxic', 'obscene', 'threat', 'insult', 'identity_hate']\n",
    "df = pd.read_csv('train.csv',header=None,sep=\",\",names=names, encoding = \"ISO-8859-1\")\n",
    "\n",
    "names_test =['id', 'comment_text']\n",
    "df_test = pd.read_csv('test.csv',header=None,sep=\",\",names=names_test, encoding = \"ISO-8859-1\")"
   ]
  },
  {
   "cell_type": "code",
   "execution_count": 3,
   "metadata": {},
   "outputs": [],
   "source": [
    "df['toxic_score'] = df[['toxic','severe_toxic','obscene', 'threat', 'insult', 'identity_hate']].max(axis=1)\n",
    "#drop unnecessary columns\n",
    "df = df.drop(['id', 'toxic','severe_toxic','obscene', 'threat', 'insult', 'identity_hate'], axis=1)\n",
    "#drop first row\n",
    "df.drop(df.index[:1], inplace=True)\n",
    "\n",
    "df_test = df_test.drop(['id'], axis=1)\n",
    "df_test.drop(df_test.index[:1], inplace=True)\n",
    "#df.drop(df.index[:150000], inplace=True) #smaller data set"
   ]
  },
  {
   "cell_type": "code",
   "execution_count": 4,
   "metadata": {},
   "outputs": [],
   "source": [
    "# print(df)"
   ]
  },
  {
   "cell_type": "code",
   "execution_count": 5,
   "metadata": {},
   "outputs": [
    {
     "data": {
      "text/html": [
       "<div>\n",
       "<style scoped>\n",
       "    .dataframe tbody tr th:only-of-type {\n",
       "        vertical-align: middle;\n",
       "    }\n",
       "\n",
       "    .dataframe tbody tr th {\n",
       "        vertical-align: top;\n",
       "    }\n",
       "\n",
       "    .dataframe thead th {\n",
       "        text-align: right;\n",
       "    }\n",
       "</style>\n",
       "<table border=\"1\" class=\"dataframe\">\n",
       "  <thead>\n",
       "    <tr style=\"text-align: right;\">\n",
       "      <th></th>\n",
       "      <th>comment_text</th>\n",
       "    </tr>\n",
       "  </thead>\n",
       "  <tbody>\n",
       "    <tr>\n",
       "      <th>1</th>\n",
       "      <td>Yo bitch Ja Rule is more succesful then you'll...</td>\n",
       "    </tr>\n",
       "    <tr>\n",
       "      <th>2</th>\n",
       "      <td>== From RfC == \\n\\n The title is fine as it is...</td>\n",
       "    </tr>\n",
       "    <tr>\n",
       "      <th>3</th>\n",
       "      <td>\" \\n\\n == Sources == \\n\\n * Zawe Ashton on Lap...</td>\n",
       "    </tr>\n",
       "    <tr>\n",
       "      <th>4</th>\n",
       "      <td>:If you have a look back at the source, the in...</td>\n",
       "    </tr>\n",
       "    <tr>\n",
       "      <th>5</th>\n",
       "      <td>I don't anonymously edit articles at all.</td>\n",
       "    </tr>\n",
       "  </tbody>\n",
       "</table>\n",
       "</div>"
      ],
      "text/plain": [
       "                                        comment_text\n",
       "1  Yo bitch Ja Rule is more succesful then you'll...\n",
       "2  == From RfC == \\n\\n The title is fine as it is...\n",
       "3  \" \\n\\n == Sources == \\n\\n * Zawe Ashton on Lap...\n",
       "4  :If you have a look back at the source, the in...\n",
       "5          I don't anonymously edit articles at all."
      ]
     },
     "execution_count": 5,
     "metadata": {},
     "output_type": "execute_result"
    }
   ],
   "source": [
    "df.head(5)\n",
    "df_test.head(5)"
   ]
  },
  {
   "cell_type": "code",
   "execution_count": 6,
   "metadata": {},
   "outputs": [],
   "source": [
    "bad_words = []\n",
    "negative_file = open(\"negative-words.txt\", \"r\")\n",
    "for line in negative_file:\n",
    "    bad_words.append(line.strip(\"\\n\"))\n",
    "negative_file.close()\n",
    "profanity_file = open(\"profanity-words.txt\", \"r\")\n",
    "for line in profanity_file:\n",
    "    if (line.strip(\"\\n\") not in bad_words):\n",
    "        bad_words.append(line.strip(\"\\n\"))\n",
    "profanity_file.close()\n",
    "# print(bad_words)"
   ]
  },
  {
   "cell_type": "code",
   "execution_count": 7,
   "metadata": {},
   "outputs": [],
   "source": [
    "# because we have a lot of features, scaling the data set size down to 3000\n",
    "\n",
    "data = df.values\n",
    "\n",
    "X = data[:,0].reshape((159571,1))\n",
    "Y = data[:,1].reshape((159571,1))\n",
    "\n",
    "toxic_count = 0\n",
    "not_toxic_count = 0\n",
    "val_toxic = 0\n",
    "val_not_toxic = 0\n",
    "test_count = 0\n",
    "\n",
    "X_training = []\n",
    "Y_training = []\n",
    "X_validation = []\n",
    "Y_validation = []\n",
    "X_testing = []\n",
    "Y_testing = []\n",
    "\n",
    "data_size = 15000\n",
    "\n",
    "for index in range(0,159571):\n",
    "    if ((int(Y[index][0]) == 1 and toxic_count < 0.5 * data_size) or \n",
    "        (int(Y[index][0]) == 0 and not_toxic_count < 0.5 * data_size)):\n",
    "        Y_training.append(int(Y[index][0]))\n",
    "        X_training.append(X[index][0])\n",
    "        if (int(Y[index][0]) == 1):\n",
    "            toxic_count += 1\n",
    "        else:\n",
    "            not_toxic_count += 1\n",
    "    else:\n",
    "        if ((int(Y[index][0]) == 1 and val_toxic < 0.5 * data_size) or \n",
    "            (int(Y[index][0]) == 0 and val_not_toxic < 0.5 * data_size)):\n",
    "            Y_validation.append(int(Y[index][0]))\n",
    "            X_validation.append(X[index][0])\n",
    "            if (int(Y[index][0]) == 1):\n",
    "                val_toxic += 1\n",
    "            else:\n",
    "                val_not_toxic += 1\n",
    "        else:\n",
    "            if(test_count < data_size * 2):\n",
    "                Y_testing.append(int(Y[index][0]))\n",
    "                X_testing.append(X[index][0])\n",
    "                test_count += 1\n",
    "    if (toxic_count + not_toxic_count == data_size and \n",
    "        val_toxic + val_not_toxic == data_size and \n",
    "        test_count == data_size * 2):\n",
    "        break\n",
    "                \n",
    "# X_tr = np.array(X_tr).reshape((15000, 1))\n",
    "Y_train = np.array(Y_training).reshape((data_size, 1))\n",
    "Y_test = np.array(Y_testing).reshape((data_size * 2, 1))\n",
    "Y_val = np.array(Y_validation).reshape((data_size, 1))\n",
    "\n",
    "\n",
    "cv = sklearn.feature_extraction.text.CountVectorizer(vocabulary=bad_words)\n",
    "X_train = cv.fit_transform(X_training).toarray()\n",
    "X_test = cv.fit_transform(X_testing).toarray()\n",
    "X_val = cv.fit_transform(X_validation).toarray()"
   ]
  },
  {
   "cell_type": "markdown",
   "metadata": {},
   "source": [
    "# Neural Networks Not Scaled - Sigmoid"
   ]
  },
  {
   "cell_type": "code",
   "execution_count": 8,
   "metadata": {},
   "outputs": [
    {
     "name": "stdout",
     "output_type": "stream",
     "text": [
      "WARNING:tensorflow:From /usr/local/lib/python3.7/site-packages/tensorflow/python/ops/resource_variable_ops.py:435: colocate_with (from tensorflow.python.framework.ops) is deprecated and will be removed in a future version.\n",
      "Instructions for updating:\n",
      "Colocations handled automatically by placer.\n",
      "_________________________________________________________________\n",
      "Layer (type)                 Output Shape              Param #   \n",
      "=================================================================\n",
      "dense (Dense)                (None, 5213)              27180582  \n",
      "_________________________________________________________________\n",
      "dense_1 (Dense)              (None, 1500)              7821000   \n",
      "_________________________________________________________________\n",
      "dense_2 (Dense)              (None, 1500)              2251500   \n",
      "_________________________________________________________________\n",
      "dense_3 (Dense)              (None, 1)                 1501      \n",
      "=================================================================\n",
      "Total params: 37,254,583\n",
      "Trainable params: 37,254,583\n",
      "Non-trainable params: 0\n",
      "_________________________________________________________________\n"
     ]
    }
   ],
   "source": [
    "#using tensorflow to make the neural network\n",
    "num_features = len(bad_words)\n",
    "\n",
    "model = keras.Sequential()\n",
    "model.add(keras.layers.Dense(units=num_features, input_shape=(num_features,)))\n",
    "model.add(keras.layers.Dense(units=1500, activation=tf.nn.sigmoid))\n",
    "model.add(keras.layers.Dense(units=1500, activation=tf.nn.sigmoid))\n",
    "model.add(keras.layers.Dense(units=1, activation=tf.nn.sigmoid))\n",
    "\n",
    "model.summary()"
   ]
  },
  {
   "cell_type": "code",
   "execution_count": 9,
   "metadata": {},
   "outputs": [],
   "source": [
    "model.compile(optimizer='adam',\n",
    "              loss='binary_crossentropy',\n",
    "              metrics=['acc'])"
   ]
  },
  {
   "cell_type": "code",
   "execution_count": 10,
   "metadata": {},
   "outputs": [
    {
     "name": "stdout",
     "output_type": "stream",
     "text": [
      "Train on 15000 samples, validate on 15000 samples\n",
      "WARNING:tensorflow:From /usr/local/lib/python3.7/site-packages/tensorflow/python/ops/math_ops.py:3066: to_int32 (from tensorflow.python.ops.math_ops) is deprecated and will be removed in a future version.\n",
      "Instructions for updating:\n",
      "Use tf.cast instead.\n",
      "Epoch 1/30\n",
      "15000/15000 [==============================] - 30s 2ms/sample - loss: 0.8821 - acc: 0.6425 - val_loss: 0.3690 - val_acc: 0.8563\n",
      "Epoch 2/30\n",
      "15000/15000 [==============================] - 29s 2ms/sample - loss: 0.3440 - acc: 0.8739 - val_loss: 0.3725 - val_acc: 0.8566\n",
      "Epoch 3/30\n",
      "15000/15000 [==============================] - 31s 2ms/sample - loss: 0.3016 - acc: 0.8917 - val_loss: 0.3866 - val_acc: 0.8563\n",
      "Epoch 4/30\n",
      "15000/15000 [==============================] - 31s 2ms/sample - loss: 0.2885 - acc: 0.8937 - val_loss: 0.3920 - val_acc: 0.8570\n",
      "Epoch 5/30\n",
      "15000/15000 [==============================] - 30s 2ms/sample - loss: 0.2789 - acc: 0.8975 - val_loss: 0.4023 - val_acc: 0.8545\n",
      "Epoch 6/30\n",
      "15000/15000 [==============================] - 30s 2ms/sample - loss: 0.2748 - acc: 0.8994 - val_loss: 0.4009 - val_acc: 0.8554\n",
      "Epoch 7/30\n",
      "15000/15000 [==============================] - 29s 2ms/sample - loss: 0.2712 - acc: 0.9013 - val_loss: 0.4032 - val_acc: 0.8535\n",
      "Epoch 8/30\n",
      "15000/15000 [==============================] - 30s 2ms/sample - loss: 0.2681 - acc: 0.9019 - val_loss: 0.4084 - val_acc: 0.8539\n",
      "Epoch 9/30\n",
      "15000/15000 [==============================] - 29s 2ms/sample - loss: 0.2650 - acc: 0.9017 - val_loss: 0.4114 - val_acc: 0.8537\n",
      "Epoch 10/30\n",
      "15000/15000 [==============================] - 29s 2ms/sample - loss: 0.2602 - acc: 0.9031 - val_loss: 0.4173 - val_acc: 0.8542\n",
      "Epoch 11/30\n",
      "15000/15000 [==============================] - 29s 2ms/sample - loss: 0.2524 - acc: 0.9033 - val_loss: 0.4139 - val_acc: 0.8538\n",
      "Epoch 12/30\n",
      "15000/15000 [==============================] - 29s 2ms/sample - loss: 0.2464 - acc: 0.9056 - val_loss: 0.4406 - val_acc: 0.8526\n",
      "Epoch 13/30\n",
      "15000/15000 [==============================] - 29s 2ms/sample - loss: 0.2421 - acc: 0.9053 - val_loss: 0.4517 - val_acc: 0.8536\n",
      "Epoch 14/30\n",
      "15000/15000 [==============================] - 29s 2ms/sample - loss: 0.2373 - acc: 0.9071 - val_loss: 0.4732 - val_acc: 0.8471\n",
      "Epoch 15/30\n",
      "15000/15000 [==============================] - 29s 2ms/sample - loss: 0.2369 - acc: 0.9066 - val_loss: 0.4603 - val_acc: 0.8463\n",
      "Epoch 16/30\n",
      "15000/15000 [==============================] - 30s 2ms/sample - loss: 0.2352 - acc: 0.9087 - val_loss: 0.4820 - val_acc: 0.8515\n",
      "Epoch 17/30\n",
      "15000/15000 [==============================] - 29s 2ms/sample - loss: 0.2338 - acc: 0.9083 - val_loss: 0.4870 - val_acc: 0.8513\n",
      "Epoch 18/30\n",
      "15000/15000 [==============================] - 29s 2ms/sample - loss: 0.2288 - acc: 0.9099 - val_loss: 0.5056 - val_acc: 0.8463\n",
      "Epoch 19/30\n",
      "15000/15000 [==============================] - 29s 2ms/sample - loss: 0.2265 - acc: 0.9109 - val_loss: 0.4960 - val_acc: 0.8484\n",
      "Epoch 20/30\n",
      "15000/15000 [==============================] - 29s 2ms/sample - loss: 0.2253 - acc: 0.9119 - val_loss: 0.5098 - val_acc: 0.8495\n",
      "Epoch 21/30\n",
      "15000/15000 [==============================] - 30s 2ms/sample - loss: 0.2244 - acc: 0.9117 - val_loss: 0.5227 - val_acc: 0.8515\n",
      "Epoch 22/30\n",
      "15000/15000 [==============================] - 29s 2ms/sample - loss: 0.2220 - acc: 0.9131 - val_loss: 0.5213 - val_acc: 0.8463\n",
      "Epoch 23/30\n",
      "15000/15000 [==============================] - 29s 2ms/sample - loss: 0.2219 - acc: 0.9134 - val_loss: 0.5371 - val_acc: 0.8507\n",
      "Epoch 24/30\n",
      "15000/15000 [==============================] - 30s 2ms/sample - loss: 0.2211 - acc: 0.9124 - val_loss: 0.5229 - val_acc: 0.8447\n",
      "Epoch 25/30\n",
      "15000/15000 [==============================] - 30s 2ms/sample - loss: 0.2189 - acc: 0.9139 - val_loss: 0.5400 - val_acc: 0.8494\n",
      "Epoch 26/30\n",
      "15000/15000 [==============================] - 30s 2ms/sample - loss: 0.2189 - acc: 0.9137 - val_loss: 0.5392 - val_acc: 0.8492\n",
      "Epoch 27/30\n",
      "15000/15000 [==============================] - 28s 2ms/sample - loss: 0.2188 - acc: 0.9142 - val_loss: 0.5450 - val_acc: 0.8498\n",
      "Epoch 28/30\n",
      "15000/15000 [==============================] - 28s 2ms/sample - loss: 0.2148 - acc: 0.9147 - val_loss: 0.5499 - val_acc: 0.8479\n",
      "Epoch 29/30\n",
      "15000/15000 [==============================] - 28s 2ms/sample - loss: 0.2140 - acc: 0.9159 - val_loss: 0.5404 - val_acc: 0.8472\n",
      "Epoch 30/30\n",
      "15000/15000 [==============================] - 27s 2ms/sample - loss: 0.2134 - acc: 0.9167 - val_loss: 0.5682 - val_acc: 0.8457\n"
     ]
    }
   ],
   "source": [
    "training = model.fit(X_train,\n",
    "                    Y_train,\n",
    "                    epochs=30,\n",
    "                    batch_size=500,\n",
    "                    validation_data=(X_val, Y_val),\n",
    "                    verbose=1)"
   ]
  },
  {
   "cell_type": "code",
   "execution_count": 11,
   "metadata": {},
   "outputs": [
    {
     "name": "stdout",
     "output_type": "stream",
     "text": [
      "30000/30000 [==============================] - 23s 762us/sample - loss: 0.4588 - acc: 0.9144\n",
      "[0.4587731474518776, 0.91443336]\n"
     ]
    }
   ],
   "source": [
    "results = model.evaluate(X_test, Y_test)\n",
    "print(results)"
   ]
  },
  {
   "cell_type": "code",
   "execution_count": 12,
   "metadata": {},
   "outputs": [
    {
     "data": {
      "image/png": "[encoded data removed]",
      "text/plain": [
       "<Figure size 432x288 with 1 Axes>"
      ]
     },
     "metadata": {
      "needs_background": "light"
     },
     "output_type": "display_data"
    }
   ],
   "source": [
    "training_hist = training.history\n",
    "train_acc = training_hist['acc']\n",
    "val_acc = training_hist['val_acc']\n",
    "plt.figure()   \n",
    "num_epochs = range(1, len(train_acc) + 1)\n",
    "plt.plot(num_epochs, train_acc, 'b.-', label='Training acc')\n",
    "plt.plot(num_epochs, val_acc, 'r.-', label='Validation acc')\n",
    "plt.title('Training and validation accuracy for not scaled data')\n",
    "plt.xlabel('Epochs')\n",
    "plt.ylabel('Accuracy')\n",
    "plt.legend()\n",
    "\n",
    "plt.show()"
   ]
  },
  {
   "cell_type": "code",
   "execution_count": 13,
   "metadata": {},
   "outputs": [],
   "source": [
    "# create neural network"
   ]
  },
  {
   "cell_type": "markdown",
   "metadata": {},
   "source": [
    "# Neural Networks Scaling - Sigmoid"
   ]
  },
  {
   "cell_type": "code",
   "execution_count": 14,
   "metadata": {},
   "outputs": [
    {
     "name": "stderr",
     "output_type": "stream",
     "text": [
      "/usr/local/lib/python3.7/site-packages/sklearn/utils/validation.py:595: DataConversionWarning: Data with input dtype int64 was converted to float64 by StandardScaler.\n",
      "  warnings.warn(msg, DataConversionWarning)\n",
      "/usr/local/lib/python3.7/site-packages/sklearn/utils/validation.py:595: DataConversionWarning: Data with input dtype int64 was converted to float64 by StandardScaler.\n",
      "  warnings.warn(msg, DataConversionWarning)\n",
      "/usr/local/lib/python3.7/site-packages/sklearn/utils/validation.py:595: DataConversionWarning: Data with input dtype int64 was converted to float64 by StandardScaler.\n",
      "  warnings.warn(msg, DataConversionWarning)\n",
      "/usr/local/lib/python3.7/site-packages/sklearn/utils/validation.py:595: DataConversionWarning: Data with input dtype int64 was converted to float64 by StandardScaler.\n",
      "  warnings.warn(msg, DataConversionWarning)\n",
      "/usr/local/lib/python3.7/site-packages/sklearn/utils/validation.py:595: DataConversionWarning: Data with input dtype int64 was converted to float64 by StandardScaler.\n",
      "  warnings.warn(msg, DataConversionWarning)\n",
      "/usr/local/lib/python3.7/site-packages/sklearn/utils/validation.py:595: DataConversionWarning: Data with input dtype int64 was converted to float64 by StandardScaler.\n",
      "  warnings.warn(msg, DataConversionWarning)\n"
     ]
    }
   ],
   "source": [
    "X_scale = StandardScaler()\n",
    "X_tr = X_scale.fit_transform(X_train)\n",
    "X_te = X_scale.fit_transform(X_test)\n",
    "X_va = X_scale.fit_transform(X_val)"
   ]
  },
  {
   "cell_type": "code",
   "execution_count": 15,
   "metadata": {},
   "outputs": [
    {
     "name": "stdout",
     "output_type": "stream",
     "text": [
      "_________________________________________________________________\n",
      "Layer (type)                 Output Shape              Param #   \n",
      "=================================================================\n",
      "dense_4 (Dense)              (None, 5213)              27180582  \n",
      "_________________________________________________________________\n",
      "dense_5 (Dense)              (None, 1500)              7821000   \n",
      "_________________________________________________________________\n",
      "dense_6 (Dense)              (None, 1500)              2251500   \n",
      "_________________________________________________________________\n",
      "dense_7 (Dense)              (None, 1)                 1501      \n",
      "=================================================================\n",
      "Total params: 37,254,583\n",
      "Trainable params: 37,254,583\n",
      "Non-trainable params: 0\n",
      "_________________________________________________________________\n"
     ]
    }
   ],
   "source": [
    "model_scale = keras.Sequential()\n",
    "model_scale.add(keras.layers.Dense(units=num_features, input_shape=(num_features,)))\n",
    "model_scale.add(keras.layers.Dense(units=1500, activation=tf.nn.sigmoid))\n",
    "model_scale.add(keras.layers.Dense(units=1500, activation=tf.nn.sigmoid))\n",
    "model_scale.add(keras.layers.Dense(units=1, activation=tf.nn.sigmoid))\n",
    "model_scale.compile(optimizer='adam',\n",
    "                    loss='binary_crossentropy',\n",
    "                    metrics=['acc'])\n",
    "model_scale.summary()"
   ]
  },
  {
   "cell_type": "code",
   "execution_count": 16,
   "metadata": {},
   "outputs": [
    {
     "name": "stdout",
     "output_type": "stream",
     "text": [
      "Train on 15000 samples, validate on 15000 samples\n",
      "Epoch 1/30\n",
      "15000/15000 [==============================] - 33s 2ms/sample - loss: 0.9162 - acc: 0.6145 - val_loss: 0.5771 - val_acc: 0.7013\n",
      "Epoch 2/30\n",
      "15000/15000 [==============================] - 31s 2ms/sample - loss: 0.4674 - acc: 0.7894 - val_loss: 0.5545 - val_acc: 0.7253\n",
      "Epoch 3/30\n",
      "15000/15000 [==============================] - 30s 2ms/sample - loss: 0.4167 - acc: 0.8145 - val_loss: 0.5831 - val_acc: 0.7351\n",
      "Epoch 4/30\n",
      "15000/15000 [==============================] - 29s 2ms/sample - loss: 0.3792 - acc: 0.8367 - val_loss: 0.5788 - val_acc: 0.7495\n",
      "Epoch 5/30\n",
      "15000/15000 [==============================] - 30s 2ms/sample - loss: 0.3576 - acc: 0.8452 - val_loss: 0.7465 - val_acc: 0.7342\n",
      "Epoch 6/30\n",
      "15000/15000 [==============================] - 31s 2ms/sample - loss: 0.3413 - acc: 0.8565 - val_loss: 0.6622 - val_acc: 0.7449\n",
      "Epoch 7/30\n",
      "15000/15000 [==============================] - 30s 2ms/sample - loss: 0.3154 - acc: 0.8701 - val_loss: 0.7573 - val_acc: 0.7459\n",
      "Epoch 8/30\n",
      "15000/15000 [==============================] - 30s 2ms/sample - loss: 0.3016 - acc: 0.8786 - val_loss: 0.8000 - val_acc: 0.7483\n",
      "Epoch 9/30\n",
      "15000/15000 [==============================] - 29s 2ms/sample - loss: 0.3026 - acc: 0.8789 - val_loss: 0.7759 - val_acc: 0.7453\n",
      "Epoch 10/30\n",
      "15000/15000 [==============================] - 28s 2ms/sample - loss: 0.2899 - acc: 0.8863 - val_loss: 0.8720 - val_acc: 0.7397\n",
      "Epoch 11/30\n",
      "15000/15000 [==============================] - 28s 2ms/sample - loss: 0.2858 - acc: 0.8880 - val_loss: 0.8635 - val_acc: 0.7434\n",
      "Epoch 12/30\n",
      "15000/15000 [==============================] - 28s 2ms/sample - loss: 0.2776 - acc: 0.8914 - val_loss: 1.0142 - val_acc: 0.7402\n",
      "Epoch 13/30\n",
      "15000/15000 [==============================] - 27s 2ms/sample - loss: 0.2758 - acc: 0.8906 - val_loss: 1.0414 - val_acc: 0.7397\n",
      "Epoch 14/30\n",
      "15000/15000 [==============================] - 27s 2ms/sample - loss: 0.2713 - acc: 0.8915 - val_loss: 1.0823 - val_acc: 0.7348\n",
      "Epoch 15/30\n",
      "15000/15000 [==============================] - 28s 2ms/sample - loss: 0.2834 - acc: 0.8891 - val_loss: 0.8666 - val_acc: 0.7452\n",
      "Epoch 16/30\n",
      "15000/15000 [==============================] - 28s 2ms/sample - loss: 0.2655 - acc: 0.8929 - val_loss: 1.0089 - val_acc: 0.7375\n",
      "Epoch 17/30\n",
      "15000/15000 [==============================] - 28s 2ms/sample - loss: 0.2633 - acc: 0.8957 - val_loss: 0.9648 - val_acc: 0.7434\n",
      "Epoch 18/30\n",
      "15000/15000 [==============================] - 28s 2ms/sample - loss: 0.2608 - acc: 0.8960 - val_loss: 0.9743 - val_acc: 0.7392\n",
      "Epoch 19/30\n",
      "15000/15000 [==============================] - 30s 2ms/sample - loss: 0.2580 - acc: 0.8973 - val_loss: 1.0166 - val_acc: 0.7328\n",
      "Epoch 20/30\n",
      "15000/15000 [==============================] - 30s 2ms/sample - loss: 0.2607 - acc: 0.8998 - val_loss: 0.9225 - val_acc: 0.7405\n",
      "Epoch 21/30\n",
      "15000/15000 [==============================] - 29s 2ms/sample - loss: 0.2559 - acc: 0.9011 - val_loss: 0.8629 - val_acc: 0.7256\n",
      "Epoch 22/30\n",
      "15000/15000 [==============================] - 30s 2ms/sample - loss: 0.2531 - acc: 0.9017 - val_loss: 0.9580 - val_acc: 0.7353\n",
      "Epoch 23/30\n",
      "15000/15000 [==============================] - 31s 2ms/sample - loss: 0.2474 - acc: 0.9018 - val_loss: 0.9450 - val_acc: 0.7371\n",
      "Epoch 24/30\n",
      "15000/15000 [==============================] - 30s 2ms/sample - loss: 0.2389 - acc: 0.9061 - val_loss: 0.9024 - val_acc: 0.7374\n",
      "Epoch 25/30\n",
      "15000/15000 [==============================] - 29s 2ms/sample - loss: 0.2454 - acc: 0.9064 - val_loss: 0.8291 - val_acc: 0.7422\n",
      "Epoch 26/30\n",
      "15000/15000 [==============================] - 29s 2ms/sample - loss: 0.2350 - acc: 0.9073 - val_loss: 0.8788 - val_acc: 0.7353\n",
      "Epoch 27/30\n",
      "15000/15000 [==============================] - 29s 2ms/sample - loss: 0.2305 - acc: 0.9099 - val_loss: 1.0205 - val_acc: 0.7309\n",
      "Epoch 28/30\n",
      "15000/15000 [==============================] - 30s 2ms/sample - loss: 0.2368 - acc: 0.9094 - val_loss: 0.8871 - val_acc: 0.7341\n",
      "Epoch 29/30\n",
      "15000/15000 [==============================] - 30s 2ms/sample - loss: 0.2341 - acc: 0.9099 - val_loss: 0.8877 - val_acc: 0.7355\n",
      "Epoch 30/30\n",
      "15000/15000 [==============================] - 31s 2ms/sample - loss: 0.2297 - acc: 0.9109 - val_loss: 0.9204 - val_acc: 0.7300\n"
     ]
    }
   ],
   "source": [
    "train_scale = model_scale.fit(X_tr,\n",
    "                              Y_train, \n",
    "                              epochs=30, \n",
    "                              batch_size=500, \n",
    "                              validation_data=(X_va, Y_val), \n",
    "                              verbose=1)"
   ]
  },
  {
   "cell_type": "code",
   "execution_count": 19,
   "metadata": {},
   "outputs": [
    {
     "name": "stdout",
     "output_type": "stream",
     "text": [
      "30000/30000 [==============================] - 24s 789us/sample - loss: 3.2830 - acc: 0.2852\n",
      "[3.2830106524149576, 0.2852]\n"
     ]
    }
   ],
   "source": [
    "results = model_scale.evaluate(X_te, Y_test)\n",
    "print(results)"
   ]
  },
  {
   "cell_type": "code",
   "execution_count": 20,
   "metadata": {},
   "outputs": [
    {
     "data": {
      "image/png": "[encoded data removed]",
      "text/plain": [
       "<Figure size 432x288 with 1 Axes>"
      ]
     },
     "metadata": {
      "needs_background": "light"
     },
     "output_type": "display_data"
    }
   ],
   "source": [
    "train_hist_scale = train_scale.history\n",
    "train_acc_scale = train_hist_scale['acc']\n",
    "val_acc_scale = train_hist_scale['val_acc']\n",
    "plt.figure()   \n",
    "num_epochs_scale = range(1, len(train_acc_scale) + 1)\n",
    "plt.plot(num_epochs_scale, train_acc_scale, 'b.-', label='Training acc')\n",
    "plt.plot(num_epochs_scale, val_acc_scale, 'r.-', label='Validation acc')\n",
    "plt.title('Training and validation accuracy - Fit Transform')\n",
    "plt.xlabel('Epochs')\n",
    "plt.ylabel('Accuracy')\n",
    "plt.legend()\n",
    "\n",
    "plt.show()"
   ]
  },
  {
   "cell_type": "markdown",
   "metadata": {},
   "source": [
    "# Neural Network - Normalized Data"
   ]
  },
  {
   "cell_type": "code",
   "execution_count": null,
   "metadata": {},
   "outputs": [],
   "source": [
    "X_tr_norm = preprocessing.normalize(X_train)\n",
    "X_te_norm = preprocessing.normalize(X_test)\n",
    "X_va_norm = preprocessing.normalize(X_val)"
   ]
  },
  {
   "cell_type": "code",
   "execution_count": 12,
   "metadata": {},
   "outputs": [
    {
     "name": "stdout",
     "output_type": "stream",
     "text": [
      "WARNING:tensorflow:From /Library/Frameworks/Python.framework/Versions/3.6/lib/python3.6/site-packages/tensorflow/python/ops/resource_variable_ops.py:435: colocate_with (from tensorflow.python.framework.ops) is deprecated and will be removed in a future version.\n",
      "Instructions for updating:\n",
      "Colocations handled automatically by placer.\n",
      "_________________________________________________________________\n",
      "Layer (type)                 Output Shape              Param #   \n",
      "=================================================================\n",
      "dense (Dense)                (None, 5213)              27180582  \n",
      "_________________________________________________________________\n",
      "dense_1 (Dense)              (None, 1500)              7821000   \n",
      "_________________________________________________________________\n",
      "dense_2 (Dense)              (None, 1500)              2251500   \n",
      "_________________________________________________________________\n",
      "dense_3 (Dense)              (None, 1)                 1501      \n",
      "=================================================================\n",
      "Total params: 37,254,583\n",
      "Trainable params: 37,254,583\n",
      "Non-trainable params: 0\n",
      "_________________________________________________________________\n"
     ]
    }
   ],
   "source": [
    "num_features = len(bad_words)\n",
    "model_norm = keras.Sequential()\n",
    "model_norm.add(keras.layers.Dense(units=num_features, input_shape=(num_features,)))\n",
    "model_norm.add(keras.layers.Dense(units=1500, activation=tf.nn.sigmoid))\n",
    "model_norm.add(keras.layers.Dense(units=1500, activation=tf.nn.sigmoid))\n",
    "model_norm.add(keras.layers.Dense(units=1, activation=tf.nn.sigmoid))\n",
    "model_norm.compile(optimizer='adam',\n",
    "                   loss='binary_crossentropy',\n",
    "                   metrics=['acc'])\n",
    "model_norm.summary()"
   ]
  },
  {
   "cell_type": "code",
   "execution_count": 13,
   "metadata": {},
   "outputs": [
    {
     "name": "stdout",
     "output_type": "stream",
     "text": [
      "Train on 15000 samples, validate on 15000 samples\n",
      "WARNING:tensorflow:From /Library/Frameworks/Python.framework/Versions/3.6/lib/python3.6/site-packages/tensorflow/python/ops/math_ops.py:3066: to_int32 (from tensorflow.python.ops.math_ops) is deprecated and will be removed in a future version.\n",
      "Instructions for updating:\n",
      "Use tf.cast instead.\n",
      "Epoch 1/30\n",
      "15000/15000 [==============================] - 70s 5ms/sample - loss: 1.0611 - acc: 0.5873 - val_loss: 0.4011 - val_acc: 0.8543\n",
      "Epoch 2/30\n",
      "15000/15000 [==============================] - 67s 4ms/sample - loss: 0.3373 - acc: 0.8723 - val_loss: 0.3440 - val_acc: 0.8630\n",
      "Epoch 3/30\n",
      "15000/15000 [==============================] - 65s 4ms/sample - loss: 0.2908 - acc: 0.8914 - val_loss: 0.3638 - val_acc: 0.8598\n",
      "Epoch 4/30\n",
      "15000/15000 [==============================] - 66s 4ms/sample - loss: 0.2781 - acc: 0.8937 - val_loss: 0.3668 - val_acc: 0.8583\n",
      "Epoch 5/30\n",
      "15000/15000 [==============================] - 66s 4ms/sample - loss: 0.2742 - acc: 0.8975 - val_loss: 0.3782 - val_acc: 0.8565\n",
      "Epoch 6/30\n",
      "15000/15000 [==============================] - 66s 4ms/sample - loss: 0.2709 - acc: 0.8987 - val_loss: 0.3806 - val_acc: 0.8564\n",
      "Epoch 7/30\n",
      "15000/15000 [==============================] - 65s 4ms/sample - loss: 0.2679 - acc: 0.8992 - val_loss: 0.3872 - val_acc: 0.8554\n",
      "Epoch 8/30\n",
      "15000/15000 [==============================] - 65s 4ms/sample - loss: 0.2651 - acc: 0.9001 - val_loss: 0.3952 - val_acc: 0.8527\n",
      "Epoch 9/30\n",
      "15000/15000 [==============================] - 66s 4ms/sample - loss: 0.2638 - acc: 0.9012 - val_loss: 0.4028 - val_acc: 0.8523\n",
      "Epoch 10/30\n",
      "15000/15000 [==============================] - 65s 4ms/sample - loss: 0.2628 - acc: 0.9017 - val_loss: 0.4034 - val_acc: 0.8530\n",
      "Epoch 11/30\n",
      "15000/15000 [==============================] - 67s 4ms/sample - loss: 0.2592 - acc: 0.9031 - val_loss: 0.4059 - val_acc: 0.8531\n",
      "Epoch 12/30\n",
      "15000/15000 [==============================] - 65s 4ms/sample - loss: 0.2574 - acc: 0.9017 - val_loss: 0.4125 - val_acc: 0.8529\n",
      "Epoch 13/30\n",
      "15000/15000 [==============================] - 66s 4ms/sample - loss: 0.2545 - acc: 0.9030 - val_loss: 0.4213 - val_acc: 0.8519\n",
      "Epoch 14/30\n",
      "15000/15000 [==============================] - 65s 4ms/sample - loss: 0.2515 - acc: 0.9032 - val_loss: 0.4288 - val_acc: 0.8530\n",
      "Epoch 15/30\n",
      "15000/15000 [==============================] - 65s 4ms/sample - loss: 0.2472 - acc: 0.9055 - val_loss: 0.4271 - val_acc: 0.8512\n",
      "Epoch 16/30\n",
      "15000/15000 [==============================] - 66s 4ms/sample - loss: 0.2418 - acc: 0.9065 - val_loss: 0.4522 - val_acc: 0.8505\n",
      "Epoch 17/30\n",
      "15000/15000 [==============================] - 65s 4ms/sample - loss: 0.2403 - acc: 0.9066 - val_loss: 0.4610 - val_acc: 0.8505\n",
      "Epoch 18/30\n",
      "15000/15000 [==============================] - 66s 4ms/sample - loss: 0.2377 - acc: 0.9069 - val_loss: 0.4847 - val_acc: 0.8513\n",
      "Epoch 19/30\n",
      "15000/15000 [==============================] - 66s 4ms/sample - loss: 0.2368 - acc: 0.9072 - val_loss: 0.5040 - val_acc: 0.8525\n",
      "Epoch 20/30\n",
      "15000/15000 [==============================] - 66s 4ms/sample - loss: 0.2329 - acc: 0.9084 - val_loss: 0.5076 - val_acc: 0.8501\n",
      "Epoch 21/30\n",
      "15000/15000 [==============================] - 65s 4ms/sample - loss: 0.2316 - acc: 0.9089 - val_loss: 0.5350 - val_acc: 0.8505\n",
      "Epoch 22/30\n",
      "15000/15000 [==============================] - 65s 4ms/sample - loss: 0.2300 - acc: 0.9086 - val_loss: 0.5227 - val_acc: 0.8500\n",
      "Epoch 23/30\n",
      "15000/15000 [==============================] - 65s 4ms/sample - loss: 0.2277 - acc: 0.9102 - val_loss: 0.5442 - val_acc: 0.8512\n",
      "Epoch 24/30\n",
      "15000/15000 [==============================] - 65s 4ms/sample - loss: 0.2266 - acc: 0.9097 - val_loss: 0.5386 - val_acc: 0.8488\n",
      "Epoch 25/30\n",
      "15000/15000 [==============================] - 65s 4ms/sample - loss: 0.2248 - acc: 0.9103 - val_loss: 0.5515 - val_acc: 0.8491\n",
      "Epoch 26/30\n",
      "15000/15000 [==============================] - 65s 4ms/sample - loss: 0.2290 - acc: 0.9105 - val_loss: 0.5763 - val_acc: 0.8503\n",
      "Epoch 27/30\n",
      "15000/15000 [==============================] - 65s 4ms/sample - loss: 0.2249 - acc: 0.9102 - val_loss: 0.5630 - val_acc: 0.8517\n",
      "Epoch 28/30\n",
      "15000/15000 [==============================] - 67s 4ms/sample - loss: 0.2232 - acc: 0.9109 - val_loss: 0.5794 - val_acc: 0.8499\n",
      "Epoch 29/30\n",
      "15000/15000 [==============================] - 65s 4ms/sample - loss: 0.2226 - acc: 0.9113 - val_loss: 0.5937 - val_acc: 0.8501\n",
      "Epoch 30/30\n",
      "15000/15000 [==============================] - 68s 5ms/sample - loss: 0.2231 - acc: 0.9115 - val_loss: 0.5868 - val_acc: 0.8483\n"
     ]
    }
   ],
   "source": [
    "train_norm = model_norm.fit(X_tr_norm,\n",
    "                            Y_train, \n",
    "                            epochs=30, \n",
    "                            batch_size=500, \n",
    "                            validation_data=(X_va_norm, Y_val), \n",
    "                            verbose=1)"
   ]
  },
  {
   "cell_type": "code",
   "execution_count": 14,
   "metadata": {},
   "outputs": [
    {
     "name": "stdout",
     "output_type": "stream",
     "text": [
      "30000/30000 [==============================] - 69s 2ms/sample - loss: 0.5168 - acc: 0.9106\n",
      "[0.5168318375428518, 0.9105667]\n"
     ]
    }
   ],
   "source": [
    "results = model_norm.evaluate(X_te_norm, Y_test)\n",
    "print(results)"
   ]
  },
  {
   "cell_type": "code",
   "execution_count": 15,
   "metadata": {},
   "outputs": [
    {
     "data": {
      "image/png": "[encoded data removed]",
      "text/plain": [
       "<Figure size 432x288 with 1 Axes>"
      ]
     },
     "metadata": {
      "needs_background": "light"
     },
     "output_type": "display_data"
    }
   ],
   "source": [
    "train_hist_norm = train_norm.history\n",
    "train_acc_norm = train_hist_norm['acc']\n",
    "val_acc_norm = train_hist_norm['val_acc']\n",
    "plt.figure()   \n",
    "num_epochs_norm = range(1, len(train_acc_norm) + 1)\n",
    "plt.plot(num_epochs_norm, train_acc_norm, 'b.-', label='Training acc')\n",
    "plt.plot(num_epochs_norm, val_acc_norm, 'r.-', label='Validation acc')\n",
    "plt.title('Training and validation accuracy - Normalized Data')\n",
    "plt.xlabel('Epochs')\n",
    "plt.ylabel('Accuracy')\n",
    "plt.legend()\n",
    "\n",
    "plt.show()"
   ]
  },
  {
   "cell_type": "code",
   "execution_count": 11,
   "metadata": {},
   "outputs": [
    {
     "name": "stdout",
     "output_type": "stream",
     "text": [
      "Doing L1 Regularization\n",
      "C: 0.001\n"
     ]
    },
    {
     "ename": "NameError",
     "evalue": "name 'X_tr_norm' is not defined",
     "output_type": "error",
     "traceback": [
      "\u001b[0;31m---------------------------------------------------------------------------\u001b[0m",
      "\u001b[0;31mNameError\u001b[0m                                 Traceback (most recent call last)",
      "\u001b[0;32m<ipython-input-11-f269806232a0>\u001b[0m in \u001b[0;36m<module>\u001b[0;34m\u001b[0m\n\u001b[1;32m     17\u001b[0m                      metrics=['acc'])\n\u001b[1;32m     18\u001b[0m \u001b[0;34m\u001b[0m\u001b[0m\n\u001b[0;32m---> 19\u001b[0;31m     train_norm_l1 = model_norm_l1.fit(X_tr_norm,\n\u001b[0m\u001b[1;32m     20\u001b[0m                                \u001b[0mY_train\u001b[0m\u001b[0;34m,\u001b[0m\u001b[0;34m\u001b[0m\u001b[0m\n\u001b[1;32m     21\u001b[0m                                \u001b[0mepochs\u001b[0m\u001b[0;34m=\u001b[0m\u001b[0;36m30\u001b[0m\u001b[0;34m,\u001b[0m\u001b[0;34m\u001b[0m\u001b[0m\n",
      "\u001b[0;31mNameError\u001b[0m: name 'X_tr_norm' is not defined"
     ]
    }
   ],
   "source": [
    "print(\"Doing L1 Regularization\")\n",
    "num_features = len(bad_words)\n",
    "cvals = [0.001, 0.01, 0.1]\n",
    "for c in cvals:\n",
    "    print(\"C:\", c)\n",
    "    model_norm_l1 = keras.Sequential()\n",
    "    model_norm_l1.add(keras.layers.Dense(units=num_features, input_shape=(num_features,)))\n",
    "    model_norm_l1.add(keras.layers.Dense(units=1500, activation=tf.nn.sigmoid, \n",
    "                                    activity_regularizer=tf.keras.regularizers.l1(l=c)))\n",
    "    model_norm_l1.add(keras.layers.Dense(units=1500, activation=tf.nn.sigmoid, \n",
    "                                    activity_regularizer=tf.keras.regularizers.l1(l=c)))\n",
    "    model_norm_l1.add(keras.layers.Dense(units=1, activation=tf.nn.sigmoid, \n",
    "                                    activity_regularizer=tf.keras.regularizers.l1(l=c)))\n",
    "                 \n",
    "    model_norm_l1.compile(optimizer='adam',\n",
    "                     loss='binary_crossentropy',\n",
    "                     metrics=['acc'])\n",
    "                 \n",
    "    train_norm_l1 = model_norm_l1.fit(X_tr_norm,\n",
    "                               Y_train,\n",
    "                               epochs=30,\n",
    "                               batch_size=500,\n",
    "                               validation_data=(X_va_norm, Y_val),\n",
    "                               verbose=1)\n",
    "    \n",
    "    print(\"Results:\")\n",
    "    results_norm_l1 = model_norm_l1.evaluate(X_te_norm, Y_test)\n",
    "    print(results_norm_l1)\n",
    "                 \n",
    "    train_norm_l1_hist = train_norm_l1.history\n",
    "    train_norm_l1_acc = train_norm_l1_hist['acc']\n",
    "    val_norm_l1_acc = train_norm_l1_hist['val_acc']\n",
    "    plt.figure()   \n",
    "    num_epochs_norm_l1 = range(1, len(train_norm_l1_acc) + 1)\n",
    "    plt.plot(num_epochs_norm_l1, train_norm_l1_acc, 'b.-', label='Training acc')\n",
    "    plt.plot(num_epochs_norm_l1, val_norm_l1_acc, 'r.-', label='Validation acc')\n",
    "    plt.title('Training and validation accuracy, not scaled, L1 reg')\n",
    "    plt.xlabel('Epochs')\n",
    "    plt.ylabel('Accuracy')\n",
    "    plt.legend()\n",
    "\n",
    "    plt.show()"
   ]
  },
  {
   "cell_type": "markdown",
   "metadata": {},
   "source": [
    "# Min-Max Scaled Data"
   ]
  },
  {
   "cell_type": "code",
   "execution_count": 8,
   "metadata": {},
   "outputs": [
    {
     "name": "stderr",
     "output_type": "stream",
     "text": [
      "/Library/Frameworks/Python.framework/Versions/3.6/lib/python3.6/site-packages/sklearn/utils/validation.py:595: DataConversionWarning: Data with input dtype int64 was converted to float64.\n",
      "  warnings.warn(msg, DataConversionWarning)\n",
      "/Library/Frameworks/Python.framework/Versions/3.6/lib/python3.6/site-packages/sklearn/utils/validation.py:595: DataConversionWarning: Data with input dtype int64 was converted to float64.\n",
      "  warnings.warn(msg, DataConversionWarning)\n",
      "/Library/Frameworks/Python.framework/Versions/3.6/lib/python3.6/site-packages/sklearn/utils/validation.py:595: DataConversionWarning: Data with input dtype int64 was converted to float64.\n",
      "  warnings.warn(msg, DataConversionWarning)\n"
     ]
    }
   ],
   "source": [
    "X_tr_mm = preprocessing.minmax_scale(X_train, feature_range=(0,1))\n",
    "X_te_mm = preprocessing.minmax_scale(X_test, feature_range=(0,1))\n",
    "X_va_mm = preprocessing.minmax_scale(X_val, feature_range=(0,1))"
   ]
  },
  {
   "cell_type": "code",
   "execution_count": 11,
   "metadata": {},
   "outputs": [
    {
     "name": "stdout",
     "output_type": "stream",
     "text": [
      "WARNING:tensorflow:From /usr/local/lib/python3.7/site-packages/tensorflow/python/ops/resource_variable_ops.py:435: colocate_with (from tensorflow.python.framework.ops) is deprecated and will be removed in a future version.\n",
      "Instructions for updating:\n",
      "Colocations handled automatically by placer.\n",
      "_________________________________________________________________\n",
      "Layer (type)                 Output Shape              Param #   \n",
      "=================================================================\n",
      "dense (Dense)                (None, 5213)              27180582  \n",
      "_________________________________________________________________\n",
      "dense_1 (Dense)              (None, 1500)              7821000   \n",
      "_________________________________________________________________\n",
      "dense_2 (Dense)              (None, 1500)              2251500   \n",
      "_________________________________________________________________\n",
      "dense_3 (Dense)              (None, 1)                 1501      \n",
      "=================================================================\n",
      "Total params: 37,254,583\n",
      "Trainable params: 37,254,583\n",
      "Non-trainable params: 0\n",
      "_________________________________________________________________\n"
     ]
    }
   ],
   "source": [
    "num_features = len(bad_words)\n",
    "\n",
    "modem_mm = keras.Sequential()\n",
    "modem_mm.add(keras.layers.Dense(units=num_features, input_shape=(num_features,)))\n",
    "modem_mm.add(keras.layers.Dense(units=1500, activation=tf.nn.sigmoid))\n",
    "modem_mm.add(keras.layers.Dense(units=1500, activation=tf.nn.sigmoid))\n",
    "modem_mm.add(keras.layers.Dense(units=1, activation=tf.nn.sigmoid))\n",
    "modem_mm.compile(optimizer='adam',\n",
    "                 loss='binary_crossentropy',\n",
    "                 metrics=['acc'])\n",
    "modem_mm.summary()"
   ]
  },
  {
   "cell_type": "code",
   "execution_count": 12,
   "metadata": {},
   "outputs": [
    {
     "name": "stdout",
     "output_type": "stream",
     "text": [
      "Train on 15000 samples, validate on 15000 samples\n",
      "WARNING:tensorflow:From /usr/local/lib/python3.7/site-packages/tensorflow/python/ops/math_ops.py:3066: to_int32 (from tensorflow.python.ops.math_ops) is deprecated and will be removed in a future version.\n",
      "Instructions for updating:\n",
      "Use tf.cast instead.\n",
      "Epoch 1/30\n",
      "15000/15000 [==============================] - 29s 2ms/sample - loss: 1.2916 - acc: 0.5015 - val_loss: 0.7541 - val_acc: 0.5000\n",
      "Epoch 2/30\n",
      "15000/15000 [==============================] - 27s 2ms/sample - loss: 0.6500 - acc: 0.5937 - val_loss: 0.5890 - val_acc: 0.6785\n",
      "Epoch 3/30\n",
      "15000/15000 [==============================] - 27s 2ms/sample - loss: 0.5168 - acc: 0.7373 - val_loss: 0.5860 - val_acc: 0.7008\n",
      "Epoch 4/30\n",
      "15000/15000 [==============================] - 28s 2ms/sample - loss: 0.4706 - acc: 0.7730 - val_loss: 0.5976 - val_acc: 0.7293\n",
      "Epoch 5/30\n",
      "15000/15000 [==============================] - 27s 2ms/sample - loss: 0.4445 - acc: 0.7866 - val_loss: 0.6200 - val_acc: 0.7347\n",
      "Epoch 6/30\n",
      "15000/15000 [==============================] - 29s 2ms/sample - loss: 0.4241 - acc: 0.7950 - val_loss: 0.6441 - val_acc: 0.7405\n",
      "Epoch 7/30\n",
      "15000/15000 [==============================] - 30s 2ms/sample - loss: 0.4087 - acc: 0.8092 - val_loss: 0.6677 - val_acc: 0.7449\n",
      "Epoch 8/30\n",
      "15000/15000 [==============================] - 27s 2ms/sample - loss: 0.3926 - acc: 0.8205 - val_loss: 0.7039 - val_acc: 0.7385\n",
      "Epoch 9/30\n",
      "15000/15000 [==============================] - 27s 2ms/sample - loss: 0.3810 - acc: 0.8288 - val_loss: 0.7109 - val_acc: 0.7778\n",
      "Epoch 10/30\n",
      "15000/15000 [==============================] - 27s 2ms/sample - loss: 0.3695 - acc: 0.8346 - val_loss: 0.7542 - val_acc: 0.7389\n",
      "Epoch 11/30\n",
      "15000/15000 [==============================] - 30s 2ms/sample - loss: 0.3588 - acc: 0.8387 - val_loss: 0.7707 - val_acc: 0.8078\n",
      "Epoch 12/30\n",
      "15000/15000 [==============================] - 29s 2ms/sample - loss: 0.3486 - acc: 0.8451 - val_loss: 0.7857 - val_acc: 0.7591\n",
      "Epoch 13/30\n",
      "15000/15000 [==============================] - 28s 2ms/sample - loss: 0.3369 - acc: 0.8505 - val_loss: 0.8099 - val_acc: 0.7740\n",
      "Epoch 14/30\n",
      "15000/15000 [==============================] - 28s 2ms/sample - loss: 0.3292 - acc: 0.8540 - val_loss: 0.8383 - val_acc: 0.7667\n",
      "Epoch 15/30\n",
      "15000/15000 [==============================] - 28s 2ms/sample - loss: 0.3235 - acc: 0.8561 - val_loss: 0.8454 - val_acc: 0.7987\n",
      "Epoch 16/30\n",
      "15000/15000 [==============================] - 28s 2ms/sample - loss: 0.3193 - acc: 0.8649 - val_loss: 0.8582 - val_acc: 0.8023\n",
      "Epoch 17/30\n",
      "15000/15000 [==============================] - 28s 2ms/sample - loss: 0.3083 - acc: 0.8675 - val_loss: 0.8959 - val_acc: 0.8021\n",
      "Epoch 18/30\n",
      "15000/15000 [==============================] - 29s 2ms/sample - loss: 0.3066 - acc: 0.8709 - val_loss: 0.9286 - val_acc: 0.7559\n",
      "Epoch 19/30\n",
      "15000/15000 [==============================] - 28s 2ms/sample - loss: 0.3025 - acc: 0.8740 - val_loss: 0.9049 - val_acc: 0.7972\n",
      "Epoch 20/30\n",
      "15000/15000 [==============================] - 28s 2ms/sample - loss: 0.2980 - acc: 0.8765 - val_loss: 0.9166 - val_acc: 0.7944\n",
      "Epoch 21/30\n",
      "15000/15000 [==============================] - 28s 2ms/sample - loss: 0.2962 - acc: 0.8810 - val_loss: 0.9241 - val_acc: 0.7722\n",
      "Epoch 22/30\n",
      "15000/15000 [==============================] - 30s 2ms/sample - loss: 0.2891 - acc: 0.8820 - val_loss: 0.9220 - val_acc: 0.8002\n",
      "Epoch 23/30\n",
      "15000/15000 [==============================] - 29s 2ms/sample - loss: 0.2921 - acc: 0.8811 - val_loss: 0.9826 - val_acc: 0.7580\n",
      "Epoch 24/30\n",
      "15000/15000 [==============================] - 27s 2ms/sample - loss: 0.3003 - acc: 0.8787 - val_loss: 0.9022 - val_acc: 0.8025\n",
      "Epoch 25/30\n",
      "15000/15000 [==============================] - 28s 2ms/sample - loss: 0.2825 - acc: 0.8847 - val_loss: 0.9295 - val_acc: 0.8015\n",
      "Epoch 26/30\n",
      "15000/15000 [==============================] - 28s 2ms/sample - loss: 0.2794 - acc: 0.8867 - val_loss: 0.9425 - val_acc: 0.7987\n",
      "Epoch 27/30\n",
      "15000/15000 [==============================] - 28s 2ms/sample - loss: 0.2763 - acc: 0.8900 - val_loss: 0.9629 - val_acc: 0.8115\n",
      "Epoch 28/30\n",
      "15000/15000 [==============================] - 29s 2ms/sample - loss: 0.2819 - acc: 0.8869 - val_loss: 0.9350 - val_acc: 0.7979\n",
      "Epoch 29/30\n",
      "15000/15000 [==============================] - 28s 2ms/sample - loss: 0.2738 - acc: 0.8902 - val_loss: 0.9578 - val_acc: 0.8007\n",
      "Epoch 30/30\n",
      "15000/15000 [==============================] - 28s 2ms/sample - loss: 0.2712 - acc: 0.8913 - val_loss: 0.9659 - val_acc: 0.7995\n"
     ]
    }
   ],
   "source": [
    "train_mm = modem_mm.fit(X_tr_mm,\n",
    "                        Y_train, \n",
    "                        epochs=30, \n",
    "                        batch_size=500, \n",
    "                        validation_data=(X_va_mm, Y_val), \n",
    "                        verbose=1)"
   ]
  },
  {
   "cell_type": "code",
   "execution_count": 13,
   "metadata": {},
   "outputs": [
    {
     "name": "stdout",
     "output_type": "stream",
     "text": [
      "30000/30000 [==============================] - 24s 801us/sample - loss: 1.2001 - acc: 0.8747\n",
      "[1.200053024037679, 0.8746667]\n"
     ]
    }
   ],
   "source": [
    "results = modem_mm.evaluate(X_te_mm, Y_test)\n",
    "print(results)"
   ]
  },
  {
   "cell_type": "code",
   "execution_count": 14,
   "metadata": {},
   "outputs": [
    {
     "data": {
      "image/png": "[encoded data removed]",
      "text/plain": [
       "<Figure size 432x288 with 1 Axes>"
      ]
     },
     "metadata": {
      "needs_background": "light"
     },
     "output_type": "display_data"
    }
   ],
   "source": [
    "train_hist_mm = train_mm.history\n",
    "train_acc_mm = train_hist_mm['acc']\n",
    "val_acc_mm = train_hist_mm['val_acc']\n",
    "plt.figure()   \n",
    "num_epochs_mm = range(1, len(train_acc_mm) + 1)\n",
    "plt.plot(num_epochs_mm, train_acc_mm, 'b.-', label='Training acc')\n",
    "plt.plot(num_epochs_mm, val_acc_mm, 'r.-', label='Validation acc')\n",
    "plt.title('Training and validation accuracy - Min-Max Scaled Data')\n",
    "plt.xlabel('Epochs')\n",
    "plt.ylabel('Accuracy')\n",
    "plt.legend()\n",
    "\n",
    "plt.show()"
   ]
  },
  {
   "cell_type": "code",
   "execution_count": 10,
   "metadata": {},
   "outputs": [
    {
     "name": "stdout",
     "output_type": "stream",
     "text": [
      "Doing L1 Regularization\n",
      "C: 0.001\n",
      "Train on 15000 samples, validate on 15000 samples\n",
      "Epoch 1/30\n",
      "15000/15000 [==============================] - 74s 5ms/sample - loss: 1.7146 - acc: 0.4996 - val_loss: 1.2549 - val_acc: 0.5000\n",
      "Epoch 2/30\n",
      "15000/15000 [==============================] - 68s 5ms/sample - loss: 1.1151 - acc: 0.6108 - val_loss: 0.9972 - val_acc: 0.6964\n",
      "Epoch 3/30\n",
      "15000/15000 [==============================] - 67s 4ms/sample - loss: 0.8950 - acc: 0.7294 - val_loss: 0.8873 - val_acc: 0.7033\n",
      "Epoch 4/30\n",
      "15000/15000 [==============================] - 67s 4ms/sample - loss: 0.7808 - acc: 0.7575 - val_loss: 0.8318 - val_acc: 0.7125\n",
      "Epoch 5/30\n",
      "15000/15000 [==============================] - 71s 5ms/sample - loss: 0.7163 - acc: 0.7736 - val_loss: 0.8071 - val_acc: 0.7243\n",
      "Epoch 6/30\n",
      "15000/15000 [==============================] - 68s 5ms/sample - loss: 0.6748 - acc: 0.7875 - val_loss: 0.7859 - val_acc: 0.7325\n",
      "Epoch 7/30\n",
      "15000/15000 [==============================] - 67s 4ms/sample - loss: 0.6394 - acc: 0.8003 - val_loss: 0.7749 - val_acc: 0.7369\n",
      "Epoch 8/30\n",
      "15000/15000 [==============================] - 68s 5ms/sample - loss: 0.6144 - acc: 0.8057 - val_loss: 0.7739 - val_acc: 0.7286\n",
      "Epoch 9/30\n",
      "15000/15000 [==============================] - 67s 4ms/sample - loss: 0.5946 - acc: 0.8121 - val_loss: 0.7565 - val_acc: 0.7558\n",
      "Epoch 10/30\n",
      "15000/15000 [==============================] - 67s 4ms/sample - loss: 0.5716 - acc: 0.8218 - val_loss: 0.7445 - val_acc: 0.7505\n",
      "Epoch 11/30\n",
      "15000/15000 [==============================] - 67s 4ms/sample - loss: 0.5545 - acc: 0.8297 - val_loss: 0.7397 - val_acc: 0.7567\n",
      "Epoch 12/30\n",
      "15000/15000 [==============================] - 67s 4ms/sample - loss: 0.5369 - acc: 0.8350 - val_loss: 0.7464 - val_acc: 0.7943\n",
      "Epoch 13/30\n",
      "15000/15000 [==============================] - 67s 4ms/sample - loss: 0.5227 - acc: 0.8389 - val_loss: 0.7321 - val_acc: 0.7823\n",
      "Epoch 14/30\n",
      "15000/15000 [==============================] - 67s 4ms/sample - loss: 0.5147 - acc: 0.8435 - val_loss: 0.7198 - val_acc: 0.7792\n",
      "Epoch 15/30\n",
      "15000/15000 [==============================] - 66s 4ms/sample - loss: 0.5002 - acc: 0.8459 - val_loss: 0.7173 - val_acc: 0.7980\n",
      "Epoch 16/30\n",
      "15000/15000 [==============================] - 68s 5ms/sample - loss: 0.4850 - acc: 0.8524 - val_loss: 0.7209 - val_acc: 0.7742\n",
      "Epoch 17/30\n",
      "15000/15000 [==============================] - 66s 4ms/sample - loss: 0.4724 - acc: 0.8531 - val_loss: 0.7200 - val_acc: 0.7571\n",
      "Epoch 18/30\n",
      "15000/15000 [==============================] - 67s 4ms/sample - loss: 0.4623 - acc: 0.8579 - val_loss: 0.7233 - val_acc: 0.7615\n",
      "Epoch 19/30\n",
      "15000/15000 [==============================] - 67s 4ms/sample - loss: 0.4524 - acc: 0.8597 - val_loss: 0.7070 - val_acc: 0.7749\n",
      "Epoch 20/30\n",
      "15000/15000 [==============================] - 67s 4ms/sample - loss: 0.4454 - acc: 0.8631 - val_loss: 0.7054 - val_acc: 0.7778\n",
      "Epoch 21/30\n",
      "15000/15000 [==============================] - 67s 4ms/sample - loss: 0.4446 - acc: 0.8663 - val_loss: 0.7425 - val_acc: 0.7489\n",
      "Epoch 22/30\n",
      "15000/15000 [==============================] - 67s 4ms/sample - loss: 0.4301 - acc: 0.8687 - val_loss: 0.6978 - val_acc: 0.7784\n",
      "Epoch 23/30\n",
      "15000/15000 [==============================] - 67s 4ms/sample - loss: 0.4201 - acc: 0.8734 - val_loss: 0.7054 - val_acc: 0.7771\n",
      "Epoch 24/30\n",
      "15000/15000 [==============================] - 67s 4ms/sample - loss: 0.4137 - acc: 0.8754 - val_loss: 0.6991 - val_acc: 0.8070\n",
      "Epoch 25/30\n",
      "15000/15000 [==============================] - 67s 4ms/sample - loss: 0.4077 - acc: 0.8795 - val_loss: 0.7237 - val_acc: 0.7683\n",
      "Epoch 26/30\n",
      "15000/15000 [==============================] - 67s 4ms/sample - loss: 0.4071 - acc: 0.8770 - val_loss: 0.6949 - val_acc: 0.8066\n",
      "Epoch 27/30\n",
      "15000/15000 [==============================] - 66s 4ms/sample - loss: 0.3975 - acc: 0.8824 - val_loss: 0.6943 - val_acc: 0.8097\n",
      "Epoch 28/30\n",
      "15000/15000 [==============================] - 67s 4ms/sample - loss: 0.3987 - acc: 0.8783 - val_loss: 0.6955 - val_acc: 0.8188\n",
      "Epoch 29/30\n",
      "15000/15000 [==============================] - 67s 4ms/sample - loss: 0.3920 - acc: 0.8845 - val_loss: 0.7019 - val_acc: 0.7949\n",
      "Epoch 30/30\n",
      "15000/15000 [==============================] - 67s 4ms/sample - loss: 0.3854 - acc: 0.8857 - val_loss: 0.6891 - val_acc: 0.8041\n",
      "Results:\n",
      "30000/30000 [==============================] - 74s 2ms/sample - loss: 0.7515 - acc: 0.8689\n",
      "[0.7515490647474925, 0.8689]\n"
     ]
    },
    {
     "data": {
      "image/png": "[encoded data removed]",
      "text/plain": [
       "<Figure size 432x288 with 1 Axes>"
      ]
     },
     "metadata": {
      "needs_background": "light"
     },
     "output_type": "display_data"
    },
    {
     "name": "stdout",
     "output_type": "stream",
     "text": [
      "C: 0.01\n",
      "Train on 15000 samples, validate on 15000 samples\n",
      "Epoch 1/30\n",
      "15000/15000 [==============================] - 69s 5ms/sample - loss: 6.5491 - acc: 0.5015 - val_loss: 3.7646 - val_acc: 0.5006\n",
      "Epoch 2/30\n",
      "15000/15000 [==============================] - 67s 4ms/sample - loss: 3.2307 - acc: 0.5143 - val_loss: 2.7194 - val_acc: 0.5031\n",
      "Epoch 3/30\n",
      "15000/15000 [==============================] - 67s 4ms/sample - loss: 2.3346 - acc: 0.5225 - val_loss: 1.9536 - val_acc: 0.5002\n",
      "Epoch 4/30\n",
      "15000/15000 [==============================] - 66s 4ms/sample - loss: 1.7400 - acc: 0.5197 - val_loss: 1.5737 - val_acc: 0.5000\n",
      "Epoch 5/30\n",
      "15000/15000 [==============================] - 66s 4ms/sample - loss: 1.4925 - acc: 0.5000 - val_loss: 1.4272 - val_acc: 0.5000\n",
      "Epoch 6/30\n",
      "15000/15000 [==============================] - 66s 4ms/sample - loss: 1.3821 - acc: 0.5000 - val_loss: 1.3391 - val_acc: 0.5000\n",
      "Epoch 7/30\n",
      "15000/15000 [==============================] - 67s 4ms/sample - loss: 1.3065 - acc: 0.5000 - val_loss: 1.2759 - val_acc: 0.5000\n",
      "Epoch 8/30\n",
      "15000/15000 [==============================] - 67s 4ms/sample - loss: 1.2524 - acc: 0.5000 - val_loss: 1.2298 - val_acc: 0.5000\n",
      "Epoch 9/30\n",
      "15000/15000 [==============================] - 67s 4ms/sample - loss: 1.2130 - acc: 0.5000 - val_loss: 1.1961 - val_acc: 0.5000\n",
      "Epoch 10/30\n",
      "15000/15000 [==============================] - 67s 4ms/sample - loss: 1.1822 - acc: 0.5000 - val_loss: 1.1664 - val_acc: 0.5000\n",
      "Epoch 11/30\n",
      "15000/15000 [==============================] - 67s 4ms/sample - loss: 1.1526 - acc: 0.5000 - val_loss: 1.1383 - val_acc: 0.5000\n",
      "Epoch 12/30\n",
      "15000/15000 [==============================] - 66s 4ms/sample - loss: 1.1265 - acc: 0.5000 - val_loss: 1.1143 - val_acc: 0.5000\n",
      "Epoch 13/30\n",
      "15000/15000 [==============================] - 66s 4ms/sample - loss: 1.1039 - acc: 0.5000 - val_loss: 1.0934 - val_acc: 0.5000\n",
      "Epoch 14/30\n",
      "15000/15000 [==============================] - 72s 5ms/sample - loss: 1.0844 - acc: 0.5000 - val_loss: 1.0749 - val_acc: 0.5000\n",
      "Epoch 15/30\n",
      "15000/15000 [==============================] - 67s 4ms/sample - loss: 1.0667 - acc: 0.5000 - val_loss: 1.0582 - val_acc: 0.5000\n",
      "Epoch 16/30\n",
      "15000/15000 [==============================] - 67s 4ms/sample - loss: 1.0506 - acc: 0.5000 - val_loss: 1.0429 - val_acc: 0.5000\n",
      "Epoch 17/30\n",
      "15000/15000 [==============================] - 67s 4ms/sample - loss: 1.0360 - acc: 0.5000 - val_loss: 1.0289 - val_acc: 0.5000\n",
      "Epoch 18/30\n",
      "15000/15000 [==============================] - 67s 4ms/sample - loss: 1.0232 - acc: 0.5000 - val_loss: 1.0178 - val_acc: 0.5000\n",
      "Epoch 19/30\n",
      "15000/15000 [==============================] - 67s 4ms/sample - loss: 1.0129 - acc: 0.5000 - val_loss: 1.0072 - val_acc: 0.5000\n",
      "Epoch 20/30\n",
      "15000/15000 [==============================] - 67s 4ms/sample - loss: 1.0021 - acc: 0.5000 - val_loss: 0.9968 - val_acc: 0.5000\n",
      "Epoch 21/30\n",
      "15000/15000 [==============================] - 67s 4ms/sample - loss: 0.9920 - acc: 0.5000 - val_loss: 0.9872 - val_acc: 0.5000\n",
      "Epoch 22/30\n",
      "15000/15000 [==============================] - 67s 4ms/sample - loss: 0.9832 - acc: 0.5000 - val_loss: 0.9788 - val_acc: 0.5000\n",
      "Epoch 23/30\n",
      "15000/15000 [==============================] - 67s 4ms/sample - loss: 0.9748 - acc: 0.5000 - val_loss: 0.9705 - val_acc: 0.5000\n",
      "Epoch 24/30\n",
      "15000/15000 [==============================] - 67s 4ms/sample - loss: 0.9667 - acc: 0.5000 - val_loss: 0.9628 - val_acc: 0.5000\n",
      "Epoch 25/30\n",
      "15000/15000 [==============================] - 67s 4ms/sample - loss: 0.9593 - acc: 0.5000 - val_loss: 0.9557 - val_acc: 0.5000\n",
      "Epoch 26/30\n",
      "15000/15000 [==============================] - 67s 4ms/sample - loss: 0.9523 - acc: 0.5000 - val_loss: 0.9488 - val_acc: 0.5000\n",
      "Epoch 27/30\n",
      "15000/15000 [==============================] - 71s 5ms/sample - loss: 0.9456 - acc: 0.5000 - val_loss: 0.9422 - val_acc: 0.5000\n",
      "Epoch 28/30\n",
      "15000/15000 [==============================] - 67s 4ms/sample - loss: 0.9392 - acc: 0.5000 - val_loss: 0.9362 - val_acc: 0.5000\n",
      "Epoch 29/30\n",
      "15000/15000 [==============================] - 67s 4ms/sample - loss: 0.9333 - acc: 0.5000 - val_loss: 0.9303 - val_acc: 0.5000\n",
      "Epoch 30/30\n",
      "15000/15000 [==============================] - 67s 4ms/sample - loss: 0.9277 - acc: 0.5000 - val_loss: 0.9249 - val_acc: 0.5000\n",
      "Results:\n",
      "30000/30000 [==============================] - 76s 3ms/sample - loss: 0.9204 - acc: 1.0000\n",
      "[0.9203683913548787, 1.0]\n"
     ]
    },
    {
     "data": {
      "image/png": "[encoded data removed]",
      "text/plain": [
       "<Figure size 432x288 with 1 Axes>"
      ]
     },
     "metadata": {
      "needs_background": "light"
     },
     "output_type": "display_data"
    },
    {
     "name": "stdout",
     "output_type": "stream",
     "text": [
      "C: 0.1\n",
      "Train on 15000 samples, validate on 15000 samples\n",
      "Epoch 1/30\n",
      "15000/15000 [==============================] - 70s 5ms/sample - loss: 57.8866 - acc: 0.5051 - val_loss: 31.0781 - val_acc: 0.5527\n",
      "Epoch 2/30\n",
      "15000/15000 [==============================] - 67s 4ms/sample - loss: 25.6453 - acc: 0.5045 - val_loss: 20.7109 - val_acc: 0.5000\n",
      "Epoch 3/30\n",
      "15000/15000 [==============================] - 66s 4ms/sample - loss: 16.9226 - acc: 0.5000 - val_loss: 13.1176 - val_acc: 0.5000\n",
      "Epoch 4/30\n",
      "15000/15000 [==============================] - 66s 4ms/sample - loss: 10.9332 - acc: 0.5000 - val_loss: 9.3088 - val_acc: 0.5000\n",
      "Epoch 5/30\n",
      "15000/15000 [==============================] - 66s 4ms/sample - loss: 8.5673 - acc: 0.5000 - val_loss: 7.9249 - val_acc: 0.5000\n",
      "Epoch 6/30\n",
      "15000/15000 [==============================] - 66s 4ms/sample - loss: 7.4772 - acc: 0.5000 - val_loss: 7.0511 - val_acc: 0.5000\n",
      "Epoch 7/30\n",
      "15000/15000 [==============================] - 67s 4ms/sample - loss: 6.7276 - acc: 0.5000 - val_loss: 6.4201 - val_acc: 0.5000\n",
      "Epoch 8/30\n",
      "15000/15000 [==============================] - 66s 4ms/sample - loss: 6.1896 - acc: 0.5000 - val_loss: 5.9599 - val_acc: 0.5000\n",
      "Epoch 9/30\n",
      "15000/15000 [==============================] - 67s 4ms/sample - loss: 5.7700 - acc: 0.5000 - val_loss: 5.5793 - val_acc: 0.5000\n",
      "Epoch 10/30\n",
      "15000/15000 [==============================] - 67s 4ms/sample - loss: 5.4208 - acc: 0.5000 - val_loss: 5.2652 - val_acc: 0.5000\n",
      "Epoch 11/30\n",
      "15000/15000 [==============================] - 67s 4ms/sample - loss: 5.1346 - acc: 0.5000 - val_loss: 5.0021 - val_acc: 0.5000\n",
      "Epoch 12/30\n",
      "15000/15000 [==============================] - 67s 4ms/sample - loss: 4.8994 - acc: 0.5000 - val_loss: 4.7942 - val_acc: 0.5000\n",
      "Epoch 13/30\n",
      "15000/15000 [==============================] - 73s 5ms/sample - loss: 4.6962 - acc: 0.5000 - val_loss: 4.5945 - val_acc: 0.5000\n",
      "Epoch 14/30\n",
      "15000/15000 [==============================] - 82s 5ms/sample - loss: 4.5031 - acc: 0.5000 - val_loss: 4.4084 - val_acc: 0.5000\n",
      "Epoch 15/30\n",
      "15000/15000 [==============================] - 68s 5ms/sample - loss: 4.3253 - acc: 0.5000 - val_loss: 4.2422 - val_acc: 0.5000\n",
      "Epoch 16/30\n",
      "15000/15000 [==============================] - 67s 4ms/sample - loss: 4.1753 - acc: 0.5000 - val_loss: 4.1036 - val_acc: 0.5000\n",
      "Epoch 17/30\n",
      "15000/15000 [==============================] - 67s 4ms/sample - loss: 4.0386 - acc: 0.5000 - val_loss: 3.9709 - val_acc: 0.5000\n",
      "Epoch 18/30\n",
      "15000/15000 [==============================] - 67s 4ms/sample - loss: 3.9110 - acc: 0.5000 - val_loss: 3.8498 - val_acc: 0.5000\n",
      "Epoch 19/30\n",
      "15000/15000 [==============================] - 67s 4ms/sample - loss: 3.7958 - acc: 0.5000 - val_loss: 3.7413 - val_acc: 0.5000\n",
      "Epoch 20/30\n",
      "15000/15000 [==============================] - 68s 5ms/sample - loss: 3.6923 - acc: 0.5000 - val_loss: 3.6411 - val_acc: 0.5000\n",
      "Epoch 21/30\n",
      "15000/15000 [==============================] - 67s 4ms/sample - loss: 3.5947 - acc: 0.5000 - val_loss: 3.5467 - val_acc: 0.5000\n",
      "Epoch 22/30\n",
      "15000/15000 [==============================] - 67s 4ms/sample - loss: 3.5059 - acc: 0.5000 - val_loss: 3.4627 - val_acc: 0.5000\n",
      "Epoch 23/30\n",
      "15000/15000 [==============================] - 67s 4ms/sample - loss: 3.4237 - acc: 0.5000 - val_loss: 3.3828 - val_acc: 0.5000\n",
      "Epoch 24/30\n",
      "15000/15000 [==============================] - 68s 5ms/sample - loss: 3.3460 - acc: 0.5000 - val_loss: 3.3074 - val_acc: 0.5000\n",
      "Epoch 25/30\n",
      "15000/15000 [==============================] - 67s 4ms/sample - loss: 3.2723 - acc: 0.5000 - val_loss: 3.2353 - val_acc: 0.5000\n",
      "Epoch 26/30\n",
      "15000/15000 [==============================] - 67s 4ms/sample - loss: 3.2022 - acc: 0.5000 - val_loss: 3.1688 - val_acc: 0.5000\n",
      "Epoch 27/30\n",
      "15000/15000 [==============================] - 67s 4ms/sample - loss: 3.1422 - acc: 0.5000 - val_loss: 3.1152 - val_acc: 0.5000\n",
      "Epoch 28/30\n",
      "15000/15000 [==============================] - 67s 4ms/sample - loss: 3.0854 - acc: 0.5000 - val_loss: 3.0555 - val_acc: 0.5000\n",
      "Epoch 29/30\n",
      "15000/15000 [==============================] - 67s 4ms/sample - loss: 3.0284 - acc: 0.5000 - val_loss: 2.9999 - val_acc: 0.5000\n",
      "Epoch 30/30\n",
      "15000/15000 [==============================] - 67s 4ms/sample - loss: 2.9737 - acc: 0.5000 - val_loss: 2.9464 - val_acc: 0.5000\n",
      "Results:\n",
      "30000/30000 [==============================] - 76s 3ms/sample - loss: 2.8969 - acc: 1.0000\n",
      "[2.896892084121704, 1.0]\n"
     ]
    },
    {
     "data": {
      "image/png": "[encoded data removed]",
      "text/plain": [
       "<Figure size 432x288 with 1 Axes>"
      ]
     },
     "metadata": {
      "needs_background": "light"
     },
     "output_type": "display_data"
    }
   ],
   "source": [
    "print(\"Doing L1 Regularization\")\n",
    "num_features = len(bad_words)\n",
    "cvals = [0.001, 0.01, 0.1]\n",
    "for c in cvals:\n",
    "    print(\"C:\", c)\n",
    "    model_mm_l1 = keras.Sequential()\n",
    "    model_mm_l1.add(keras.layers.Dense(units=num_features, input_shape=(num_features,)))\n",
    "    model_mm_l1.add(keras.layers.Dense(units=1500, activation=tf.nn.sigmoid, \n",
    "                                    activity_regularizer=tf.keras.regularizers.l1(l=c)))\n",
    "    model_mm_l1.add(keras.layers.Dense(units=1500, activation=tf.nn.sigmoid, \n",
    "                                    activity_regularizer=tf.keras.regularizers.l1(l=c)))\n",
    "    model_mm_l1.add(keras.layers.Dense(units=1, activation=tf.nn.sigmoid, \n",
    "                                    activity_regularizer=tf.keras.regularizers.l1(l=c)))\n",
    "                 \n",
    "    model_mm_l1.compile(optimizer='adam',\n",
    "                     loss='binary_crossentropy',\n",
    "                     metrics=['acc'])\n",
    "                 \n",
    "    train_mm_l1 = model_mm_l1.fit(X_tr_mm,\n",
    "                               Y_train,\n",
    "                               epochs=30,\n",
    "                               batch_size=500,\n",
    "                               validation_data=(X_va_mm, Y_val),\n",
    "                               verbose=1)\n",
    "    \n",
    "    print(\"Results:\")\n",
    "    results_mm_l1 = model_mm_l1.evaluate(X_te_mm, Y_test)\n",
    "    print(results_mm_l1)\n",
    "                 \n",
    "    train_mm_l1_hist = train_mm_l1.history\n",
    "    train_mm_l1_acc = train_mm_l1_hist['acc']\n",
    "    val_mm_l1_acc = train_mm_l1_hist['val_acc']\n",
    "    plt.figure()   \n",
    "    num_epochs_mm_l1 = range(1, len(train_mm_l1_acc) + 1)\n",
    "    plt.plot(num_epochs_mm_l1, train_mm_l1_acc, 'b.-', label='Training acc')\n",
    "    plt.plot(num_epochs_mm_l1, val_mm_l1_acc, 'r.-', label='Validation acc')\n",
    "    plt.title('Training and validation accuracy, not scaled, L1 reg')\n",
    "    plt.xlabel('Epochs')\n",
    "    plt.ylabel('Accuracy')\n",
    "    plt.legend()\n",
    "\n",
    "    plt.show()"
   ]
  },
  {
   "cell_type": "code",
   "execution_count": null,
   "metadata": {},
   "outputs": [],
   "source": []
  }
 ],
 "metadata": {
  "kernelspec": {
   "display_name": "Python 3",
   "language": "python",
   "name": "python3"
  },
  "language_info": {
   "codemirror_mode": {
    "name": "ipython",
    "version": 3
   },
   "file_extension": ".py",
   "mimetype": "text/x-python",
   "name": "python",
   "nbconvert_exporter": "python",
   "pygments_lexer": "ipython3",
   "version": "3.6.2"
  }
 },
 "nbformat": 4,
 "nbformat_minor": 2
}
