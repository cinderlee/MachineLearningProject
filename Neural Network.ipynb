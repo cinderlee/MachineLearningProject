{
 "cells": [
  {
   "cell_type": "code",
   "execution_count": 1,
   "metadata": {},
   "outputs": [],
   "source": [
    "import sklearn\n",
    "import numpy as np\n",
    "from numpy import ma\n",
    "import pandas as pd\n",
    "from sklearn.feature_extraction.text import CountVectorizer\n",
    "from sklearn.preprocessing import StandardScaler\n",
    "from sklearn import preprocessing\n",
    "import numpy.random as r\n",
    "from sklearn.metrics import accuracy_score \n",
    "\n",
    "import matplotlib.pyplot as plt\n",
    "%matplotlib inline\n",
    "\n",
    "from sklearn.linear_model import LogisticRegression\n",
    "import tensorflow as tf\n",
    "from tensorflow import keras"
   ]
  },
  {
   "cell_type": "code",
   "execution_count": 2,
   "metadata": {},
   "outputs": [
    {
     "name": "stderr",
     "output_type": "stream",
     "text": [
      "/usr/local/lib/python3.7/site-packages/IPython/core/interactiveshell.py:3020: DtypeWarning: Columns (2,3,4,5,6,7) have mixed types. Specify dtype option on import or set low_memory=False.\n",
      "  interactivity=interactivity, compiler=compiler, result=result)\n"
     ]
    }
   ],
   "source": [
    "names =['id', 'comment_text', 'toxic', 'severe_toxic', 'obscene', 'threat', 'insult', 'identity_hate']\n",
    "df = pd.read_csv('train.csv',header=None,sep=\",\",names=names, encoding = \"ISO-8859-1\")\n",
    "\n",
    "names_test =['id', 'comment_text']\n",
    "df_test = pd.read_csv('test.csv',header=None,sep=\",\",names=names_test, encoding = \"ISO-8859-1\")"
   ]
  },
  {
   "cell_type": "code",
   "execution_count": 3,
   "metadata": {},
   "outputs": [],
   "source": [
    "df['toxic_score'] = df[['toxic','severe_toxic','obscene', 'threat', 'insult', 'identity_hate']].max(axis=1)\n",
    "#drop unnecessary columns\n",
    "df = df.drop(['id', 'toxic','severe_toxic','obscene', 'threat', 'insult', 'identity_hate'], axis=1)\n",
    "#drop first row\n",
    "df.drop(df.index[:1], inplace=True)\n",
    "\n",
    "df_test = df_test.drop(['id'], axis=1)\n",
    "df_test.drop(df_test.index[:1], inplace=True)\n",
    "#df.drop(df.index[:150000], inplace=True) #smaller data set"
   ]
  },
  {
   "cell_type": "code",
   "execution_count": 4,
   "metadata": {},
   "outputs": [],
   "source": [
    "# print(df)"
   ]
  },
  {
   "cell_type": "code",
   "execution_count": 5,
   "metadata": {},
   "outputs": [
    {
     "data": {
      "text/html": [
       "<div>\n",
       "<style scoped>\n",
       "    .dataframe tbody tr th:only-of-type {\n",
       "        vertical-align: middle;\n",
       "    }\n",
       "\n",
       "    .dataframe tbody tr th {\n",
       "        vertical-align: top;\n",
       "    }\n",
       "\n",
       "    .dataframe thead th {\n",
       "        text-align: right;\n",
       "    }\n",
       "</style>\n",
       "<table border=\"1\" class=\"dataframe\">\n",
       "  <thead>\n",
       "    <tr style=\"text-align: right;\">\n",
       "      <th></th>\n",
       "      <th>comment_text</th>\n",
       "    </tr>\n",
       "  </thead>\n",
       "  <tbody>\n",
       "    <tr>\n",
       "      <th>1</th>\n",
       "      <td>Yo bitch Ja Rule is more succesful then you'll...</td>\n",
       "    </tr>\n",
       "    <tr>\n",
       "      <th>2</th>\n",
       "      <td>== From RfC == \\n\\n The title is fine as it is...</td>\n",
       "    </tr>\n",
       "    <tr>\n",
       "      <th>3</th>\n",
       "      <td>\" \\n\\n == Sources == \\n\\n * Zawe Ashton on Lap...</td>\n",
       "    </tr>\n",
       "    <tr>\n",
       "      <th>4</th>\n",
       "      <td>:If you have a look back at the source, the in...</td>\n",
       "    </tr>\n",
       "    <tr>\n",
       "      <th>5</th>\n",
       "      <td>I don't anonymously edit articles at all.</td>\n",
       "    </tr>\n",
       "  </tbody>\n",
       "</table>\n",
       "</div>"
      ],
      "text/plain": [
       "                                        comment_text\n",
       "1  Yo bitch Ja Rule is more succesful then you'll...\n",
       "2  == From RfC == \\n\\n The title is fine as it is...\n",
       "3  \" \\n\\n == Sources == \\n\\n * Zawe Ashton on Lap...\n",
       "4  :If you have a look back at the source, the in...\n",
       "5          I don't anonymously edit articles at all."
      ]
     },
     "execution_count": 5,
     "metadata": {},
     "output_type": "execute_result"
    }
   ],
   "source": [
    "df.head(5)\n",
    "df_test.head(5)"
   ]
  },
  {
   "cell_type": "code",
   "execution_count": 6,
   "metadata": {},
   "outputs": [],
   "source": [
    "bad_words = []\n",
    "negative_file = open(\"negative-words.txt\", \"r\")\n",
    "for line in negative_file:\n",
    "    bad_words.append(line.strip(\"\\n\"))\n",
    "negative_file.close()\n",
    "profanity_file = open(\"profanity-words.txt\", \"r\")\n",
    "for line in profanity_file:\n",
    "    if (line.strip(\"\\n\") not in bad_words):\n",
    "        bad_words.append(line.strip(\"\\n\"))\n",
    "profanity_file.close()\n",
    "# print(bad_words)"
   ]
  },
  {
   "cell_type": "code",
   "execution_count": 7,
   "metadata": {},
   "outputs": [],
   "source": [
    "# because we have a lot of features, scaling the data set size down to 3000\n",
    "\n",
    "data = df.values\n",
    "\n",
    "X = data[:,0].reshape((159571,1))\n",
    "Y = data[:,1].reshape((159571,1))\n",
    "\n",
    "toxic_count = 0\n",
    "not_toxic_count = 0\n",
    "val_toxic = 0\n",
    "val_not_toxic = 0\n",
    "test_count = 0\n",
    "\n",
    "X_training = []\n",
    "Y_training = []\n",
    "X_validation = []\n",
    "Y_validation = []\n",
    "X_testing = []\n",
    "Y_testing = []\n",
    "\n",
    "data_size = 15000\n",
    "\n",
    "for index in range(0,159571):\n",
    "    if ((int(Y[index][0]) == 1 and toxic_count < 0.5 * data_size) or \n",
    "        (int(Y[index][0]) == 0 and not_toxic_count < 0.5 * data_size)):\n",
    "        Y_training.append(int(Y[index][0]))\n",
    "        X_training.append(X[index][0])\n",
    "        if (int(Y[index][0]) == 1):\n",
    "            toxic_count += 1\n",
    "        else:\n",
    "            not_toxic_count += 1\n",
    "    else:\n",
    "        if ((int(Y[index][0]) == 1 and val_toxic < 0.5 * data_size) or \n",
    "            (int(Y[index][0]) == 0 and val_not_toxic < 0.5 * data_size)):\n",
    "            Y_validation.append(int(Y[index][0]))\n",
    "            X_validation.append(X[index][0])\n",
    "            if (int(Y[index][0]) == 1):\n",
    "                val_toxic += 1\n",
    "            else:\n",
    "                val_not_toxic += 1\n",
    "        else:\n",
    "            if(test_count < data_size * 2):\n",
    "                Y_testing.append(int(Y[index][0]))\n",
    "                X_testing.append(X[index][0])\n",
    "                test_count += 1\n",
    "    if (toxic_count + not_toxic_count == data_size and \n",
    "        val_toxic + val_not_toxic == data_size and \n",
    "        test_count == data_size * 2):\n",
    "        break\n",
    "                \n",
    "# X_tr = np.array(X_tr).reshape((15000, 1))\n",
    "Y_train = np.array(Y_training).reshape((data_size, 1))\n",
    "Y_test = np.array(Y_testing).reshape((data_size * 2, 1))\n",
    "Y_val = np.array(Y_validation).reshape((data_size, 1))\n",
    "\n",
    "\n",
    "cv = sklearn.feature_extraction.text.CountVectorizer(vocabulary=bad_words)\n",
    "X_train = cv.fit_transform(X_training).toarray()\n",
    "X_test = cv.fit_transform(X_testing).toarray()\n",
    "X_val = cv.fit_transform(X_validation).toarray()"
   ]
  },
  {
   "cell_type": "markdown",
   "metadata": {},
   "source": [
    "# Neural Networks Not Scaled - Sigmoid"
   ]
  },
  {
   "cell_type": "code",
   "execution_count": 8,
   "metadata": {},
   "outputs": [
    {
     "name": "stdout",
     "output_type": "stream",
     "text": [
      "WARNING:tensorflow:From /usr/local/lib/python3.7/site-packages/tensorflow/python/ops/resource_variable_ops.py:435: colocate_with (from tensorflow.python.framework.ops) is deprecated and will be removed in a future version.\n",
      "Instructions for updating:\n",
      "Colocations handled automatically by placer.\n",
      "_________________________________________________________________\n",
      "Layer (type)                 Output Shape              Param #   \n",
      "=================================================================\n",
      "dense (Dense)                (None, 5213)              27180582  \n",
      "_________________________________________________________________\n",
      "dense_1 (Dense)              (None, 1500)              7821000   \n",
      "_________________________________________________________________\n",
      "dense_2 (Dense)              (None, 1500)              2251500   \n",
      "_________________________________________________________________\n",
      "dense_3 (Dense)              (None, 1)                 1501      \n",
      "=================================================================\n",
      "Total params: 37,254,583\n",
      "Trainable params: 37,254,583\n",
      "Non-trainable params: 0\n",
      "_________________________________________________________________\n"
     ]
    }
   ],
   "source": [
    "#using tensorflow to make the neural network\n",
    "num_features = len(bad_words)\n",
    "\n",
    "model = keras.Sequential()\n",
    "model.add(keras.layers.Dense(units=num_features, input_shape=(num_features,)))\n",
    "model.add(keras.layers.Dense(units=1500, activation=tf.nn.sigmoid))\n",
    "model.add(keras.layers.Dense(units=1500, activation=tf.nn.sigmoid))\n",
    "model.add(keras.layers.Dense(units=1, activation=tf.nn.sigmoid))\n",
    "\n",
    "model.summary()"
   ]
  },
  {
   "cell_type": "code",
   "execution_count": 9,
   "metadata": {},
   "outputs": [],
   "source": [
    "model.compile(optimizer='adam',\n",
    "              loss='binary_crossentropy',\n",
    "              metrics=['acc'])"
   ]
  },
  {
   "cell_type": "code",
   "execution_count": 10,
   "metadata": {},
   "outputs": [
    {
     "name": "stdout",
     "output_type": "stream",
     "text": [
      "Train on 15000 samples, validate on 15000 samples\n",
      "WARNING:tensorflow:From /usr/local/lib/python3.7/site-packages/tensorflow/python/ops/math_ops.py:3066: to_int32 (from tensorflow.python.ops.math_ops) is deprecated and will be removed in a future version.\n",
      "Instructions for updating:\n",
      "Use tf.cast instead.\n",
      "Epoch 1/30\n",
      "15000/15000 [==============================] - 30s 2ms/sample - loss: 0.8821 - acc: 0.6425 - val_loss: 0.3690 - val_acc: 0.8563\n",
      "Epoch 2/30\n",
      "15000/15000 [==============================] - 29s 2ms/sample - loss: 0.3440 - acc: 0.8739 - val_loss: 0.3725 - val_acc: 0.8566\n",
      "Epoch 3/30\n",
      "15000/15000 [==============================] - 31s 2ms/sample - loss: 0.3016 - acc: 0.8917 - val_loss: 0.3866 - val_acc: 0.8563\n",
      "Epoch 4/30\n",
      "15000/15000 [==============================] - 31s 2ms/sample - loss: 0.2885 - acc: 0.8937 - val_loss: 0.3920 - val_acc: 0.8570\n",
      "Epoch 5/30\n",
      "15000/15000 [==============================] - 30s 2ms/sample - loss: 0.2789 - acc: 0.8975 - val_loss: 0.4023 - val_acc: 0.8545\n",
      "Epoch 6/30\n",
      "15000/15000 [==============================] - 30s 2ms/sample - loss: 0.2748 - acc: 0.8994 - val_loss: 0.4009 - val_acc: 0.8554\n",
      "Epoch 7/30\n",
      "15000/15000 [==============================] - 29s 2ms/sample - loss: 0.2712 - acc: 0.9013 - val_loss: 0.4032 - val_acc: 0.8535\n",
      "Epoch 8/30\n",
      "15000/15000 [==============================] - 30s 2ms/sample - loss: 0.2681 - acc: 0.9019 - val_loss: 0.4084 - val_acc: 0.8539\n",
      "Epoch 9/30\n",
      "15000/15000 [==============================] - 29s 2ms/sample - loss: 0.2650 - acc: 0.9017 - val_loss: 0.4114 - val_acc: 0.8537\n",
      "Epoch 10/30\n",
      "15000/15000 [==============================] - 29s 2ms/sample - loss: 0.2602 - acc: 0.9031 - val_loss: 0.4173 - val_acc: 0.8542\n",
      "Epoch 11/30\n",
      "15000/15000 [==============================] - 29s 2ms/sample - loss: 0.2524 - acc: 0.9033 - val_loss: 0.4139 - val_acc: 0.8538\n",
      "Epoch 12/30\n",
      "15000/15000 [==============================] - 29s 2ms/sample - loss: 0.2464 - acc: 0.9056 - val_loss: 0.4406 - val_acc: 0.8526\n",
      "Epoch 13/30\n",
      "15000/15000 [==============================] - 29s 2ms/sample - loss: 0.2421 - acc: 0.9053 - val_loss: 0.4517 - val_acc: 0.8536\n",
      "Epoch 14/30\n",
      "15000/15000 [==============================] - 29s 2ms/sample - loss: 0.2373 - acc: 0.9071 - val_loss: 0.4732 - val_acc: 0.8471\n",
      "Epoch 15/30\n",
      "15000/15000 [==============================] - 29s 2ms/sample - loss: 0.2369 - acc: 0.9066 - val_loss: 0.4603 - val_acc: 0.8463\n",
      "Epoch 16/30\n",
      "15000/15000 [==============================] - 30s 2ms/sample - loss: 0.2352 - acc: 0.9087 - val_loss: 0.4820 - val_acc: 0.8515\n",
      "Epoch 17/30\n",
      "15000/15000 [==============================] - 29s 2ms/sample - loss: 0.2338 - acc: 0.9083 - val_loss: 0.4870 - val_acc: 0.8513\n",
      "Epoch 18/30\n",
      "15000/15000 [==============================] - 29s 2ms/sample - loss: 0.2288 - acc: 0.9099 - val_loss: 0.5056 - val_acc: 0.8463\n",
      "Epoch 19/30\n",
      "15000/15000 [==============================] - 29s 2ms/sample - loss: 0.2265 - acc: 0.9109 - val_loss: 0.4960 - val_acc: 0.8484\n",
      "Epoch 20/30\n",
      "15000/15000 [==============================] - 29s 2ms/sample - loss: 0.2253 - acc: 0.9119 - val_loss: 0.5098 - val_acc: 0.8495\n",
      "Epoch 21/30\n",
      "15000/15000 [==============================] - 30s 2ms/sample - loss: 0.2244 - acc: 0.9117 - val_loss: 0.5227 - val_acc: 0.8515\n",
      "Epoch 22/30\n",
      "15000/15000 [==============================] - 29s 2ms/sample - loss: 0.2220 - acc: 0.9131 - val_loss: 0.5213 - val_acc: 0.8463\n",
      "Epoch 23/30\n",
      "15000/15000 [==============================] - 29s 2ms/sample - loss: 0.2219 - acc: 0.9134 - val_loss: 0.5371 - val_acc: 0.8507\n",
      "Epoch 24/30\n",
      "15000/15000 [==============================] - 30s 2ms/sample - loss: 0.2211 - acc: 0.9124 - val_loss: 0.5229 - val_acc: 0.8447\n",
      "Epoch 25/30\n",
      "15000/15000 [==============================] - 30s 2ms/sample - loss: 0.2189 - acc: 0.9139 - val_loss: 0.5400 - val_acc: 0.8494\n",
      "Epoch 26/30\n",
      "15000/15000 [==============================] - 30s 2ms/sample - loss: 0.2189 - acc: 0.9137 - val_loss: 0.5392 - val_acc: 0.8492\n",
      "Epoch 27/30\n",
      "15000/15000 [==============================] - 28s 2ms/sample - loss: 0.2188 - acc: 0.9142 - val_loss: 0.5450 - val_acc: 0.8498\n",
      "Epoch 28/30\n",
      "15000/15000 [==============================] - 28s 2ms/sample - loss: 0.2148 - acc: 0.9147 - val_loss: 0.5499 - val_acc: 0.8479\n",
      "Epoch 29/30\n",
      "15000/15000 [==============================] - 28s 2ms/sample - loss: 0.2140 - acc: 0.9159 - val_loss: 0.5404 - val_acc: 0.8472\n",
      "Epoch 30/30\n",
      "15000/15000 [==============================] - 27s 2ms/sample - loss: 0.2134 - acc: 0.9167 - val_loss: 0.5682 - val_acc: 0.8457\n"
     ]
    }
   ],
   "source": [
    "training = model.fit(X_train,\n",
    "                    Y_train,\n",
    "                    epochs=30,\n",
    "                    batch_size=500,\n",
    "                    validation_data=(X_val, Y_val),\n",
    "                    verbose=1)"
   ]
  },
  {
   "cell_type": "code",
   "execution_count": 11,
   "metadata": {},
   "outputs": [
    {
     "name": "stdout",
     "output_type": "stream",
     "text": [
      "30000/30000 [==============================] - 23s 762us/sample - loss: 0.4588 - acc: 0.9144\n",
      "[0.4587731474518776, 0.91443336]\n"
     ]
    }
   ],
   "source": [
    "results = model.evaluate(X_test, Y_test)\n",
    "print(results)"
   ]
  },
  {
   "cell_type": "code",
   "execution_count": 12,
   "metadata": {},
   "outputs": [
    {
     "data": {
      "image/png": "[encoded data removed]",
      "text/plain": [
       "<Figure size 432x288 with 1 Axes>"
      ]
     },
     "metadata": {
      "needs_background": "light"
     },
     "output_type": "display_data"
    }
   ],
   "source": [
    "training_hist = training.history\n",
    "train_acc = training_hist['acc']\n",
    "val_acc = training_hist['val_acc']\n",
    "plt.figure()   \n",
    "num_epochs = range(1, len(train_acc) + 1)\n",
    "plt.plot(num_epochs, train_acc, 'b.-', label='Training acc')\n",
    "plt.plot(num_epochs, val_acc, 'r.-', label='Validation acc')\n",
    "plt.title('Training and validation accuracy for not scaled data')\n",
    "plt.xlabel('Epochs')\n",
    "plt.ylabel('Accuracy')\n",
    "plt.legend()\n",
    "\n",
    "plt.show()"
   ]
  },
  {
   "cell_type": "markdown",
   "metadata": {},
   "source": [
    "# Neural Network, Not Scaled, Regularization!"
   ]
  },
  {
   "cell_type": "code",
   "execution_count": 8,
   "metadata": {},
   "outputs": [
    {
     "name": "stdout",
     "output_type": "stream",
     "text": [
      "Doing L1 Regularization\n",
      "C: 0.001\n",
      "WARNING:tensorflow:From /usr/local/lib/python3.7/site-packages/tensorflow/python/ops/resource_variable_ops.py:435: colocate_with (from tensorflow.python.framework.ops) is deprecated and will be removed in a future version.\n",
      "Instructions for updating:\n",
      "Colocations handled automatically by placer.\n",
      "Train on 15000 samples, validate on 15000 samples\n",
      "WARNING:tensorflow:From /usr/local/lib/python3.7/site-packages/tensorflow/python/ops/math_ops.py:3066: to_int32 (from tensorflow.python.ops.math_ops) is deprecated and will be removed in a future version.\n",
      "Instructions for updating:\n",
      "Use tf.cast instead.\n",
      "Epoch 1/30\n",
      "15000/15000 [==============================] - 28s 2ms/sample - loss: 1.5923 - acc: 0.6409 - val_loss: 0.9873 - val_acc: 0.8541\n",
      "Epoch 2/30\n",
      "15000/15000 [==============================] - 28s 2ms/sample - loss: 0.8466 - acc: 0.8768 - val_loss: 0.8022 - val_acc: 0.8621\n",
      "Epoch 3/30\n",
      "15000/15000 [==============================] - 29s 2ms/sample - loss: 0.7042 - acc: 0.8903 - val_loss: 0.7201 - val_acc: 0.8615\n",
      "Epoch 4/30\n",
      "15000/15000 [==============================] - 29s 2ms/sample - loss: 0.6209 - acc: 0.8965 - val_loss: 0.6656 - val_acc: 0.8592\n",
      "Epoch 5/30\n",
      "15000/15000 [==============================] - 28s 2ms/sample - loss: 0.5662 - acc: 0.8981 - val_loss: 0.6358 - val_acc: 0.8562\n",
      "Epoch 6/30\n",
      "15000/15000 [==============================] - 28s 2ms/sample - loss: 0.5290 - acc: 0.8985 - val_loss: 0.6103 - val_acc: 0.8567\n",
      "Epoch 7/30\n",
      "15000/15000 [==============================] - 28s 2ms/sample - loss: 0.5007 - acc: 0.9004 - val_loss: 0.5899 - val_acc: 0.8545\n",
      "Epoch 8/30\n",
      "15000/15000 [==============================] - 28s 2ms/sample - loss: 0.4768 - acc: 0.9019 - val_loss: 0.5796 - val_acc: 0.8541\n",
      "Epoch 9/30\n",
      "15000/15000 [==============================] - 28s 2ms/sample - loss: 0.4603 - acc: 0.9017 - val_loss: 0.5643 - val_acc: 0.8536\n",
      "Epoch 10/30\n",
      "15000/15000 [==============================] - 28s 2ms/sample - loss: 0.4443 - acc: 0.9029 - val_loss: 0.5643 - val_acc: 0.8519\n",
      "Epoch 11/30\n",
      "15000/15000 [==============================] - 28s 2ms/sample - loss: 0.4306 - acc: 0.9046 - val_loss: 0.5558 - val_acc: 0.8518\n",
      "Epoch 12/30\n",
      "15000/15000 [==============================] - 28s 2ms/sample - loss: 0.4196 - acc: 0.9035 - val_loss: 0.5567 - val_acc: 0.8517\n",
      "Epoch 13/30\n",
      "15000/15000 [==============================] - 28s 2ms/sample - loss: 0.4094 - acc: 0.9052 - val_loss: 0.5618 - val_acc: 0.8499\n",
      "Epoch 14/30\n",
      "15000/15000 [==============================] - 28s 2ms/sample - loss: 0.3988 - acc: 0.9040 - val_loss: 0.5484 - val_acc: 0.8520\n",
      "Epoch 15/30\n",
      "15000/15000 [==============================] - 28s 2ms/sample - loss: 0.3906 - acc: 0.9043 - val_loss: 0.5410 - val_acc: 0.8525\n",
      "Epoch 16/30\n",
      "15000/15000 [==============================] - 28s 2ms/sample - loss: 0.3828 - acc: 0.9067 - val_loss: 0.5394 - val_acc: 0.8509\n",
      "Epoch 17/30\n",
      "15000/15000 [==============================] - 28s 2ms/sample - loss: 0.3761 - acc: 0.9061 - val_loss: 0.5358 - val_acc: 0.8521\n",
      "Epoch 18/30\n",
      "15000/15000 [==============================] - 28s 2ms/sample - loss: 0.3707 - acc: 0.9070 - val_loss: 0.5437 - val_acc: 0.8507\n",
      "Epoch 19/30\n",
      "15000/15000 [==============================] - 28s 2ms/sample - loss: 0.3684 - acc: 0.9065 - val_loss: 0.5378 - val_acc: 0.8505\n",
      "Epoch 20/30\n",
      "15000/15000 [==============================] - 28s 2ms/sample - loss: 0.3608 - acc: 0.9067 - val_loss: 0.5416 - val_acc: 0.8509\n",
      "Epoch 21/30\n",
      "15000/15000 [==============================] - 27s 2ms/sample - loss: 0.3547 - acc: 0.9077 - val_loss: 0.5430 - val_acc: 0.8520\n",
      "Epoch 22/30\n",
      "15000/15000 [==============================] - 28s 2ms/sample - loss: 0.3510 - acc: 0.9079 - val_loss: 0.5402 - val_acc: 0.8504\n",
      "Epoch 23/30\n",
      "15000/15000 [==============================] - 28s 2ms/sample - loss: 0.3465 - acc: 0.9090 - val_loss: 0.5473 - val_acc: 0.8514\n",
      "Epoch 24/30\n",
      "15000/15000 [==============================] - 28s 2ms/sample - loss: 0.3426 - acc: 0.9089 - val_loss: 0.5405 - val_acc: 0.8515\n",
      "Epoch 25/30\n",
      "15000/15000 [==============================] - 28s 2ms/sample - loss: 0.3389 - acc: 0.9090 - val_loss: 0.5393 - val_acc: 0.8521\n",
      "Epoch 26/30\n",
      "15000/15000 [==============================] - 28s 2ms/sample - loss: 0.3352 - acc: 0.9095 - val_loss: 0.5345 - val_acc: 0.8508\n",
      "Epoch 27/30\n",
      "15000/15000 [==============================] - 28s 2ms/sample - loss: 0.3308 - acc: 0.9105 - val_loss: 0.5369 - val_acc: 0.8508\n",
      "Epoch 28/30\n",
      "15000/15000 [==============================] - 28s 2ms/sample - loss: 0.3288 - acc: 0.9098 - val_loss: 0.5301 - val_acc: 0.8513\n",
      "Epoch 29/30\n",
      "15000/15000 [==============================] - 28s 2ms/sample - loss: 0.3263 - acc: 0.9112 - val_loss: 0.5351 - val_acc: 0.8499\n",
      "Epoch 30/30\n",
      "15000/15000 [==============================] - 28s 2ms/sample - loss: 0.3229 - acc: 0.9105 - val_loss: 0.5407 - val_acc: 0.8508\n",
      "30000/30000 [==============================] - 25s 846us/sample - loss: 0.4966 - acc: 0.9074\n",
      "[0.4966146970351537, 0.9073667]\n"
     ]
    },
    {
     "data": {
      "image/png": "[encoded data removed]",
      "text/plain": [
       "<Figure size 432x288 with 1 Axes>"
      ]
     },
     "metadata": {
      "needs_background": "light"
     },
     "output_type": "display_data"
    },
    {
     "name": "stdout",
     "output_type": "stream",
     "text": [
      "C: 0.01\n",
      "Train on 15000 samples, validate on 15000 samples\n",
      "Epoch 1/30\n",
      "15000/15000 [==============================] - 29s 2ms/sample - loss: 6.3231 - acc: 0.5394 - val_loss: 3.3059 - val_acc: 0.5045\n",
      "Epoch 2/30\n",
      "15000/15000 [==============================] - 29s 2ms/sample - loss: 2.5213 - acc: 0.5143 - val_loss: 1.9909 - val_acc: 0.5026\n",
      "Epoch 3/30\n",
      "15000/15000 [==============================] - 1004s 67ms/sample - loss: 1.8176 - acc: 0.5001 - val_loss: 1.6958 - val_acc: 0.5000\n",
      "Epoch 4/30\n",
      "15000/15000 [==============================] - 32s 2ms/sample - loss: 1.6254 - acc: 0.5000 - val_loss: 1.5592 - val_acc: 0.5000\n",
      "Epoch 5/30\n",
      "15000/15000 [==============================] - 29s 2ms/sample - loss: 1.5118 - acc: 0.5000 - val_loss: 1.4667 - val_acc: 0.5000\n",
      "Epoch 6/30\n",
      "15000/15000 [==============================] - 29s 2ms/sample - loss: 1.4315 - acc: 0.5000 - val_loss: 1.3965 - val_acc: 0.5000\n",
      "Epoch 7/30\n",
      "15000/15000 [==============================] - 28s 2ms/sample - loss: 1.3692 - acc: 0.5000 - val_loss: 1.3429 - val_acc: 0.5000\n",
      "Epoch 8/30\n",
      "15000/15000 [==============================] - 32s 2ms/sample - loss: 1.3199 - acc: 0.5000 - val_loss: 1.2968 - val_acc: 0.5000\n",
      "Epoch 9/30\n",
      "15000/15000 [==============================] - 30s 2ms/sample - loss: 1.2771 - acc: 0.5000 - val_loss: 1.2574 - val_acc: 0.5000\n",
      "Epoch 10/30\n",
      "15000/15000 [==============================] - 28s 2ms/sample - loss: 1.2410 - acc: 0.5000 - val_loss: 1.2245 - val_acc: 0.5000\n",
      "Epoch 11/30\n",
      "15000/15000 [==============================] - 28s 2ms/sample - loss: 1.2098 - acc: 0.5000 - val_loss: 1.1945 - val_acc: 0.5000\n",
      "Epoch 12/30\n",
      "15000/15000 [==============================] - 28s 2ms/sample - loss: 1.1807 - acc: 0.5000 - val_loss: 1.1664 - val_acc: 0.5000\n",
      "Epoch 13/30\n",
      "15000/15000 [==============================] - 28s 2ms/sample - loss: 1.1508 - acc: 0.5003 - val_loss: 1.1344 - val_acc: 0.5019\n",
      "Epoch 14/30\n",
      "15000/15000 [==============================] - 28s 2ms/sample - loss: 1.1088 - acc: 0.5132 - val_loss: 1.0874 - val_acc: 0.5809\n",
      "Epoch 15/30\n",
      "15000/15000 [==============================] - 28s 2ms/sample - loss: 1.0519 - acc: 0.6943 - val_loss: 1.0418 - val_acc: 0.7761\n",
      "Epoch 16/30\n",
      "15000/15000 [==============================] - 29s 2ms/sample - loss: 1.0023 - acc: 0.8375 - val_loss: 1.0069 - val_acc: 0.8437\n",
      "Epoch 17/30\n",
      "15000/15000 [==============================] - 29s 2ms/sample - loss: 0.9622 - acc: 0.8785 - val_loss: 0.9780 - val_acc: 0.8532\n",
      "Epoch 18/30\n",
      "15000/15000 [==============================] - 28s 2ms/sample - loss: 0.9268 - acc: 0.8915 - val_loss: 0.9503 - val_acc: 0.8543\n",
      "Epoch 19/30\n",
      "15000/15000 [==============================] - 28s 2ms/sample - loss: 0.8931 - acc: 0.8966 - val_loss: 0.9249 - val_acc: 0.8563\n",
      "Epoch 20/30\n",
      "15000/15000 [==============================] - 28s 2ms/sample - loss: 0.8617 - acc: 0.8989 - val_loss: 0.9025 - val_acc: 0.8569\n",
      "Epoch 21/30\n",
      "15000/15000 [==============================] - 28s 2ms/sample - loss: 0.8360 - acc: 0.9003 - val_loss: 0.8816 - val_acc: 0.8545\n",
      "Epoch 22/30\n",
      "15000/15000 [==============================] - 28s 2ms/sample - loss: 0.8126 - acc: 0.9019 - val_loss: 0.8683 - val_acc: 0.8533\n",
      "Epoch 23/30\n",
      "15000/15000 [==============================] - 29s 2ms/sample - loss: 0.7929 - acc: 0.9017 - val_loss: 0.8461 - val_acc: 0.8543\n",
      "Epoch 24/30\n",
      "15000/15000 [==============================] - 29s 2ms/sample - loss: 0.7737 - acc: 0.9029 - val_loss: 0.8354 - val_acc: 0.8550\n",
      "Epoch 25/30\n",
      "15000/15000 [==============================] - 30s 2ms/sample - loss: 0.7576 - acc: 0.9043 - val_loss: 0.8243 - val_acc: 0.8533\n",
      "Epoch 26/30\n",
      "15000/15000 [==============================] - 29s 2ms/sample - loss: 0.7444 - acc: 0.9052 - val_loss: 0.8134 - val_acc: 0.8526\n",
      "Epoch 27/30\n",
      "15000/15000 [==============================] - 29s 2ms/sample - loss: 0.7288 - acc: 0.9059 - val_loss: 0.8031 - val_acc: 0.8536\n",
      "Epoch 28/30\n",
      "15000/15000 [==============================] - 30s 2ms/sample - loss: 0.7204 - acc: 0.9041 - val_loss: 0.7921 - val_acc: 0.8533\n",
      "Epoch 29/30\n",
      "15000/15000 [==============================] - 29s 2ms/sample - loss: 0.7082 - acc: 0.9059 - val_loss: 0.7823 - val_acc: 0.8533\n",
      "Epoch 30/30\n",
      "15000/15000 [==============================] - 29s 2ms/sample - loss: 0.6918 - acc: 0.9063 - val_loss: 0.7735 - val_acc: 0.8525\n",
      "30000/30000 [==============================] - 24s 785us/sample - loss: 0.5409 - acc: 0.8981\n",
      "[0.5408880859216054, 0.8981]\n"
     ]
    },
    {
     "data": {
      "image/png": "[encoded data removed]",
      "text/plain": [
       "<Figure size 432x288 with 1 Axes>"
      ]
     },
     "metadata": {
      "needs_background": "light"
     },
     "output_type": "display_data"
    },
    {
     "name": "stdout",
     "output_type": "stream",
     "text": [
      "C: 0.1\n",
      "Train on 15000 samples, validate on 15000 samples\n",
      "Epoch 1/30\n",
      "15000/15000 [==============================] - 30s 2ms/sample - loss: 57.9883 - acc: 0.4374 - val_loss: 30.6481 - val_acc: 0.5001\n",
      "Epoch 2/30\n",
      "15000/15000 [==============================] - 29s 2ms/sample - loss: 21.7784 - acc: 0.4989 - val_loss: 15.2373 - val_acc: 0.4999\n",
      "Epoch 3/30\n",
      "15000/15000 [==============================] - 29s 2ms/sample - loss: 12.5854 - acc: 0.4999 - val_loss: 10.6840 - val_acc: 0.4999\n",
      "Epoch 4/30\n",
      "15000/15000 [==============================] - 29s 2ms/sample - loss: 9.7408 - acc: 0.4577 - val_loss: 8.9059 - val_acc: 0.5000\n",
      "Epoch 5/30\n",
      "15000/15000 [==============================] - 28s 2ms/sample - loss: 8.3487 - acc: 0.5000 - val_loss: 7.8208 - val_acc: 0.5000\n",
      "Epoch 6/30\n",
      "15000/15000 [==============================] - 28s 2ms/sample - loss: 7.4659 - acc: 0.5000 - val_loss: 7.1143 - val_acc: 0.5000\n",
      "Epoch 7/30\n",
      "15000/15000 [==============================] - 28s 2ms/sample - loss: 6.8485 - acc: 0.5000 - val_loss: 6.5648 - val_acc: 0.5000\n",
      "Epoch 8/30\n",
      "15000/15000 [==============================] - 28s 2ms/sample - loss: 6.3416 - acc: 0.5000 - val_loss: 6.1029 - val_acc: 0.5000\n",
      "Epoch 9/30\n",
      "15000/15000 [==============================] - 28s 2ms/sample - loss: 5.9199 - acc: 0.5000 - val_loss: 5.7394 - val_acc: 0.5000\n",
      "Epoch 10/30\n",
      "15000/15000 [==============================] - 28s 2ms/sample - loss: 5.5863 - acc: 0.5000 - val_loss: 5.4392 - val_acc: 0.5000\n",
      "Epoch 11/30\n",
      "15000/15000 [==============================] - 28s 2ms/sample - loss: 5.3097 - acc: 0.5000 - val_loss: 5.1751 - val_acc: 0.5000\n",
      "Epoch 12/30\n",
      "15000/15000 [==============================] - 28s 2ms/sample - loss: 5.0556 - acc: 0.5000 - val_loss: 4.9356 - val_acc: 0.5000\n",
      "Epoch 13/30\n",
      "15000/15000 [==============================] - 28s 2ms/sample - loss: 4.8346 - acc: 0.5000 - val_loss: 4.7337 - val_acc: 0.5000\n",
      "Epoch 14/30\n",
      "15000/15000 [==============================] - 28s 2ms/sample - loss: 4.6488 - acc: 0.5000 - val_loss: 4.5610 - val_acc: 0.5000\n",
      "Epoch 15/30\n",
      "15000/15000 [==============================] - 28s 2ms/sample - loss: 4.4819 - acc: 0.5000 - val_loss: 4.3997 - val_acc: 0.5000\n",
      "Epoch 16/30\n",
      "15000/15000 [==============================] - 29s 2ms/sample - loss: 4.3270 - acc: 0.5000 - val_loss: 4.2519 - val_acc: 0.5000\n",
      "Epoch 17/30\n",
      "15000/15000 [==============================] - 31s 2ms/sample - loss: 4.1853 - acc: 0.5000 - val_loss: 4.1175 - val_acc: 0.5000\n",
      "Epoch 18/30\n",
      "15000/15000 [==============================] - 28s 2ms/sample - loss: 4.0633 - acc: 0.5000 - val_loss: 4.0098 - val_acc: 0.5000\n",
      "Epoch 19/30\n",
      "15000/15000 [==============================] - 28s 2ms/sample - loss: 3.9539 - acc: 0.5000 - val_loss: 3.8956 - val_acc: 0.5000\n",
      "Epoch 20/30\n",
      "15000/15000 [==============================] - 28s 2ms/sample - loss: 3.8423 - acc: 0.5000 - val_loss: 3.7874 - val_acc: 0.5000\n",
      "Epoch 21/30\n",
      "15000/15000 [==============================] - 28s 2ms/sample - loss: 3.7413 - acc: 0.5000 - val_loss: 3.6960 - val_acc: 0.5000\n",
      "Epoch 22/30\n",
      "15000/15000 [==============================] - 28s 2ms/sample - loss: 3.6518 - acc: 0.5000 - val_loss: 3.6062 - val_acc: 0.5000\n",
      "Epoch 23/30\n",
      "15000/15000 [==============================] - 28s 2ms/sample - loss: 3.5642 - acc: 0.5000 - val_loss: 3.5208 - val_acc: 0.5000\n",
      "Epoch 24/30\n",
      "15000/15000 [==============================] - 28s 2ms/sample - loss: 3.4847 - acc: 0.5000 - val_loss: 3.4471 - val_acc: 0.5000\n",
      "Epoch 25/30\n",
      "15000/15000 [==============================] - 28s 2ms/sample - loss: 3.4111 - acc: 0.5000 - val_loss: 3.3738 - val_acc: 0.5000\n",
      "Epoch 26/30\n",
      "15000/15000 [==============================] - 28s 2ms/sample - loss: 3.3387 - acc: 0.5000 - val_loss: 3.3009 - val_acc: 0.5000\n",
      "Epoch 27/30\n",
      "15000/15000 [==============================] - 28s 2ms/sample - loss: 3.2563 - acc: 0.5000 - val_loss: 3.2099 - val_acc: 0.5000\n",
      "Epoch 28/30\n",
      "15000/15000 [==============================] - 28s 2ms/sample - loss: 3.1778 - acc: 0.5000 - val_loss: 3.1466 - val_acc: 0.5000\n",
      "Epoch 29/30\n",
      "15000/15000 [==============================] - 28s 2ms/sample - loss: 3.1157 - acc: 0.5000 - val_loss: 3.0825 - val_acc: 0.5000\n",
      "Epoch 30/30\n",
      "15000/15000 [==============================] - 28s 2ms/sample - loss: 3.0516 - acc: 0.5000 - val_loss: 3.0190 - val_acc: 0.5000\n",
      "30000/30000 [==============================] - 25s 827us/sample - loss: 2.9701 - acc: 1.0000\n",
      "[2.970113688913981, 1.0]\n"
     ]
    },
    {
     "data": {
      "image/png": "[encoded data removed]",
      "text/plain": [
       "<Figure size 432x288 with 1 Axes>"
      ]
     },
     "metadata": {
      "needs_background": "light"
     },
     "output_type": "display_data"
    }
   ],
   "source": [
    "#using tensorflow to make the neural network\n",
    "num_features = len(bad_words)\n",
    "\n",
    "print(\"Doing L1 Regularization\")\n",
    "cvals = [0.001, 0.01, 0.1]\n",
    "for c in cvals:\n",
    "    print(\"C:\", c)\n",
    "    model_l1 = keras.Sequential()\n",
    "    model_l1.add(keras.layers.Dense(units=num_features, input_shape=(num_features,)))\n",
    "    model_l1.add(keras.layers.Dense(units=1500, activation=tf.nn.sigmoid, \n",
    "                                    activity_regularizer=tf.keras.regularizers.l1(l=c)))\n",
    "    model_l1.add(keras.layers.Dense(units=1500, activation=tf.nn.sigmoid, \n",
    "                                    activity_regularizer=tf.keras.regularizers.l1(l=c)))\n",
    "    model_l1.add(keras.layers.Dense(units=1, activation=tf.nn.sigmoid, \n",
    "                                    activity_regularizer=tf.keras.regularizers.l1(l=c)))\n",
    "                 \n",
    "    model_l1.compile(optimizer='adam',\n",
    "                     loss='binary_crossentropy',\n",
    "                     metrics=['acc'])\n",
    "                 \n",
    "    training_l1 = model_l1.fit(X_train,\n",
    "                               Y_train,\n",
    "                               epochs=30,\n",
    "                               batch_size=500,\n",
    "                               validation_data=(X_val, Y_val),\n",
    "                               verbose=1)\n",
    "    \n",
    "    results_l1 = model_l1.evaluate(X_test, Y_test)\n",
    "    print(results_l1)\n",
    "                 \n",
    "    train_l1_hist = training_l1.history\n",
    "    train_l1_acc = train_l1_hist['acc']\n",
    "    val_l1_acc = train_l1_hist['val_acc']\n",
    "    plt.figure()   \n",
    "    num_epochs_l1 = range(1, len(train_l1_acc) + 1)\n",
    "    plt.plot(num_epochs_l1, train_l1_acc, 'b.-', label='Training acc')\n",
    "    plt.plot(num_epochs_l1, val_l1_acc, 'r.-', label='Validation acc')\n",
    "    plt.title('Training and validation accuracy, not scaled, L1 reg')\n",
    "    plt.xlabel('Epochs')\n",
    "    plt.ylabel('Accuracy')\n",
    "    plt.legend()\n",
    "\n",
    "    plt.show()\n"
   ]
  },
  {
   "cell_type": "code",
   "execution_count": 9,
   "metadata": {},
   "outputs": [],
   "source": [
    "def l2_regularization(c):\n",
    "    num_features = len(bad_words)\n",
    "    cvals = [0.001, 0.01, 0.1]\n",
    "    print(\"C:\", c)\n",
    "    model_l2 = keras.Sequential()\n",
    "    model_l2.add(keras.layers.Dense(units=num_features, input_shape=(num_features,)))\n",
    "    model_l2.add(keras.layers.Dense(units=1500, activation=tf.nn.sigmoid, \n",
    "                                    activity_regularizer=tf.keras.regularizers.l2(l=c)))\n",
    "    model_l2.add(keras.layers.Dense(units=1500, activation=tf.nn.sigmoid, \n",
    "                                    activity_regularizer=tf.keras.regularizers.l2(l=c)))\n",
    "    model_l2.add(keras.layers.Dense(units=1, activation=tf.nn.sigmoid, \n",
    "                                    activity_regularizer=tf.keras.regularizers.l2(l=c)))\n",
    "                 \n",
    "    model_l2.compile(optimizer='adam',\n",
    "                     loss='binary_crossentropy',\n",
    "                     metrics=['acc'])\n",
    "                 \n",
    "    training_l2 = model_l2.fit(X_train,\n",
    "                               Y_train,\n",
    "                               epochs=30,\n",
    "                               batch_size=500,\n",
    "                               validation_data=(X_val, Y_val),\n",
    "                               verbose=1)\n",
    "    \n",
    "    results_l2 = model_l2.evaluate(X_test, Y_test)\n",
    "    print(results_l2)\n",
    "                 \n",
    "    train_l2_hist = training_l2.history\n",
    "    train_l2_acc = train_l2_hist['acc']\n",
    "    val_l2_acc = train_l2_hist['val_acc']\n",
    "    plt.figure()   \n",
    "    num_epochs_l2 = range(1, len(train_l2_acc) + 1)\n",
    "    plt.plot(num_epochs_l2, train_l2_acc, 'b.-', label='Training acc')\n",
    "    plt.plot(num_epochs_l2, val_l2_acc, 'r.-', label='Validation acc')\n",
    "    plt.title('Training and validation accuracy, not scaled, L1 reg')\n",
    "    plt.xlabel('Epochs')\n",
    "    plt.ylabel('Accuracy')\n",
    "    plt.legend()\n",
    "\n",
    "    plt.show()\n"
   ]
  },
  {
   "cell_type": "code",
   "execution_count": 10,
   "metadata": {},
   "outputs": [
    {
     "name": "stdout",
     "output_type": "stream",
     "text": [
      "Doing L2 Regularization\n"
     ]
    }
   ],
   "source": [
    "print(\"Doing L2 Regularization\")"
   ]
  },
  {
   "cell_type": "code",
   "execution_count": 11,
   "metadata": {},
   "outputs": [
    {
     "name": "stdout",
     "output_type": "stream",
     "text": [
      "C: 0.001\n",
      "Train on 15000 samples, validate on 15000 samples\n",
      "Epoch 1/30\n",
      "15000/15000 [==============================] - 30s 2ms/sample - loss: 1.0789 - acc: 0.6521 - val_loss: 0.5784 - val_acc: 0.8594\n",
      "Epoch 2/30\n",
      "15000/15000 [==============================] - 29s 2ms/sample - loss: 0.5169 - acc: 0.8791 - val_loss: 0.5205 - val_acc: 0.8640\n",
      "Epoch 3/30\n",
      "15000/15000 [==============================] - 29s 2ms/sample - loss: 0.4456 - acc: 0.8892 - val_loss: 0.4983 - val_acc: 0.8591\n",
      "Epoch 4/30\n",
      "15000/15000 [==============================] - 29s 2ms/sample - loss: 0.4112 - acc: 0.8945 - val_loss: 0.4905 - val_acc: 0.8588\n",
      "Epoch 5/30\n",
      "15000/15000 [==============================] - 29s 2ms/sample - loss: 0.3900 - acc: 0.8969 - val_loss: 0.4838 - val_acc: 0.8575\n",
      "Epoch 6/30\n",
      "15000/15000 [==============================] - 29s 2ms/sample - loss: 0.3737 - acc: 0.9005 - val_loss: 0.4799 - val_acc: 0.8563\n",
      "Epoch 7/30\n",
      "15000/15000 [==============================] - 28s 2ms/sample - loss: 0.3613 - acc: 0.9011 - val_loss: 0.4766 - val_acc: 0.8545\n",
      "Epoch 8/30\n",
      "15000/15000 [==============================] - 28s 2ms/sample - loss: 0.3508 - acc: 0.9024 - val_loss: 0.4745 - val_acc: 0.8537\n",
      "Epoch 9/30\n",
      "15000/15000 [==============================] - 29s 2ms/sample - loss: 0.3413 - acc: 0.9047 - val_loss: 0.4737 - val_acc: 0.8551\n",
      "Epoch 10/30\n",
      "15000/15000 [==============================] - 28s 2ms/sample - loss: 0.3340 - acc: 0.9065 - val_loss: 0.4715 - val_acc: 0.8537\n",
      "Epoch 11/30\n",
      "15000/15000 [==============================] - 28s 2ms/sample - loss: 0.3248 - acc: 0.9070 - val_loss: 0.4741 - val_acc: 0.8538\n",
      "Epoch 12/30\n",
      "15000/15000 [==============================] - 28s 2ms/sample - loss: 0.3194 - acc: 0.9073 - val_loss: 0.4708 - val_acc: 0.8536\n",
      "Epoch 13/30\n",
      "15000/15000 [==============================] - 28s 2ms/sample - loss: 0.3122 - acc: 0.9078 - val_loss: 0.4699 - val_acc: 0.8512\n",
      "Epoch 14/30\n",
      "15000/15000 [==============================] - 29s 2ms/sample - loss: 0.3071 - acc: 0.9097 - val_loss: 0.4754 - val_acc: 0.8532\n",
      "Epoch 15/30\n",
      "15000/15000 [==============================] - 29s 2ms/sample - loss: 0.3027 - acc: 0.9119 - val_loss: 0.4810 - val_acc: 0.8501\n",
      "Epoch 16/30\n",
      "15000/15000 [==============================] - 28s 2ms/sample - loss: 0.2959 - acc: 0.9119 - val_loss: 0.4883 - val_acc: 0.8471\n",
      "Epoch 17/30\n",
      "15000/15000 [==============================] - 28s 2ms/sample - loss: 0.2935 - acc: 0.9115 - val_loss: 0.4897 - val_acc: 0.8495\n",
      "Epoch 18/30\n",
      "15000/15000 [==============================] - 29s 2ms/sample - loss: 0.2879 - acc: 0.9137 - val_loss: 0.4805 - val_acc: 0.8507\n",
      "Epoch 19/30\n",
      "15000/15000 [==============================] - 28s 2ms/sample - loss: 0.2835 - acc: 0.9144 - val_loss: 0.4871 - val_acc: 0.8500\n",
      "Epoch 20/30\n",
      "15000/15000 [==============================] - 29s 2ms/sample - loss: 0.2810 - acc: 0.9167 - val_loss: 0.4905 - val_acc: 0.8489\n",
      "Epoch 21/30\n",
      "15000/15000 [==============================] - 29s 2ms/sample - loss: 0.2779 - acc: 0.9163 - val_loss: 0.4832 - val_acc: 0.8467\n",
      "Epoch 22/30\n",
      "15000/15000 [==============================] - 28s 2ms/sample - loss: 0.2768 - acc: 0.9165 - val_loss: 0.4808 - val_acc: 0.8494\n",
      "Epoch 23/30\n",
      "15000/15000 [==============================] - 29s 2ms/sample - loss: 0.2721 - acc: 0.9171 - val_loss: 0.4889 - val_acc: 0.8477\n",
      "Epoch 24/30\n",
      "15000/15000 [==============================] - 29s 2ms/sample - loss: 0.2701 - acc: 0.9179 - val_loss: 0.4989 - val_acc: 0.8483\n",
      "Epoch 25/30\n",
      "15000/15000 [==============================] - 29s 2ms/sample - loss: 0.2723 - acc: 0.9167 - val_loss: 0.5156 - val_acc: 0.8463\n",
      "Epoch 26/30\n",
      "15000/15000 [==============================] - 29s 2ms/sample - loss: 0.2665 - acc: 0.9189 - val_loss: 0.4990 - val_acc: 0.8485\n",
      "Epoch 27/30\n",
      "15000/15000 [==============================] - 29s 2ms/sample - loss: 0.2623 - acc: 0.9185 - val_loss: 0.4959 - val_acc: 0.8470\n",
      "Epoch 28/30\n",
      "15000/15000 [==============================] - 29s 2ms/sample - loss: 0.2597 - acc: 0.9189 - val_loss: 0.5146 - val_acc: 0.8482\n",
      "Epoch 29/30\n",
      "15000/15000 [==============================] - 29s 2ms/sample - loss: 0.2583 - acc: 0.9189 - val_loss: 0.5105 - val_acc: 0.8449\n",
      "Epoch 30/30\n",
      "15000/15000 [==============================] - 29s 2ms/sample - loss: 0.2580 - acc: 0.9192 - val_loss: 0.4943 - val_acc: 0.8484\n",
      "30000/30000 [==============================] - 26s 855us/sample - loss: 0.4435 - acc: 0.9032\n",
      "[0.4434522366603216, 0.90323335]\n"
     ]
    },
    {
     "data": {
      "image/png": "[encoded data removed]",
      "text/plain": [
       "<Figure size 432x288 with 1 Axes>"
      ]
     },
     "metadata": {
      "needs_background": "light"
     },
     "output_type": "display_data"
    }
   ],
   "source": [
    "l2_regularization(0.001)"
   ]
  },
  {
   "cell_type": "code",
   "execution_count": 12,
   "metadata": {},
   "outputs": [
    {
     "name": "stdout",
     "output_type": "stream",
     "text": [
      "C: 0.01\n",
      "Train on 15000 samples, validate on 15000 samples\n",
      "Epoch 1/30\n",
      "15000/15000 [==============================] - 31s 2ms/sample - loss: 2.8199 - acc: 0.6020 - val_loss: 1.3882 - val_acc: 0.7156\n",
      "Epoch 2/30\n",
      "15000/15000 [==============================] - 29s 2ms/sample - loss: 1.1362 - acc: 0.7143 - val_loss: 0.9460 - val_acc: 0.8291\n",
      "Epoch 3/30\n",
      "15000/15000 [==============================] - 28s 2ms/sample - loss: 0.8569 - acc: 0.8566 - val_loss: 0.7924 - val_acc: 0.8499\n",
      "Epoch 4/30\n",
      "15000/15000 [==============================] - 29s 2ms/sample - loss: 0.7209 - acc: 0.8747 - val_loss: 0.7169 - val_acc: 0.8532\n",
      "Epoch 5/30\n",
      "15000/15000 [==============================] - 29s 2ms/sample - loss: 0.6337 - acc: 0.8848 - val_loss: 0.6687 - val_acc: 0.8575\n",
      "Epoch 6/30\n",
      "15000/15000 [==============================] - 28s 2ms/sample - loss: 0.5789 - acc: 0.8910 - val_loss: 0.6402 - val_acc: 0.8553\n",
      "Epoch 7/30\n",
      "15000/15000 [==============================] - 29s 2ms/sample - loss: 0.5385 - acc: 0.8958 - val_loss: 0.6181 - val_acc: 0.8563\n",
      "Epoch 8/30\n",
      "15000/15000 [==============================] - 29s 2ms/sample - loss: 0.5093 - acc: 0.8956 - val_loss: 0.6059 - val_acc: 0.8561\n",
      "Epoch 9/30\n",
      "15000/15000 [==============================] - 29s 2ms/sample - loss: 0.4884 - acc: 0.8983 - val_loss: 0.6020 - val_acc: 0.8538\n",
      "Epoch 10/30\n",
      "15000/15000 [==============================] - 29s 2ms/sample - loss: 0.4747 - acc: 0.8978 - val_loss: 0.5886 - val_acc: 0.8571\n",
      "Epoch 11/30\n",
      "15000/15000 [==============================] - 29s 2ms/sample - loss: 0.4545 - acc: 0.9003 - val_loss: 0.5775 - val_acc: 0.8552\n",
      "Epoch 12/30\n",
      "15000/15000 [==============================] - 28s 2ms/sample - loss: 0.4400 - acc: 0.9019 - val_loss: 0.5776 - val_acc: 0.8541\n",
      "Epoch 13/30\n",
      "15000/15000 [==============================] - 28s 2ms/sample - loss: 0.4301 - acc: 0.9016 - val_loss: 0.5740 - val_acc: 0.8552\n",
      "Epoch 14/30\n",
      "15000/15000 [==============================] - 28s 2ms/sample - loss: 0.4218 - acc: 0.9032 - val_loss: 0.5569 - val_acc: 0.8526\n",
      "Epoch 15/30\n",
      "15000/15000 [==============================] - 28s 2ms/sample - loss: 0.4112 - acc: 0.9038 - val_loss: 0.5594 - val_acc: 0.8537\n",
      "Epoch 16/30\n",
      "15000/15000 [==============================] - 28s 2ms/sample - loss: 0.3993 - acc: 0.9039 - val_loss: 0.5554 - val_acc: 0.8535\n",
      "Epoch 17/30\n",
      "15000/15000 [==============================] - 28s 2ms/sample - loss: 0.3915 - acc: 0.9050 - val_loss: 0.5523 - val_acc: 0.8527\n",
      "Epoch 18/30\n",
      "15000/15000 [==============================] - 28s 2ms/sample - loss: 0.3842 - acc: 0.9073 - val_loss: 0.5538 - val_acc: 0.8520\n",
      "Epoch 19/30\n",
      "15000/15000 [==============================] - 28s 2ms/sample - loss: 0.3774 - acc: 0.9071 - val_loss: 0.5487 - val_acc: 0.8529\n",
      "Epoch 20/30\n",
      "15000/15000 [==============================] - 28s 2ms/sample - loss: 0.3742 - acc: 0.9069 - val_loss: 0.5431 - val_acc: 0.8532\n",
      "Epoch 21/30\n",
      "15000/15000 [==============================] - 28s 2ms/sample - loss: 0.3668 - acc: 0.9092 - val_loss: 0.5704 - val_acc: 0.8544\n",
      "Epoch 22/30\n",
      "15000/15000 [==============================] - 28s 2ms/sample - loss: 0.3639 - acc: 0.9083 - val_loss: 0.5609 - val_acc: 0.8513\n",
      "Epoch 23/30\n",
      "15000/15000 [==============================] - 28s 2ms/sample - loss: 0.3580 - acc: 0.9107 - val_loss: 0.5496 - val_acc: 0.8516\n",
      "Epoch 24/30\n",
      "15000/15000 [==============================] - 28s 2ms/sample - loss: 0.3501 - acc: 0.9107 - val_loss: 0.5525 - val_acc: 0.8502\n",
      "Epoch 25/30\n",
      "15000/15000 [==============================] - 28s 2ms/sample - loss: 0.3472 - acc: 0.9104 - val_loss: 0.5465 - val_acc: 0.8497\n",
      "Epoch 26/30\n",
      "15000/15000 [==============================] - 28s 2ms/sample - loss: 0.3428 - acc: 0.9119 - val_loss: 0.5459 - val_acc: 0.8492\n",
      "Epoch 27/30\n",
      "15000/15000 [==============================] - 28s 2ms/sample - loss: 0.3393 - acc: 0.9133 - val_loss: 0.5485 - val_acc: 0.8471\n",
      "Epoch 28/30\n",
      "15000/15000 [==============================] - 28s 2ms/sample - loss: 0.3352 - acc: 0.9127 - val_loss: 0.5616 - val_acc: 0.8493\n",
      "Epoch 29/30\n",
      "15000/15000 [==============================] - 28s 2ms/sample - loss: 0.3307 - acc: 0.9131 - val_loss: 0.5506 - val_acc: 0.8472\n",
      "Epoch 30/30\n",
      "15000/15000 [==============================] - 28s 2ms/sample - loss: 0.3274 - acc: 0.9146 - val_loss: 0.5476 - val_acc: 0.8466\n",
      "30000/30000 [==============================] - 25s 833us/sample - loss: 0.5246 - acc: 0.8988\n",
      "[0.5245935952504476, 0.8988]\n"
     ]
    },
    {
     "data": {
      "image/png": "[encoded data removed]",
      "text/plain": [
       "<Figure size 432x288 with 1 Axes>"
      ]
     },
     "metadata": {
      "needs_background": "light"
     },
     "output_type": "display_data"
    }
   ],
   "source": [
    "l2_regularization(0.01)"
   ]
  },
  {
   "cell_type": "code",
   "execution_count": 13,
   "metadata": {},
   "outputs": [
    {
     "name": "stdout",
     "output_type": "stream",
     "text": [
      "C: 0.1\n",
      "Train on 15000 samples, validate on 15000 samples\n",
      "Epoch 1/30\n",
      "15000/15000 [==============================] - 29s 2ms/sample - loss: 21.8064 - acc: 0.4844 - val_loss: 7.8598 - val_acc: 0.5001\n",
      "Epoch 2/30\n",
      "15000/15000 [==============================] - 29s 2ms/sample - loss: 5.7968 - acc: 0.5157 - val_loss: 4.5900 - val_acc: 0.5745\n",
      "Epoch 3/30\n",
      "15000/15000 [==============================] - 28s 2ms/sample - loss: 4.1451 - acc: 0.5481 - val_loss: 3.5849 - val_acc: 0.5821\n",
      "Epoch 4/30\n",
      "15000/15000 [==============================] - 28s 2ms/sample - loss: 3.3253 - acc: 0.6238 - val_loss: 3.0032 - val_acc: 0.6438\n",
      "Epoch 5/30\n",
      "15000/15000 [==============================] - 28s 2ms/sample - loss: 2.8175 - acc: 0.6280 - val_loss: 2.6825 - val_acc: 0.6015\n",
      "Epoch 6/30\n",
      "15000/15000 [==============================] - 28s 2ms/sample - loss: 2.5646 - acc: 0.6203 - val_loss: 2.5172 - val_acc: 0.6082\n",
      "Epoch 7/30\n",
      "15000/15000 [==============================] - 28s 2ms/sample - loss: 2.4257 - acc: 0.6551 - val_loss: 2.4218 - val_acc: 0.6989\n",
      "Epoch 8/30\n",
      "15000/15000 [==============================] - 28s 2ms/sample - loss: 2.3041 - acc: 0.6530 - val_loss: 2.2136 - val_acc: 0.6425\n",
      "Epoch 9/30\n",
      "15000/15000 [==============================] - 28s 2ms/sample - loss: 2.1391 - acc: 0.6589 - val_loss: 2.0840 - val_acc: 0.6260\n",
      "Epoch 10/30\n",
      "15000/15000 [==============================] - 28s 2ms/sample - loss: 2.0509 - acc: 0.6334 - val_loss: 1.9942 - val_acc: 0.7134\n",
      "Epoch 11/30\n",
      "15000/15000 [==============================] - 28s 2ms/sample - loss: 1.9558 - acc: 0.6973 - val_loss: 1.9279 - val_acc: 0.7063\n",
      "Epoch 12/30\n",
      "15000/15000 [==============================] - 28s 2ms/sample - loss: 1.8469 - acc: 0.6923 - val_loss: 1.8372 - val_acc: 0.6923\n",
      "Epoch 13/30\n",
      "15000/15000 [==============================] - 28s 2ms/sample - loss: 1.7734 - acc: 0.7347 - val_loss: 1.7451 - val_acc: 0.7176\n",
      "Epoch 14/30\n",
      "15000/15000 [==============================] - 28s 2ms/sample - loss: 1.7236 - acc: 0.7364 - val_loss: 1.7414 - val_acc: 0.7487\n",
      "Epoch 15/30\n",
      "15000/15000 [==============================] - 28s 2ms/sample - loss: 1.6752 - acc: 0.7610 - val_loss: 1.6447 - val_acc: 0.7366\n",
      "Epoch 16/30\n",
      "15000/15000 [==============================] - 28s 2ms/sample - loss: 1.6243 - acc: 0.7436 - val_loss: 1.6161 - val_acc: 0.7689\n",
      "Epoch 17/30\n",
      "15000/15000 [==============================] - 28s 2ms/sample - loss: 1.5989 - acc: 0.7889 - val_loss: 1.5891 - val_acc: 0.7463\n",
      "Epoch 18/30\n",
      "15000/15000 [==============================] - 29s 2ms/sample - loss: 1.5700 - acc: 0.7660 - val_loss: 1.5563 - val_acc: 0.7466\n",
      "Epoch 19/30\n",
      "15000/15000 [==============================] - 30s 2ms/sample - loss: 1.5328 - acc: 0.7822 - val_loss: 1.5374 - val_acc: 0.7799\n",
      "Epoch 20/30\n",
      "15000/15000 [==============================] - 29s 2ms/sample - loss: 1.4982 - acc: 0.7945 - val_loss: 1.5108 - val_acc: 0.7613\n",
      "Epoch 21/30\n",
      "15000/15000 [==============================] - 28s 2ms/sample - loss: 1.4577 - acc: 0.7955 - val_loss: 1.4443 - val_acc: 0.7934\n",
      "Epoch 22/30\n",
      "15000/15000 [==============================] - 28s 2ms/sample - loss: 1.4216 - acc: 0.8247 - val_loss: 1.4287 - val_acc: 0.8079\n",
      "Epoch 23/30\n",
      "15000/15000 [==============================] - 28s 2ms/sample - loss: 1.3919 - acc: 0.8322 - val_loss: 1.3994 - val_acc: 0.8049\n",
      "Epoch 24/30\n",
      "15000/15000 [==============================] - 28s 2ms/sample - loss: 1.3588 - acc: 0.8429 - val_loss: 1.3667 - val_acc: 0.8149\n",
      "Epoch 25/30\n",
      "15000/15000 [==============================] - 28s 2ms/sample - loss: 1.3328 - acc: 0.8442 - val_loss: 1.3430 - val_acc: 0.7921\n",
      "Epoch 26/30\n",
      "15000/15000 [==============================] - 28s 2ms/sample - loss: 1.3248 - acc: 0.8376 - val_loss: 1.3405 - val_acc: 0.7969\n",
      "Epoch 27/30\n",
      "15000/15000 [==============================] - 28s 2ms/sample - loss: 1.3077 - acc: 0.8443 - val_loss: 1.3393 - val_acc: 0.7948\n",
      "Epoch 28/30\n",
      "15000/15000 [==============================] - 28s 2ms/sample - loss: 1.2844 - acc: 0.8395 - val_loss: 1.2948 - val_acc: 0.8127\n",
      "Epoch 29/30\n",
      "15000/15000 [==============================] - 28s 2ms/sample - loss: 1.2488 - acc: 0.8549 - val_loss: 1.2883 - val_acc: 0.8139\n",
      "Epoch 30/30\n",
      "15000/15000 [==============================] - 28s 2ms/sample - loss: 1.2271 - acc: 0.8529 - val_loss: 1.2518 - val_acc: 0.8223\n",
      "30000/30000 [==============================] - 26s 855us/sample - loss: 1.2314 - acc: 0.8948\n",
      "[1.2314095801035563, 0.8947667]\n"
     ]
    },
    {
     "data": {
      "image/png": "[encoded data removed]",
      "text/plain": [
       "<Figure size 432x288 with 1 Axes>"
      ]
     },
     "metadata": {
      "needs_background": "light"
     },
     "output_type": "display_data"
    }
   ],
   "source": [
    "l2_regularization(0.1)"
   ]
  },
  {
   "cell_type": "markdown",
   "metadata": {},
   "source": [
    "# Neural Networks Scaling - Sigmoid"
   ]
  },
  {
   "cell_type": "code",
   "execution_count": 14,
   "metadata": {},
   "outputs": [
    {
     "name": "stderr",
     "output_type": "stream",
     "text": [
      "/usr/local/lib/python3.7/site-packages/sklearn/utils/validation.py:595: DataConversionWarning: Data with input dtype int64 was converted to float64 by StandardScaler.\n",
      "  warnings.warn(msg, DataConversionWarning)\n",
      "/usr/local/lib/python3.7/site-packages/sklearn/utils/validation.py:595: DataConversionWarning: Data with input dtype int64 was converted to float64 by StandardScaler.\n",
      "  warnings.warn(msg, DataConversionWarning)\n",
      "/usr/local/lib/python3.7/site-packages/sklearn/utils/validation.py:595: DataConversionWarning: Data with input dtype int64 was converted to float64 by StandardScaler.\n",
      "  warnings.warn(msg, DataConversionWarning)\n",
      "/usr/local/lib/python3.7/site-packages/sklearn/utils/validation.py:595: DataConversionWarning: Data with input dtype int64 was converted to float64 by StandardScaler.\n",
      "  warnings.warn(msg, DataConversionWarning)\n",
      "/usr/local/lib/python3.7/site-packages/sklearn/utils/validation.py:595: DataConversionWarning: Data with input dtype int64 was converted to float64 by StandardScaler.\n",
      "  warnings.warn(msg, DataConversionWarning)\n",
      "/usr/local/lib/python3.7/site-packages/sklearn/utils/validation.py:595: DataConversionWarning: Data with input dtype int64 was converted to float64 by StandardScaler.\n",
      "  warnings.warn(msg, DataConversionWarning)\n"
     ]
    }
   ],
   "source": [
    "X_scale = StandardScaler()\n",
    "X_tr = X_scale.fit_transform(X_train)\n",
    "X_te = X_scale.fit_transform(X_test)\n",
    "X_va = X_scale.fit_transform(X_val)"
   ]
  },
  {
   "cell_type": "code",
   "execution_count": 15,
   "metadata": {},
   "outputs": [
    {
     "name": "stdout",
     "output_type": "stream",
     "text": [
      "_________________________________________________________________\n",
      "Layer (type)                 Output Shape              Param #   \n",
      "=================================================================\n",
      "dense_4 (Dense)              (None, 5213)              27180582  \n",
      "_________________________________________________________________\n",
      "dense_5 (Dense)              (None, 1500)              7821000   \n",
      "_________________________________________________________________\n",
      "dense_6 (Dense)              (None, 1500)              2251500   \n",
      "_________________________________________________________________\n",
      "dense_7 (Dense)              (None, 1)                 1501      \n",
      "=================================================================\n",
      "Total params: 37,254,583\n",
      "Trainable params: 37,254,583\n",
      "Non-trainable params: 0\n",
      "_________________________________________________________________\n"
     ]
    }
   ],
   "source": [
    "model_scale = keras.Sequential()\n",
    "model_scale.add(keras.layers.Dense(units=num_features, input_shape=(num_features,)))\n",
    "model_scale.add(keras.layers.Dense(units=1500, activation=tf.nn.sigmoid))\n",
    "model_scale.add(keras.layers.Dense(units=1500, activation=tf.nn.sigmoid))\n",
    "model_scale.add(keras.layers.Dense(units=1, activation=tf.nn.sigmoid))\n",
    "model_scale.compile(optimizer='adam',\n",
    "                    loss='binary_crossentropy',\n",
    "                    metrics=['acc'])\n",
    "model_scale.summary()"
   ]
  },
  {
   "cell_type": "code",
   "execution_count": 16,
   "metadata": {},
   "outputs": [
    {
     "name": "stdout",
     "output_type": "stream",
     "text": [
      "Train on 15000 samples, validate on 15000 samples\n",
      "Epoch 1/30\n",
      "15000/15000 [==============================] - 33s 2ms/sample - loss: 0.9162 - acc: 0.6145 - val_loss: 0.5771 - val_acc: 0.7013\n",
      "Epoch 2/30\n",
      "15000/15000 [==============================] - 31s 2ms/sample - loss: 0.4674 - acc: 0.7894 - val_loss: 0.5545 - val_acc: 0.7253\n",
      "Epoch 3/30\n",
      "15000/15000 [==============================] - 30s 2ms/sample - loss: 0.4167 - acc: 0.8145 - val_loss: 0.5831 - val_acc: 0.7351\n",
      "Epoch 4/30\n",
      "15000/15000 [==============================] - 29s 2ms/sample - loss: 0.3792 - acc: 0.8367 - val_loss: 0.5788 - val_acc: 0.7495\n",
      "Epoch 5/30\n",
      "15000/15000 [==============================] - 30s 2ms/sample - loss: 0.3576 - acc: 0.8452 - val_loss: 0.7465 - val_acc: 0.7342\n",
      "Epoch 6/30\n",
      "15000/15000 [==============================] - 31s 2ms/sample - loss: 0.3413 - acc: 0.8565 - val_loss: 0.6622 - val_acc: 0.7449\n",
      "Epoch 7/30\n",
      "15000/15000 [==============================] - 30s 2ms/sample - loss: 0.3154 - acc: 0.8701 - val_loss: 0.7573 - val_acc: 0.7459\n",
      "Epoch 8/30\n",
      "15000/15000 [==============================] - 30s 2ms/sample - loss: 0.3016 - acc: 0.8786 - val_loss: 0.8000 - val_acc: 0.7483\n",
      "Epoch 9/30\n",
      "15000/15000 [==============================] - 29s 2ms/sample - loss: 0.3026 - acc: 0.8789 - val_loss: 0.7759 - val_acc: 0.7453\n",
      "Epoch 10/30\n",
      "15000/15000 [==============================] - 28s 2ms/sample - loss: 0.2899 - acc: 0.8863 - val_loss: 0.8720 - val_acc: 0.7397\n",
      "Epoch 11/30\n",
      "15000/15000 [==============================] - 28s 2ms/sample - loss: 0.2858 - acc: 0.8880 - val_loss: 0.8635 - val_acc: 0.7434\n",
      "Epoch 12/30\n",
      "15000/15000 [==============================] - 28s 2ms/sample - loss: 0.2776 - acc: 0.8914 - val_loss: 1.0142 - val_acc: 0.7402\n",
      "Epoch 13/30\n",
      "15000/15000 [==============================] - 27s 2ms/sample - loss: 0.2758 - acc: 0.8906 - val_loss: 1.0414 - val_acc: 0.7397\n",
      "Epoch 14/30\n",
      "15000/15000 [==============================] - 27s 2ms/sample - loss: 0.2713 - acc: 0.8915 - val_loss: 1.0823 - val_acc: 0.7348\n",
      "Epoch 15/30\n",
      "15000/15000 [==============================] - 28s 2ms/sample - loss: 0.2834 - acc: 0.8891 - val_loss: 0.8666 - val_acc: 0.7452\n",
      "Epoch 16/30\n",
      "15000/15000 [==============================] - 28s 2ms/sample - loss: 0.2655 - acc: 0.8929 - val_loss: 1.0089 - val_acc: 0.7375\n",
      "Epoch 17/30\n",
      "15000/15000 [==============================] - 28s 2ms/sample - loss: 0.2633 - acc: 0.8957 - val_loss: 0.9648 - val_acc: 0.7434\n",
      "Epoch 18/30\n",
      "15000/15000 [==============================] - 28s 2ms/sample - loss: 0.2608 - acc: 0.8960 - val_loss: 0.9743 - val_acc: 0.7392\n",
      "Epoch 19/30\n",
      "15000/15000 [==============================] - 30s 2ms/sample - loss: 0.2580 - acc: 0.8973 - val_loss: 1.0166 - val_acc: 0.7328\n",
      "Epoch 20/30\n",
      "15000/15000 [==============================] - 30s 2ms/sample - loss: 0.2607 - acc: 0.8998 - val_loss: 0.9225 - val_acc: 0.7405\n",
      "Epoch 21/30\n",
      "15000/15000 [==============================] - 29s 2ms/sample - loss: 0.2559 - acc: 0.9011 - val_loss: 0.8629 - val_acc: 0.7256\n",
      "Epoch 22/30\n",
      "15000/15000 [==============================] - 30s 2ms/sample - loss: 0.2531 - acc: 0.9017 - val_loss: 0.9580 - val_acc: 0.7353\n",
      "Epoch 23/30\n",
      "15000/15000 [==============================] - 31s 2ms/sample - loss: 0.2474 - acc: 0.9018 - val_loss: 0.9450 - val_acc: 0.7371\n",
      "Epoch 24/30\n",
      "15000/15000 [==============================] - 30s 2ms/sample - loss: 0.2389 - acc: 0.9061 - val_loss: 0.9024 - val_acc: 0.7374\n",
      "Epoch 25/30\n",
      "15000/15000 [==============================] - 29s 2ms/sample - loss: 0.2454 - acc: 0.9064 - val_loss: 0.8291 - val_acc: 0.7422\n",
      "Epoch 26/30\n",
      "15000/15000 [==============================] - 29s 2ms/sample - loss: 0.2350 - acc: 0.9073 - val_loss: 0.8788 - val_acc: 0.7353\n",
      "Epoch 27/30\n",
      "15000/15000 [==============================] - 29s 2ms/sample - loss: 0.2305 - acc: 0.9099 - val_loss: 1.0205 - val_acc: 0.7309\n",
      "Epoch 28/30\n",
      "15000/15000 [==============================] - 30s 2ms/sample - loss: 0.2368 - acc: 0.9094 - val_loss: 0.8871 - val_acc: 0.7341\n",
      "Epoch 29/30\n",
      "15000/15000 [==============================] - 30s 2ms/sample - loss: 0.2341 - acc: 0.9099 - val_loss: 0.8877 - val_acc: 0.7355\n",
      "Epoch 30/30\n",
      "15000/15000 [==============================] - 31s 2ms/sample - loss: 0.2297 - acc: 0.9109 - val_loss: 0.9204 - val_acc: 0.7300\n"
     ]
    }
   ],
   "source": [
    "train_scale = model_scale.fit(X_tr,\n",
    "                              Y_train, \n",
    "                              epochs=30, \n",
    "                              batch_size=500, \n",
    "                              validation_data=(X_va, Y_val), \n",
    "                              verbose=1)"
   ]
  },
  {
   "cell_type": "code",
   "execution_count": 19,
   "metadata": {},
   "outputs": [
    {
     "name": "stdout",
     "output_type": "stream",
     "text": [
      "30000/30000 [==============================] - 24s 789us/sample - loss: 3.2830 - acc: 0.2852\n",
      "[3.2830106524149576, 0.2852]\n"
     ]
    }
   ],
   "source": [
    "results = model_scale.evaluate(X_te, Y_test)\n",
    "print(results)"
   ]
  },
  {
   "cell_type": "code",
   "execution_count": 20,
   "metadata": {},
   "outputs": [
    {
     "data": {
      "image/png": "[encoded data removed]",
      "text/plain": [
       "<Figure size 432x288 with 1 Axes>"
      ]
     },
     "metadata": {
      "needs_background": "light"
     },
     "output_type": "display_data"
    }
   ],
   "source": [
    "train_hist_scale = train_scale.history\n",
    "train_acc_scale = train_hist_scale['acc']\n",
    "val_acc_scale = train_hist_scale['val_acc']\n",
    "plt.figure()   \n",
    "num_epochs_scale = range(1, len(train_acc_scale) + 1)\n",
    "plt.plot(num_epochs_scale, train_acc_scale, 'b.-', label='Training acc')\n",
    "plt.plot(num_epochs_scale, val_acc_scale, 'r.-', label='Validation acc')\n",
    "plt.title('Training and validation accuracy - Fit Transform')\n",
    "plt.xlabel('Epochs')\n",
    "plt.ylabel('Accuracy')\n",
    "plt.legend()\n",
    "\n",
    "plt.show()"
   ]
  },
  {
   "cell_type": "markdown",
   "metadata": {},
   "source": [
    "# Neural Network - Normalized Data"
   ]
  },
  {
   "cell_type": "code",
   "execution_count": null,
   "metadata": {},
   "outputs": [],
   "source": [
    "X_tr_norm = preprocessing.normalize(X_train)\n",
    "X_te_norm = preprocessing.normalize(X_test)\n",
    "X_va_norm = preprocessing.normalize(X_val)"
   ]
  },
  {
   "cell_type": "code",
   "execution_count": 12,
   "metadata": {},
   "outputs": [
    {
     "name": "stdout",
     "output_type": "stream",
     "text": [
      "WARNING:tensorflow:From /Library/Frameworks/Python.framework/Versions/3.6/lib/python3.6/site-packages/tensorflow/python/ops/resource_variable_ops.py:435: colocate_with (from tensorflow.python.framework.ops) is deprecated and will be removed in a future version.\n",
      "Instructions for updating:\n",
      "Colocations handled automatically by placer.\n",
      "_________________________________________________________________\n",
      "Layer (type)                 Output Shape              Param #   \n",
      "=================================================================\n",
      "dense (Dense)                (None, 5213)              27180582  \n",
      "_________________________________________________________________\n",
      "dense_1 (Dense)              (None, 1500)              7821000   \n",
      "_________________________________________________________________\n",
      "dense_2 (Dense)              (None, 1500)              2251500   \n",
      "_________________________________________________________________\n",
      "dense_3 (Dense)              (None, 1)                 1501      \n",
      "=================================================================\n",
      "Total params: 37,254,583\n",
      "Trainable params: 37,254,583\n",
      "Non-trainable params: 0\n",
      "_________________________________________________________________\n"
     ]
    }
   ],
   "source": [
    "num_features = len(bad_words)\n",
    "model_norm = keras.Sequential()\n",
    "model_norm.add(keras.layers.Dense(units=num_features, input_shape=(num_features,)))\n",
    "model_norm.add(keras.layers.Dense(units=1500, activation=tf.nn.sigmoid))\n",
    "model_norm.add(keras.layers.Dense(units=1500, activation=tf.nn.sigmoid))\n",
    "model_norm.add(keras.layers.Dense(units=1, activation=tf.nn.sigmoid))\n",
    "model_norm.compile(optimizer='adam',\n",
    "                   loss='binary_crossentropy',\n",
    "                   metrics=['acc'])\n",
    "model_norm.summary()"
   ]
  },
  {
   "cell_type": "code",
   "execution_count": 13,
   "metadata": {},
   "outputs": [
    {
     "name": "stdout",
     "output_type": "stream",
     "text": [
      "Train on 15000 samples, validate on 15000 samples\n",
      "WARNING:tensorflow:From /Library/Frameworks/Python.framework/Versions/3.6/lib/python3.6/site-packages/tensorflow/python/ops/math_ops.py:3066: to_int32 (from tensorflow.python.ops.math_ops) is deprecated and will be removed in a future version.\n",
      "Instructions for updating:\n",
      "Use tf.cast instead.\n",
      "Epoch 1/30\n",
      "15000/15000 [==============================] - 70s 5ms/sample - loss: 1.0611 - acc: 0.5873 - val_loss: 0.4011 - val_acc: 0.8543\n",
      "Epoch 2/30\n",
      "15000/15000 [==============================] - 67s 4ms/sample - loss: 0.3373 - acc: 0.8723 - val_loss: 0.3440 - val_acc: 0.8630\n",
      "Epoch 3/30\n",
      "15000/15000 [==============================] - 65s 4ms/sample - loss: 0.2908 - acc: 0.8914 - val_loss: 0.3638 - val_acc: 0.8598\n",
      "Epoch 4/30\n",
      "15000/15000 [==============================] - 66s 4ms/sample - loss: 0.2781 - acc: 0.8937 - val_loss: 0.3668 - val_acc: 0.8583\n",
      "Epoch 5/30\n",
      "15000/15000 [==============================] - 66s 4ms/sample - loss: 0.2742 - acc: 0.8975 - val_loss: 0.3782 - val_acc: 0.8565\n",
      "Epoch 6/30\n",
      "15000/15000 [==============================] - 66s 4ms/sample - loss: 0.2709 - acc: 0.8987 - val_loss: 0.3806 - val_acc: 0.8564\n",
      "Epoch 7/30\n",
      "15000/15000 [==============================] - 65s 4ms/sample - loss: 0.2679 - acc: 0.8992 - val_loss: 0.3872 - val_acc: 0.8554\n",
      "Epoch 8/30\n",
      "15000/15000 [==============================] - 65s 4ms/sample - loss: 0.2651 - acc: 0.9001 - val_loss: 0.3952 - val_acc: 0.8527\n",
      "Epoch 9/30\n",
      "15000/15000 [==============================] - 66s 4ms/sample - loss: 0.2638 - acc: 0.9012 - val_loss: 0.4028 - val_acc: 0.8523\n",
      "Epoch 10/30\n",
      "15000/15000 [==============================] - 65s 4ms/sample - loss: 0.2628 - acc: 0.9017 - val_loss: 0.4034 - val_acc: 0.8530\n",
      "Epoch 11/30\n",
      "15000/15000 [==============================] - 67s 4ms/sample - loss: 0.2592 - acc: 0.9031 - val_loss: 0.4059 - val_acc: 0.8531\n",
      "Epoch 12/30\n",
      "15000/15000 [==============================] - 65s 4ms/sample - loss: 0.2574 - acc: 0.9017 - val_loss: 0.4125 - val_acc: 0.8529\n",
      "Epoch 13/30\n",
      "15000/15000 [==============================] - 66s 4ms/sample - loss: 0.2545 - acc: 0.9030 - val_loss: 0.4213 - val_acc: 0.8519\n",
      "Epoch 14/30\n",
      "15000/15000 [==============================] - 65s 4ms/sample - loss: 0.2515 - acc: 0.9032 - val_loss: 0.4288 - val_acc: 0.8530\n",
      "Epoch 15/30\n",
      "15000/15000 [==============================] - 65s 4ms/sample - loss: 0.2472 - acc: 0.9055 - val_loss: 0.4271 - val_acc: 0.8512\n",
      "Epoch 16/30\n",
      "15000/15000 [==============================] - 66s 4ms/sample - loss: 0.2418 - acc: 0.9065 - val_loss: 0.4522 - val_acc: 0.8505\n",
      "Epoch 17/30\n",
      "15000/15000 [==============================] - 65s 4ms/sample - loss: 0.2403 - acc: 0.9066 - val_loss: 0.4610 - val_acc: 0.8505\n",
      "Epoch 18/30\n",
      "15000/15000 [==============================] - 66s 4ms/sample - loss: 0.2377 - acc: 0.9069 - val_loss: 0.4847 - val_acc: 0.8513\n",
      "Epoch 19/30\n",
      "15000/15000 [==============================] - 66s 4ms/sample - loss: 0.2368 - acc: 0.9072 - val_loss: 0.5040 - val_acc: 0.8525\n",
      "Epoch 20/30\n",
      "15000/15000 [==============================] - 66s 4ms/sample - loss: 0.2329 - acc: 0.9084 - val_loss: 0.5076 - val_acc: 0.8501\n",
      "Epoch 21/30\n",
      "15000/15000 [==============================] - 65s 4ms/sample - loss: 0.2316 - acc: 0.9089 - val_loss: 0.5350 - val_acc: 0.8505\n",
      "Epoch 22/30\n",
      "15000/15000 [==============================] - 65s 4ms/sample - loss: 0.2300 - acc: 0.9086 - val_loss: 0.5227 - val_acc: 0.8500\n",
      "Epoch 23/30\n",
      "15000/15000 [==============================] - 65s 4ms/sample - loss: 0.2277 - acc: 0.9102 - val_loss: 0.5442 - val_acc: 0.8512\n",
      "Epoch 24/30\n",
      "15000/15000 [==============================] - 65s 4ms/sample - loss: 0.2266 - acc: 0.9097 - val_loss: 0.5386 - val_acc: 0.8488\n",
      "Epoch 25/30\n",
      "15000/15000 [==============================] - 65s 4ms/sample - loss: 0.2248 - acc: 0.9103 - val_loss: 0.5515 - val_acc: 0.8491\n",
      "Epoch 26/30\n",
      "15000/15000 [==============================] - 65s 4ms/sample - loss: 0.2290 - acc: 0.9105 - val_loss: 0.5763 - val_acc: 0.8503\n",
      "Epoch 27/30\n",
      "15000/15000 [==============================] - 65s 4ms/sample - loss: 0.2249 - acc: 0.9102 - val_loss: 0.5630 - val_acc: 0.8517\n",
      "Epoch 28/30\n",
      "15000/15000 [==============================] - 67s 4ms/sample - loss: 0.2232 - acc: 0.9109 - val_loss: 0.5794 - val_acc: 0.8499\n",
      "Epoch 29/30\n",
      "15000/15000 [==============================] - 65s 4ms/sample - loss: 0.2226 - acc: 0.9113 - val_loss: 0.5937 - val_acc: 0.8501\n",
      "Epoch 30/30\n",
      "15000/15000 [==============================] - 68s 5ms/sample - loss: 0.2231 - acc: 0.9115 - val_loss: 0.5868 - val_acc: 0.8483\n"
     ]
    }
   ],
   "source": [
    "train_norm = model_norm.fit(X_tr_norm,\n",
    "                            Y_train, \n",
    "                            epochs=30, \n",
    "                            batch_size=500, \n",
    "                            validation_data=(X_va_norm, Y_val), \n",
    "                            verbose=1)"
   ]
  },
  {
   "cell_type": "code",
   "execution_count": 14,
   "metadata": {},
   "outputs": [
    {
     "name": "stdout",
     "output_type": "stream",
     "text": [
      "30000/30000 [==============================] - 69s 2ms/sample - loss: 0.5168 - acc: 0.9106\n",
      "[0.5168318375428518, 0.9105667]\n"
     ]
    }
   ],
   "source": [
    "results = model_norm.evaluate(X_te_norm, Y_test)\n",
    "print(results)"
   ]
  },
  {
   "cell_type": "code",
   "execution_count": 15,
   "metadata": {},
   "outputs": [
    {
     "data": {
      "image/png": "[encoded data removed]",
      "text/plain": [
       "<Figure size 432x288 with 1 Axes>"
      ]
     },
     "metadata": {
      "needs_background": "light"
     },
     "output_type": "display_data"
    }
   ],
   "source": [
    "train_hist_norm = train_norm.history\n",
    "train_acc_norm = train_hist_norm['acc']\n",
    "val_acc_norm = train_hist_norm['val_acc']\n",
    "plt.figure()   \n",
    "num_epochs_norm = range(1, len(train_acc_norm) + 1)\n",
    "plt.plot(num_epochs_norm, train_acc_norm, 'b.-', label='Training acc')\n",
    "plt.plot(num_epochs_norm, val_acc_norm, 'r.-', label='Validation acc')\n",
    "plt.title('Training and validation accuracy - Normalized Data')\n",
    "plt.xlabel('Epochs')\n",
    "plt.ylabel('Accuracy')\n",
    "plt.legend()\n",
    "\n",
    "plt.show()"
   ]
  },
  {
   "cell_type": "code",
   "execution_count": 11,
   "metadata": {},
   "outputs": [
    {
     "name": "stdout",
     "output_type": "stream",
     "text": [
      "Doing L1 Regularization\n",
      "C: 0.001\n"
     ]
    },
    {
     "ename": "NameError",
     "evalue": "name 'X_tr_norm' is not defined",
     "output_type": "error",
     "traceback": [
      "\u001b[0;31m---------------------------------------------------------------------------\u001b[0m",
      "\u001b[0;31mNameError\u001b[0m                                 Traceback (most recent call last)",
      "\u001b[0;32m<ipython-input-11-f269806232a0>\u001b[0m in \u001b[0;36m<module>\u001b[0;34m\u001b[0m\n\u001b[1;32m     17\u001b[0m                      metrics=['acc'])\n\u001b[1;32m     18\u001b[0m \u001b[0;34m\u001b[0m\u001b[0m\n\u001b[0;32m---> 19\u001b[0;31m     train_norm_l1 = model_norm_l1.fit(X_tr_norm,\n\u001b[0m\u001b[1;32m     20\u001b[0m                                \u001b[0mY_train\u001b[0m\u001b[0;34m,\u001b[0m\u001b[0;34m\u001b[0m\u001b[0m\n\u001b[1;32m     21\u001b[0m                                \u001b[0mepochs\u001b[0m\u001b[0;34m=\u001b[0m\u001b[0;36m30\u001b[0m\u001b[0;34m,\u001b[0m\u001b[0;34m\u001b[0m\u001b[0m\n",
      "\u001b[0;31mNameError\u001b[0m: name 'X_tr_norm' is not defined"
     ]
    }
   ],
   "source": [
    "print(\"Doing L1 Regularization\")\n",
    "num_features = len(bad_words)\n",
    "cvals = [0.001, 0.01, 0.1]\n",
    "for c in cvals:\n",
    "    print(\"C:\", c)\n",
    "    model_norm_l1 = keras.Sequential()\n",
    "    model_norm_l1.add(keras.layers.Dense(units=num_features, input_shape=(num_features,)))\n",
    "    model_norm_l1.add(keras.layers.Dense(units=1500, activation=tf.nn.sigmoid, \n",
    "                                    activity_regularizer=tf.keras.regularizers.l1(l=c)))\n",
    "    model_norm_l1.add(keras.layers.Dense(units=1500, activation=tf.nn.sigmoid, \n",
    "                                    activity_regularizer=tf.keras.regularizers.l1(l=c)))\n",
    "    model_norm_l1.add(keras.layers.Dense(units=1, activation=tf.nn.sigmoid, \n",
    "                                    activity_regularizer=tf.keras.regularizers.l1(l=c)))\n",
    "                 \n",
    "    model_norm_l1.compile(optimizer='adam',\n",
    "                     loss='binary_crossentropy',\n",
    "                     metrics=['acc'])\n",
    "                 \n",
    "    train_norm_l1 = model_norm_l1.fit(X_tr_norm,\n",
    "                               Y_train,\n",
    "                               epochs=30,\n",
    "                               batch_size=500,\n",
    "                               validation_data=(X_va_norm, Y_val),\n",
    "                               verbose=1)\n",
    "    \n",
    "    print(\"Results:\")\n",
    "    results_norm_l1 = model_norm_l1.evaluate(X_te_norm, Y_test)\n",
    "    print(results_norm_l1)\n",
    "                 \n",
    "    train_norm_l1_hist = train_norm_l1.history\n",
    "    train_norm_l1_acc = train_norm_l1_hist['acc']\n",
    "    val_norm_l1_acc = train_norm_l1_hist['val_acc']\n",
    "    plt.figure()   \n",
    "    num_epochs_norm_l1 = range(1, len(train_norm_l1_acc) + 1)\n",
    "    plt.plot(num_epochs_norm_l1, train_norm_l1_acc, 'b.-', label='Training acc')\n",
    "    plt.plot(num_epochs_norm_l1, val_norm_l1_acc, 'r.-', label='Validation acc')\n",
    "    plt.title('Training and validation accuracy, not scaled, L1 reg')\n",
    "    plt.xlabel('Epochs')\n",
    "    plt.ylabel('Accuracy')\n",
    "    plt.legend()\n",
    "\n",
    "    plt.show()"
   ]
  },
  {
   "cell_type": "markdown",
   "metadata": {},
   "source": [
    "# Min-Max Scaled Data"
   ]
  },
  {
   "cell_type": "code",
   "execution_count": 8,
   "metadata": {},
   "outputs": [
    {
     "name": "stderr",
     "output_type": "stream",
     "text": [
      "/usr/local/lib/python3.7/site-packages/sklearn/utils/validation.py:595: DataConversionWarning: Data with input dtype int64 was converted to float64.\n",
      "  warnings.warn(msg, DataConversionWarning)\n",
      "/usr/local/lib/python3.7/site-packages/sklearn/utils/validation.py:595: DataConversionWarning: Data with input dtype int64 was converted to float64.\n",
      "  warnings.warn(msg, DataConversionWarning)\n",
      "/usr/local/lib/python3.7/site-packages/sklearn/utils/validation.py:595: DataConversionWarning: Data with input dtype int64 was converted to float64.\n",
      "  warnings.warn(msg, DataConversionWarning)\n"
     ]
    }
   ],
   "source": [
    "X_tr_mm = preprocessing.minmax_scale(X_train, feature_range=(0,1))\n",
    "X_te_mm = preprocessing.minmax_scale(X_test, feature_range=(0,1))\n",
    "X_va_mm = preprocessing.minmax_scale(X_val, feature_range=(0,1))"
   ]
  },
  {
   "cell_type": "code",
   "execution_count": 11,
   "metadata": {},
   "outputs": [
    {
     "name": "stdout",
     "output_type": "stream",
     "text": [
      "WARNING:tensorflow:From /usr/local/lib/python3.7/site-packages/tensorflow/python/ops/resource_variable_ops.py:435: colocate_with (from tensorflow.python.framework.ops) is deprecated and will be removed in a future version.\n",
      "Instructions for updating:\n",
      "Colocations handled automatically by placer.\n",
      "_________________________________________________________________\n",
      "Layer (type)                 Output Shape              Param #   \n",
      "=================================================================\n",
      "dense (Dense)                (None, 5213)              27180582  \n",
      "_________________________________________________________________\n",
      "dense_1 (Dense)              (None, 1500)              7821000   \n",
      "_________________________________________________________________\n",
      "dense_2 (Dense)              (None, 1500)              2251500   \n",
      "_________________________________________________________________\n",
      "dense_3 (Dense)              (None, 1)                 1501      \n",
      "=================================================================\n",
      "Total params: 37,254,583\n",
      "Trainable params: 37,254,583\n",
      "Non-trainable params: 0\n",
      "_________________________________________________________________\n"
     ]
    }
   ],
   "source": [
    "num_features = len(bad_words)\n",
    "\n",
    "modem_mm = keras.Sequential()\n",
    "modem_mm.add(keras.layers.Dense(units=num_features, input_shape=(num_features,)))\n",
    "modem_mm.add(keras.layers.Dense(units=1500, activation=tf.nn.sigmoid))\n",
    "modem_mm.add(keras.layers.Dense(units=1500, activation=tf.nn.sigmoid))\n",
    "modem_mm.add(keras.layers.Dense(units=1, activation=tf.nn.sigmoid))\n",
    "modem_mm.compile(optimizer='adam',\n",
    "                 loss='binary_crossentropy',\n",
    "                 metrics=['acc'])\n",
    "modem_mm.summary()"
   ]
  },
  {
   "cell_type": "code",
   "execution_count": 12,
   "metadata": {},
   "outputs": [
    {
     "name": "stdout",
     "output_type": "stream",
     "text": [
      "Train on 15000 samples, validate on 15000 samples\n",
      "WARNING:tensorflow:From /usr/local/lib/python3.7/site-packages/tensorflow/python/ops/math_ops.py:3066: to_int32 (from tensorflow.python.ops.math_ops) is deprecated and will be removed in a future version.\n",
      "Instructions for updating:\n",
      "Use tf.cast instead.\n",
      "Epoch 1/30\n",
      "15000/15000 [==============================] - 29s 2ms/sample - loss: 1.2916 - acc: 0.5015 - val_loss: 0.7541 - val_acc: 0.5000\n",
      "Epoch 2/30\n",
      "15000/15000 [==============================] - 27s 2ms/sample - loss: 0.6500 - acc: 0.5937 - val_loss: 0.5890 - val_acc: 0.6785\n",
      "Epoch 3/30\n",
      "15000/15000 [==============================] - 27s 2ms/sample - loss: 0.5168 - acc: 0.7373 - val_loss: 0.5860 - val_acc: 0.7008\n",
      "Epoch 4/30\n",
      "15000/15000 [==============================] - 28s 2ms/sample - loss: 0.4706 - acc: 0.7730 - val_loss: 0.5976 - val_acc: 0.7293\n",
      "Epoch 5/30\n",
      "15000/15000 [==============================] - 27s 2ms/sample - loss: 0.4445 - acc: 0.7866 - val_loss: 0.6200 - val_acc: 0.7347\n",
      "Epoch 6/30\n",
      "15000/15000 [==============================] - 29s 2ms/sample - loss: 0.4241 - acc: 0.7950 - val_loss: 0.6441 - val_acc: 0.7405\n",
      "Epoch 7/30\n",
      "15000/15000 [==============================] - 30s 2ms/sample - loss: 0.4087 - acc: 0.8092 - val_loss: 0.6677 - val_acc: 0.7449\n",
      "Epoch 8/30\n",
      "15000/15000 [==============================] - 27s 2ms/sample - loss: 0.3926 - acc: 0.8205 - val_loss: 0.7039 - val_acc: 0.7385\n",
      "Epoch 9/30\n",
      "15000/15000 [==============================] - 27s 2ms/sample - loss: 0.3810 - acc: 0.8288 - val_loss: 0.7109 - val_acc: 0.7778\n",
      "Epoch 10/30\n",
      "15000/15000 [==============================] - 27s 2ms/sample - loss: 0.3695 - acc: 0.8346 - val_loss: 0.7542 - val_acc: 0.7389\n",
      "Epoch 11/30\n",
      "15000/15000 [==============================] - 30s 2ms/sample - loss: 0.3588 - acc: 0.8387 - val_loss: 0.7707 - val_acc: 0.8078\n",
      "Epoch 12/30\n",
      "15000/15000 [==============================] - 29s 2ms/sample - loss: 0.3486 - acc: 0.8451 - val_loss: 0.7857 - val_acc: 0.7591\n",
      "Epoch 13/30\n",
      "15000/15000 [==============================] - 28s 2ms/sample - loss: 0.3369 - acc: 0.8505 - val_loss: 0.8099 - val_acc: 0.7740\n",
      "Epoch 14/30\n",
      "15000/15000 [==============================] - 28s 2ms/sample - loss: 0.3292 - acc: 0.8540 - val_loss: 0.8383 - val_acc: 0.7667\n",
      "Epoch 15/30\n",
      "15000/15000 [==============================] - 28s 2ms/sample - loss: 0.3235 - acc: 0.8561 - val_loss: 0.8454 - val_acc: 0.7987\n",
      "Epoch 16/30\n",
      "15000/15000 [==============================] - 28s 2ms/sample - loss: 0.3193 - acc: 0.8649 - val_loss: 0.8582 - val_acc: 0.8023\n",
      "Epoch 17/30\n",
      "15000/15000 [==============================] - 28s 2ms/sample - loss: 0.3083 - acc: 0.8675 - val_loss: 0.8959 - val_acc: 0.8021\n",
      "Epoch 18/30\n",
      "15000/15000 [==============================] - 29s 2ms/sample - loss: 0.3066 - acc: 0.8709 - val_loss: 0.9286 - val_acc: 0.7559\n",
      "Epoch 19/30\n",
      "15000/15000 [==============================] - 28s 2ms/sample - loss: 0.3025 - acc: 0.8740 - val_loss: 0.9049 - val_acc: 0.7972\n",
      "Epoch 20/30\n",
      "15000/15000 [==============================] - 28s 2ms/sample - loss: 0.2980 - acc: 0.8765 - val_loss: 0.9166 - val_acc: 0.7944\n",
      "Epoch 21/30\n",
      "15000/15000 [==============================] - 28s 2ms/sample - loss: 0.2962 - acc: 0.8810 - val_loss: 0.9241 - val_acc: 0.7722\n",
      "Epoch 22/30\n",
      "15000/15000 [==============================] - 30s 2ms/sample - loss: 0.2891 - acc: 0.8820 - val_loss: 0.9220 - val_acc: 0.8002\n",
      "Epoch 23/30\n",
      "15000/15000 [==============================] - 29s 2ms/sample - loss: 0.2921 - acc: 0.8811 - val_loss: 0.9826 - val_acc: 0.7580\n",
      "Epoch 24/30\n",
      "15000/15000 [==============================] - 27s 2ms/sample - loss: 0.3003 - acc: 0.8787 - val_loss: 0.9022 - val_acc: 0.8025\n",
      "Epoch 25/30\n",
      "15000/15000 [==============================] - 28s 2ms/sample - loss: 0.2825 - acc: 0.8847 - val_loss: 0.9295 - val_acc: 0.8015\n",
      "Epoch 26/30\n",
      "15000/15000 [==============================] - 28s 2ms/sample - loss: 0.2794 - acc: 0.8867 - val_loss: 0.9425 - val_acc: 0.7987\n",
      "Epoch 27/30\n",
      "15000/15000 [==============================] - 28s 2ms/sample - loss: 0.2763 - acc: 0.8900 - val_loss: 0.9629 - val_acc: 0.8115\n",
      "Epoch 28/30\n",
      "15000/15000 [==============================] - 29s 2ms/sample - loss: 0.2819 - acc: 0.8869 - val_loss: 0.9350 - val_acc: 0.7979\n",
      "Epoch 29/30\n",
      "15000/15000 [==============================] - 28s 2ms/sample - loss: 0.2738 - acc: 0.8902 - val_loss: 0.9578 - val_acc: 0.8007\n",
      "Epoch 30/30\n",
      "15000/15000 [==============================] - 28s 2ms/sample - loss: 0.2712 - acc: 0.8913 - val_loss: 0.9659 - val_acc: 0.7995\n"
     ]
    }
   ],
   "source": [
    "train_mm = modem_mm.fit(X_tr_mm,\n",
    "                        Y_train, \n",
    "                        epochs=30, \n",
    "                        batch_size=500, \n",
    "                        validation_data=(X_va_mm, Y_val), \n",
    "                        verbose=1)"
   ]
  },
  {
   "cell_type": "code",
   "execution_count": 13,
   "metadata": {},
   "outputs": [
    {
     "name": "stdout",
     "output_type": "stream",
     "text": [
      "30000/30000 [==============================] - 24s 801us/sample - loss: 1.2001 - acc: 0.8747\n",
      "[1.200053024037679, 0.8746667]\n"
     ]
    }
   ],
   "source": [
    "results = modem_mm.evaluate(X_te_mm, Y_test)\n",
    "print(results)"
   ]
  },
  {
   "cell_type": "code",
   "execution_count": 14,
   "metadata": {},
   "outputs": [
    {
     "data": {
      "image/png": "[encoded data removed]",
      "text/plain": [
       "<Figure size 432x288 with 1 Axes>"
      ]
     },
     "metadata": {
      "needs_background": "light"
     },
     "output_type": "display_data"
    }
   ],
   "source": [
    "train_hist_mm = train_mm.history\n",
    "train_acc_mm = train_hist_mm['acc']\n",
    "val_acc_mm = train_hist_mm['val_acc']\n",
    "plt.figure()   \n",
    "num_epochs_mm = range(1, len(train_acc_mm) + 1)\n",
    "plt.plot(num_epochs_mm, train_acc_mm, 'b.-', label='Training acc')\n",
    "plt.plot(num_epochs_mm, val_acc_mm, 'r.-', label='Validation acc')\n",
    "plt.title('Training and validation accuracy - Min-Max Scaled Data')\n",
    "plt.xlabel('Epochs')\n",
    "plt.ylabel('Accuracy')\n",
    "plt.legend()\n",
    "\n",
    "plt.show()"
   ]
  },
  {
   "cell_type": "code",
   "execution_count": 10,
   "metadata": {},
   "outputs": [
    {
     "name": "stdout",
     "output_type": "stream",
     "text": [
      "Doing L1 Regularization\n",
      "C: 0.001\n",
      "Train on 15000 samples, validate on 15000 samples\n",
      "Epoch 1/30\n",
      "15000/15000 [==============================] - 29s 2ms/sample - loss: 2.1273 - acc: 0.5028 - val_loss: 1.4070 - val_acc: 0.5130\n",
      "Epoch 2/30\n",
      "15000/15000 [==============================] - 28s 2ms/sample - loss: 1.2692 - acc: 0.6227 - val_loss: 1.1311 - val_acc: 0.6869\n",
      "Epoch 3/30\n",
      "15000/15000 [==============================] - 29s 2ms/sample - loss: 1.0024 - acc: 0.7380 - val_loss: 0.9610 - val_acc: 0.7142\n",
      "Epoch 4/30\n",
      "15000/15000 [==============================] - 29s 2ms/sample - loss: 0.8404 - acc: 0.7604 - val_loss: 0.8832 - val_acc: 0.7353\n",
      "Epoch 5/30\n",
      "15000/15000 [==============================] - 29s 2ms/sample - loss: 0.7588 - acc: 0.7810 - val_loss: 0.8386 - val_acc: 0.7399\n",
      "Epoch 6/30\n",
      "15000/15000 [==============================] - 29s 2ms/sample - loss: 0.7073 - acc: 0.7884 - val_loss: 0.8158 - val_acc: 0.7551\n",
      "Epoch 7/30\n",
      "15000/15000 [==============================] - 29s 2ms/sample - loss: 0.6694 - acc: 0.8001 - val_loss: 0.8025 - val_acc: 0.7212\n",
      "Epoch 8/30\n",
      "15000/15000 [==============================] - 29s 2ms/sample - loss: 0.6423 - acc: 0.8049 - val_loss: 0.7887 - val_acc: 0.7406\n",
      "Epoch 9/30\n",
      "15000/15000 [==============================] - 29s 2ms/sample - loss: 0.6195 - acc: 0.8135 - val_loss: 0.7820 - val_acc: 0.7613\n",
      "Epoch 10/30\n",
      "15000/15000 [==============================] - 29s 2ms/sample - loss: 0.5997 - acc: 0.8229 - val_loss: 0.7664 - val_acc: 0.7493\n",
      "Epoch 11/30\n",
      "15000/15000 [==============================] - 28s 2ms/sample - loss: 0.5814 - acc: 0.8236 - val_loss: 0.7593 - val_acc: 0.7449\n",
      "Epoch 12/30\n",
      "15000/15000 [==============================] - 30s 2ms/sample - loss: 0.5640 - acc: 0.8349 - val_loss: 0.7569 - val_acc: 0.7564\n",
      "Epoch 13/30\n",
      "15000/15000 [==============================] - 29s 2ms/sample - loss: 0.5485 - acc: 0.8387 - val_loss: 0.7559 - val_acc: 0.7600\n",
      "Epoch 14/30\n",
      "15000/15000 [==============================] - 29s 2ms/sample - loss: 0.5337 - acc: 0.8419 - val_loss: 0.7542 - val_acc: 0.7779\n",
      "Epoch 15/30\n",
      "15000/15000 [==============================] - 29s 2ms/sample - loss: 0.5252 - acc: 0.8461 - val_loss: 0.7546 - val_acc: 0.7547\n",
      "Epoch 16/30\n",
      "15000/15000 [==============================] - 29s 2ms/sample - loss: 0.5110 - acc: 0.8508 - val_loss: 0.7478 - val_acc: 0.7555\n",
      "Epoch 17/30\n",
      "15000/15000 [==============================] - 29s 2ms/sample - loss: 0.4971 - acc: 0.8549 - val_loss: 0.7416 - val_acc: 0.7604\n",
      "Epoch 18/30\n",
      "15000/15000 [==============================] - 29s 2ms/sample - loss: 0.4890 - acc: 0.8563 - val_loss: 0.7414 - val_acc: 0.7608\n",
      "Epoch 19/30\n",
      "15000/15000 [==============================] - 29s 2ms/sample - loss: 0.4810 - acc: 0.8595 - val_loss: 0.7321 - val_acc: 0.7988\n",
      "Epoch 20/30\n",
      "15000/15000 [==============================] - 29s 2ms/sample - loss: 0.4681 - acc: 0.8597 - val_loss: 0.7405 - val_acc: 0.7673\n",
      "Epoch 21/30\n",
      "15000/15000 [==============================] - 29s 2ms/sample - loss: 0.4587 - acc: 0.8638 - val_loss: 0.7322 - val_acc: 0.7848\n",
      "Epoch 22/30\n",
      "15000/15000 [==============================] - 29s 2ms/sample - loss: 0.4522 - acc: 0.8686 - val_loss: 0.7328 - val_acc: 0.7655\n",
      "Epoch 23/30\n",
      "15000/15000 [==============================] - 29s 2ms/sample - loss: 0.4471 - acc: 0.8697 - val_loss: 0.7195 - val_acc: 0.7813\n",
      "Epoch 24/30\n",
      "15000/15000 [==============================] - 29s 2ms/sample - loss: 0.4401 - acc: 0.8736 - val_loss: 0.7244 - val_acc: 0.7771\n",
      "Epoch 25/30\n",
      "15000/15000 [==============================] - 29s 2ms/sample - loss: 0.4361 - acc: 0.8739 - val_loss: 0.7122 - val_acc: 0.8062\n",
      "Epoch 26/30\n",
      "15000/15000 [==============================] - 29s 2ms/sample - loss: 0.4286 - acc: 0.8769 - val_loss: 0.7078 - val_acc: 0.8067\n",
      "Epoch 27/30\n",
      "15000/15000 [==============================] - 29s 2ms/sample - loss: 0.4210 - acc: 0.8793 - val_loss: 0.7138 - val_acc: 0.7995\n",
      "Epoch 28/30\n",
      "15000/15000 [==============================] - 29s 2ms/sample - loss: 0.4182 - acc: 0.8809 - val_loss: 0.7399 - val_acc: 0.7631\n",
      "Epoch 29/30\n",
      "15000/15000 [==============================] - 29s 2ms/sample - loss: 0.4165 - acc: 0.8765 - val_loss: 0.6977 - val_acc: 0.8061\n",
      "Epoch 30/30\n",
      "15000/15000 [==============================] - 29s 2ms/sample - loss: 0.4065 - acc: 0.8821 - val_loss: 0.6937 - val_acc: 0.8172\n",
      "Results:\n",
      "30000/30000 [==============================] - 24s 802us/sample - loss: 0.8570 - acc: 0.8522\n",
      "[0.8569604775110881, 0.85223335]\n"
     ]
    },
    {
     "data": {
      "image/png": "[encoded data removed]",
      "text/plain": [
       "<Figure size 432x288 with 1 Axes>"
      ]
     },
     "metadata": {
      "needs_background": "light"
     },
     "output_type": "display_data"
    },
    {
     "name": "stdout",
     "output_type": "stream",
     "text": [
      "C: 0.01\n",
      "Train on 15000 samples, validate on 15000 samples\n",
      "Epoch 1/30\n",
      "15000/15000 [==============================] - 30s 2ms/sample - loss: 6.6777 - acc: 0.4999 - val_loss: 3.8645 - val_acc: 0.5000\n",
      "Epoch 2/30\n",
      "15000/15000 [==============================] - 29s 2ms/sample - loss: 3.3014 - acc: 0.5004 - val_loss: 2.7623 - val_acc: 0.5013\n",
      "Epoch 3/30\n",
      "15000/15000 [==============================] - 28s 2ms/sample - loss: 2.3627 - acc: 0.5003 - val_loss: 1.9841 - val_acc: 0.5000\n",
      "Epoch 4/30\n",
      "15000/15000 [==============================] - 29s 2ms/sample - loss: 1.7740 - acc: 0.5024 - val_loss: 1.6087 - val_acc: 0.5000\n",
      "Epoch 5/30\n",
      "15000/15000 [==============================] - 28s 2ms/sample - loss: 1.5249 - acc: 0.5000 - val_loss: 1.4563 - val_acc: 0.5000\n",
      "Epoch 6/30\n",
      "15000/15000 [==============================] - 29s 2ms/sample - loss: 1.4139 - acc: 0.5000 - val_loss: 1.3755 - val_acc: 0.5000\n",
      "Epoch 7/30\n",
      "15000/15000 [==============================] - 29s 2ms/sample - loss: 1.3462 - acc: 0.5000 - val_loss: 1.3151 - val_acc: 0.5000\n",
      "Epoch 8/30\n",
      "15000/15000 [==============================] - 29s 2ms/sample - loss: 1.2890 - acc: 0.5000 - val_loss: 1.2627 - val_acc: 0.5000\n",
      "Epoch 9/30\n",
      "15000/15000 [==============================] - 28s 2ms/sample - loss: 1.2410 - acc: 0.5000 - val_loss: 1.2195 - val_acc: 0.5000\n",
      "Epoch 10/30\n",
      "15000/15000 [==============================] - 29s 2ms/sample - loss: 1.2022 - acc: 0.5000 - val_loss: 1.1856 - val_acc: 0.5000\n",
      "Epoch 11/30\n",
      "15000/15000 [==============================] - 29s 2ms/sample - loss: 1.1712 - acc: 0.5000 - val_loss: 1.1568 - val_acc: 0.5000\n",
      "Epoch 12/30\n",
      "15000/15000 [==============================] - 29s 2ms/sample - loss: 1.1450 - acc: 0.5000 - val_loss: 1.1332 - val_acc: 0.5000\n",
      "Epoch 13/30\n",
      "15000/15000 [==============================] - 29s 2ms/sample - loss: 1.1231 - acc: 0.5000 - val_loss: 1.1123 - val_acc: 0.5000\n",
      "Epoch 14/30\n",
      "15000/15000 [==============================] - 29s 2ms/sample - loss: 1.1028 - acc: 0.5000 - val_loss: 1.0934 - val_acc: 0.5000\n",
      "Epoch 15/30\n",
      "15000/15000 [==============================] - 29s 2ms/sample - loss: 1.0860 - acc: 0.5000 - val_loss: 1.0776 - val_acc: 0.5000\n",
      "Epoch 16/30\n",
      "15000/15000 [==============================] - 29s 2ms/sample - loss: 1.0702 - acc: 0.5000 - val_loss: 1.0624 - val_acc: 0.5000\n",
      "Epoch 17/30\n",
      "15000/15000 [==============================] - 28s 2ms/sample - loss: 1.0554 - acc: 0.5000 - val_loss: 1.0482 - val_acc: 0.5000\n",
      "Epoch 18/30\n",
      "15000/15000 [==============================] - 29s 2ms/sample - loss: 1.0418 - acc: 0.5000 - val_loss: 1.0351 - val_acc: 0.5000\n",
      "Epoch 19/30\n",
      "15000/15000 [==============================] - 29s 2ms/sample - loss: 1.0293 - acc: 0.5000 - val_loss: 1.0233 - val_acc: 0.5000\n",
      "Epoch 20/30\n",
      "15000/15000 [==============================] - 29s 2ms/sample - loss: 1.0181 - acc: 0.5000 - val_loss: 1.0125 - val_acc: 0.5000\n",
      "Epoch 21/30\n",
      "15000/15000 [==============================] - 29s 2ms/sample - loss: 1.0075 - acc: 0.5000 - val_loss: 1.0023 - val_acc: 0.5000\n",
      "Epoch 22/30\n",
      "15000/15000 [==============================] - 28s 2ms/sample - loss: 0.9981 - acc: 0.5000 - val_loss: 0.9937 - val_acc: 0.5000\n",
      "Epoch 23/30\n",
      "15000/15000 [==============================] - 28s 2ms/sample - loss: 0.9893 - acc: 0.5000 - val_loss: 0.9849 - val_acc: 0.5000\n",
      "Epoch 24/30\n",
      "15000/15000 [==============================] - 29s 2ms/sample - loss: 0.9808 - acc: 0.5000 - val_loss: 0.9766 - val_acc: 0.5000\n",
      "Epoch 25/30\n",
      "15000/15000 [==============================] - 29s 2ms/sample - loss: 0.9728 - acc: 0.5000 - val_loss: 0.9688 - val_acc: 0.5000\n",
      "Epoch 26/30\n",
      "15000/15000 [==============================] - 28s 2ms/sample - loss: 0.9653 - acc: 0.5000 - val_loss: 0.9616 - val_acc: 0.5000\n",
      "Epoch 27/30\n",
      "15000/15000 [==============================] - 29s 2ms/sample - loss: 0.9582 - acc: 0.5000 - val_loss: 0.9547 - val_acc: 0.5000\n",
      "Epoch 28/30\n",
      "15000/15000 [==============================] - 29s 2ms/sample - loss: 0.9516 - acc: 0.5000 - val_loss: 0.9483 - val_acc: 0.5000\n",
      "Epoch 29/30\n",
      "15000/15000 [==============================] - 29s 2ms/sample - loss: 0.9454 - acc: 0.5000 - val_loss: 0.9423 - val_acc: 0.5000\n",
      "Epoch 30/30\n",
      "15000/15000 [==============================] - 28s 2ms/sample - loss: 0.9396 - acc: 0.5000 - val_loss: 0.9368 - val_acc: 0.5000\n",
      "Results:\n",
      "30000/30000 [==============================] - 24s 809us/sample - loss: 0.9317 - acc: 1.0000\n",
      "[0.9316945921897888, 1.0]\n"
     ]
    },
    {
     "data": {
      "image/png": "[encoded data removed]",
      "text/plain": [
       "<Figure size 432x288 with 1 Axes>"
      ]
     },
     "metadata": {
      "needs_background": "light"
     },
     "output_type": "display_data"
    },
    {
     "name": "stdout",
     "output_type": "stream",
     "text": [
      "C: 0.1\n",
      "Train on 15000 samples, validate on 15000 samples\n",
      "Epoch 1/30\n",
      "15000/15000 [==============================] - 30s 2ms/sample - loss: 57.9752 - acc: 0.4932 - val_loss: 31.1261 - val_acc: 0.5000\n",
      "Epoch 2/30\n",
      "15000/15000 [==============================] - 29s 2ms/sample - loss: 25.6328 - acc: 0.5005 - val_loss: 20.5401 - val_acc: 0.5007\n",
      "Epoch 3/30\n",
      "15000/15000 [==============================] - 28s 2ms/sample - loss: 16.6665 - acc: 0.5007 - val_loss: 12.8885 - val_acc: 0.5000\n",
      "Epoch 4/30\n",
      "15000/15000 [==============================] - 28s 2ms/sample - loss: 10.8508 - acc: 0.5000 - val_loss: 9.2607 - val_acc: 0.5000\n",
      "Epoch 5/30\n",
      "15000/15000 [==============================] - 28s 2ms/sample - loss: 8.4488 - acc: 0.5000 - val_loss: 7.7684 - val_acc: 0.5000\n",
      "Epoch 6/30\n",
      "15000/15000 [==============================] - 29s 2ms/sample - loss: 7.3451 - acc: 0.5000 - val_loss: 6.9692 - val_acc: 0.5000\n",
      "Epoch 7/30\n",
      "15000/15000 [==============================] - 29s 2ms/sample - loss: 6.6918 - acc: 0.5000 - val_loss: 6.4286 - val_acc: 0.5000\n",
      "Epoch 8/30\n",
      "15000/15000 [==============================] - 28s 2ms/sample - loss: 6.2061 - acc: 0.5000 - val_loss: 5.9792 - val_acc: 0.5000\n",
      "Epoch 9/30\n",
      "15000/15000 [==============================] - 28s 2ms/sample - loss: 5.7901 - acc: 0.5000 - val_loss: 5.6088 - val_acc: 0.5000\n",
      "Epoch 10/30\n",
      "15000/15000 [==============================] - 29s 2ms/sample - loss: 5.4623 - acc: 0.5000 - val_loss: 5.3129 - val_acc: 0.5000\n",
      "Epoch 11/30\n",
      "15000/15000 [==============================] - 28s 2ms/sample - loss: 5.1828 - acc: 0.5000 - val_loss: 5.0507 - val_acc: 0.5000\n",
      "Epoch 12/30\n",
      "15000/15000 [==============================] - 28s 2ms/sample - loss: 4.9345 - acc: 0.5000 - val_loss: 4.8161 - val_acc: 0.5000\n",
      "Epoch 13/30\n",
      "15000/15000 [==============================] - 28s 2ms/sample - loss: 4.7138 - acc: 0.5000 - val_loss: 4.6097 - val_acc: 0.5000\n",
      "Epoch 14/30\n",
      "15000/15000 [==============================] - 28s 2ms/sample - loss: 4.5193 - acc: 0.5000 - val_loss: 4.4263 - val_acc: 0.5000\n",
      "Epoch 15/30\n",
      "15000/15000 [==============================] - 28s 2ms/sample - loss: 4.3458 - acc: 0.5000 - val_loss: 4.2632 - val_acc: 0.5000\n",
      "Epoch 16/30\n",
      "15000/15000 [==============================] - 29s 2ms/sample - loss: 4.1906 - acc: 0.5000 - val_loss: 4.1182 - val_acc: 0.5000\n",
      "Epoch 17/30\n",
      "15000/15000 [==============================] - 29s 2ms/sample - loss: 4.0607 - acc: 0.5000 - val_loss: 3.9972 - val_acc: 0.5000\n",
      "Epoch 18/30\n",
      "15000/15000 [==============================] - 28s 2ms/sample - loss: 3.9415 - acc: 0.5000 - val_loss: 3.8828 - val_acc: 0.5000\n",
      "Epoch 19/30\n",
      "15000/15000 [==============================] - 28s 2ms/sample - loss: 3.8317 - acc: 0.5000 - val_loss: 3.7769 - val_acc: 0.5000\n",
      "Epoch 20/30\n",
      "15000/15000 [==============================] - 28s 2ms/sample - loss: 3.7275 - acc: 0.5000 - val_loss: 3.6758 - val_acc: 0.5000\n",
      "Epoch 21/30\n",
      "15000/15000 [==============================] - 29s 2ms/sample - loss: 3.6296 - acc: 0.5000 - val_loss: 3.5815 - val_acc: 0.5000\n",
      "Epoch 22/30\n",
      "15000/15000 [==============================] - 29s 2ms/sample - loss: 3.5389 - acc: 0.5000 - val_loss: 3.4959 - val_acc: 0.5000\n",
      "Epoch 23/30\n",
      "15000/15000 [==============================] - 28s 2ms/sample - loss: 3.4569 - acc: 0.5000 - val_loss: 3.4160 - val_acc: 0.5000\n",
      "Epoch 24/30\n",
      "15000/15000 [==============================] - 28s 2ms/sample - loss: 3.3789 - acc: 0.5000 - val_loss: 3.3403 - val_acc: 0.5000\n",
      "Epoch 25/30\n",
      "15000/15000 [==============================] - 29s 2ms/sample - loss: 3.3053 - acc: 0.5000 - val_loss: 3.2687 - val_acc: 0.5000\n",
      "Epoch 26/30\n",
      "15000/15000 [==============================] - 29s 2ms/sample - loss: 3.2351 - acc: 0.5000 - val_loss: 3.2000 - val_acc: 0.5000\n",
      "Epoch 27/30\n",
      "15000/15000 [==============================] - 28s 2ms/sample - loss: 3.1690 - acc: 0.5000 - val_loss: 3.1368 - val_acc: 0.5000\n",
      "Epoch 28/30\n",
      "15000/15000 [==============================] - 29s 2ms/sample - loss: 3.1075 - acc: 0.5000 - val_loss: 3.0768 - val_acc: 0.5000\n",
      "Epoch 29/30\n",
      "15000/15000 [==============================] - 29s 2ms/sample - loss: 3.0489 - acc: 0.5000 - val_loss: 3.0198 - val_acc: 0.5000\n",
      "Epoch 30/30\n",
      "15000/15000 [==============================] - 29s 2ms/sample - loss: 2.9933 - acc: 0.5000 - val_loss: 2.9655 - val_acc: 0.5000\n",
      "Results:\n",
      "30000/30000 [==============================] - 23s 780us/sample - loss: 2.9163 - acc: 1.0000\n",
      "[2.916274094390869, 1.0]\n"
     ]
    },
    {
     "data": {
      "image/png": "[encoded data removed]",
      "text/plain": [
       "<Figure size 432x288 with 1 Axes>"
      ]
     },
     "metadata": {
      "needs_background": "light"
     },
     "output_type": "display_data"
    }
   ],
   "source": [
    "print(\"Doing L1 Regularization\")\n",
    "num_features = len(bad_words)\n",
    "cvals = [0.001, 0.01, 0.1]\n",
    "for c in cvals:\n",
    "    print(\"C:\", c)\n",
    "    model_mm_l1 = keras.Sequential()\n",
    "    model_mm_l1.add(keras.layers.Dense(units=num_features, input_shape=(num_features,)))\n",
    "    model_mm_l1.add(keras.layers.Dense(units=1500, activation=tf.nn.sigmoid, \n",
    "                                    activity_regularizer=tf.keras.regularizers.l1(l=c)))\n",
    "    model_mm_l1.add(keras.layers.Dense(units=1500, activation=tf.nn.sigmoid, \n",
    "                                    activity_regularizer=tf.keras.regularizers.l1(l=c)))\n",
    "    model_mm_l1.add(keras.layers.Dense(units=1, activation=tf.nn.sigmoid, \n",
    "                                    activity_regularizer=tf.keras.regularizers.l1(l=c)))\n",
    "                 \n",
    "    model_mm_l1.compile(optimizer='adam',\n",
    "                     loss='binary_crossentropy',\n",
    "                     metrics=['acc'])\n",
    "                 \n",
    "    train_mm_l1 = model_mm_l1.fit(X_tr_mm,\n",
    "                               Y_train,\n",
    "                               epochs=30,\n",
    "                               batch_size=500,\n",
    "                               validation_data=(X_va_mm, Y_val),\n",
    "                               verbose=1)\n",
    "    \n",
    "    print(\"Results:\")\n",
    "    results_mm_l1 = model_mm_l1.evaluate(X_te_mm, Y_test)\n",
    "    print(results_mm_l1)\n",
    "                 \n",
    "    train_mm_l1_hist = train_mm_l1.history\n",
    "    train_mm_l1_acc = train_mm_l1_hist['acc']\n",
    "    val_mm_l1_acc = train_mm_l1_hist['val_acc']\n",
    "    plt.figure()   \n",
    "    num_epochs_mm_l1 = range(1, len(train_mm_l1_acc) + 1)\n",
    "    plt.plot(num_epochs_mm_l1, train_mm_l1_acc, 'b.-', label='Training acc')\n",
    "    plt.plot(num_epochs_mm_l1, val_mm_l1_acc, 'r.-', label='Validation acc')\n",
    "    plt.title('Training and validation accuracy, min-max, L1 reg')\n",
    "    plt.xlabel('Epochs')\n",
    "    plt.ylabel('Accuracy')\n",
    "    plt.legend()\n",
    "\n",
    "    plt.show()"
   ]
  },
  {
   "cell_type": "code",
   "execution_count": 11,
   "metadata": {},
   "outputs": [
    {
     "name": "stdout",
     "output_type": "stream",
     "text": [
      "Doing L2 Regularization\n",
      "C: 0.001\n",
      "Train on 15000 samples, validate on 15000 samples\n",
      "Epoch 1/30\n",
      "15000/15000 [==============================] - 30s 2ms/sample - loss: 1.5810 - acc: 0.5029 - val_loss: 0.9273 - val_acc: 0.5000\n",
      "Epoch 2/30\n",
      "15000/15000 [==============================] - 29s 2ms/sample - loss: 0.8534 - acc: 0.5748 - val_loss: 0.7798 - val_acc: 0.6617\n",
      "Epoch 3/30\n",
      "15000/15000 [==============================] - 29s 2ms/sample - loss: 0.6992 - acc: 0.7297 - val_loss: 0.7096 - val_acc: 0.7318\n",
      "Epoch 4/30\n",
      "15000/15000 [==============================] - 28s 2ms/sample - loss: 0.6143 - acc: 0.7618 - val_loss: 0.6915 - val_acc: 0.7160\n",
      "Epoch 5/30\n",
      "15000/15000 [==============================] - 29s 2ms/sample - loss: 0.5757 - acc: 0.7774 - val_loss: 0.7004 - val_acc: 0.7523\n",
      "Epoch 6/30\n",
      "15000/15000 [==============================] - 28s 2ms/sample - loss: 0.5507 - acc: 0.7938 - val_loss: 0.6973 - val_acc: 0.7501\n",
      "Epoch 7/30\n",
      "15000/15000 [==============================] - 28s 2ms/sample - loss: 0.5288 - acc: 0.7984 - val_loss: 0.6972 - val_acc: 0.7372\n",
      "Epoch 8/30\n",
      "15000/15000 [==============================] - 28s 2ms/sample - loss: 0.5118 - acc: 0.8073 - val_loss: 0.6976 - val_acc: 0.7302\n",
      "Epoch 9/30\n",
      "15000/15000 [==============================] - 28s 2ms/sample - loss: 0.4917 - acc: 0.8119 - val_loss: 0.6979 - val_acc: 0.7367\n",
      "Epoch 10/30\n",
      "15000/15000 [==============================] - 29s 2ms/sample - loss: 0.4783 - acc: 0.8179 - val_loss: 0.6998 - val_acc: 0.7347\n",
      "Epoch 11/30\n",
      "15000/15000 [==============================] - 28s 2ms/sample - loss: 0.4668 - acc: 0.8231 - val_loss: 0.6956 - val_acc: 0.7463\n",
      "Epoch 12/30\n",
      "15000/15000 [==============================] - 28s 2ms/sample - loss: 0.4596 - acc: 0.8310 - val_loss: 0.7049 - val_acc: 0.7317\n",
      "Epoch 13/30\n",
      "15000/15000 [==============================] - 28s 2ms/sample - loss: 0.4433 - acc: 0.8364 - val_loss: 0.6981 - val_acc: 0.7461\n",
      "Epoch 14/30\n",
      "15000/15000 [==============================] - 28s 2ms/sample - loss: 0.4298 - acc: 0.8413 - val_loss: 0.7031 - val_acc: 0.7501\n",
      "Epoch 15/30\n",
      "15000/15000 [==============================] - 28s 2ms/sample - loss: 0.4205 - acc: 0.8459 - val_loss: 0.7067 - val_acc: 0.7635\n",
      "Epoch 16/30\n",
      "15000/15000 [==============================] - 29s 2ms/sample - loss: 0.4138 - acc: 0.8463 - val_loss: 0.6976 - val_acc: 0.7711\n",
      "Epoch 17/30\n",
      "15000/15000 [==============================] - 29s 2ms/sample - loss: 0.4014 - acc: 0.8528 - val_loss: 0.7048 - val_acc: 0.7527\n",
      "Epoch 18/30\n",
      "15000/15000 [==============================] - 29s 2ms/sample - loss: 0.3949 - acc: 0.8531 - val_loss: 0.7040 - val_acc: 0.7687\n",
      "Epoch 19/30\n",
      "15000/15000 [==============================] - 29s 2ms/sample - loss: 0.3851 - acc: 0.8574 - val_loss: 0.7231 - val_acc: 0.7618\n",
      "Epoch 20/30\n",
      "15000/15000 [==============================] - 29s 2ms/sample - loss: 0.3805 - acc: 0.8611 - val_loss: 0.7065 - val_acc: 0.7944\n",
      "Epoch 21/30\n",
      "15000/15000 [==============================] - 29s 2ms/sample - loss: 0.3747 - acc: 0.8630 - val_loss: 0.7011 - val_acc: 0.7960\n",
      "Epoch 22/30\n",
      "15000/15000 [==============================] - 29s 2ms/sample - loss: 0.3686 - acc: 0.8668 - val_loss: 0.7085 - val_acc: 0.7731\n",
      "Epoch 23/30\n",
      "15000/15000 [==============================] - 29s 2ms/sample - loss: 0.3662 - acc: 0.8657 - val_loss: 0.7130 - val_acc: 0.7657\n",
      "Epoch 24/30\n",
      "15000/15000 [==============================] - 29s 2ms/sample - loss: 0.3667 - acc: 0.8658 - val_loss: 0.6849 - val_acc: 0.8061\n",
      "Epoch 25/30\n",
      "15000/15000 [==============================] - 29s 2ms/sample - loss: 0.3577 - acc: 0.8717 - val_loss: 0.7029 - val_acc: 0.7995\n",
      "Epoch 26/30\n",
      "15000/15000 [==============================] - 29s 2ms/sample - loss: 0.3476 - acc: 0.8742 - val_loss: 0.6997 - val_acc: 0.8001\n",
      "Epoch 27/30\n",
      "15000/15000 [==============================] - 29s 2ms/sample - loss: 0.3439 - acc: 0.8811 - val_loss: 0.7097 - val_acc: 0.7997\n",
      "Epoch 28/30\n",
      "15000/15000 [==============================] - 29s 2ms/sample - loss: 0.3383 - acc: 0.8804 - val_loss: 0.7086 - val_acc: 0.8070\n",
      "Epoch 29/30\n",
      "15000/15000 [==============================] - 29s 2ms/sample - loss: 0.3430 - acc: 0.8757 - val_loss: 0.6853 - val_acc: 0.8087\n",
      "Epoch 30/30\n",
      "15000/15000 [==============================] - 29s 2ms/sample - loss: 0.3366 - acc: 0.8823 - val_loss: 0.7057 - val_acc: 0.8143\n",
      "Results:\n",
      "30000/30000 [==============================] - 24s 796us/sample - loss: 0.9104 - acc: 0.8523\n",
      "[0.9103911003907521, 0.8523]\n"
     ]
    },
    {
     "data": {
      "image/png": "[encoded data removed]",
      "text/plain": [
       "<Figure size 432x288 with 1 Axes>"
      ]
     },
     "metadata": {
      "needs_background": "light"
     },
     "output_type": "display_data"
    },
    {
     "name": "stdout",
     "output_type": "stream",
     "text": [
      "C: 0.01\n",
      "Train on 15000 samples, validate on 15000 samples\n",
      "Epoch 1/30\n",
      "15000/15000 [==============================] - 31s 2ms/sample - loss: 2.8288 - acc: 0.5051 - val_loss: 1.3495 - val_acc: 0.5705\n",
      "Epoch 2/30\n",
      "15000/15000 [==============================] - 28s 2ms/sample - loss: 1.1550 - acc: 0.5246 - val_loss: 1.0292 - val_acc: 0.5191\n",
      "Epoch 3/30\n",
      "15000/15000 [==============================] - 28s 2ms/sample - loss: 0.9954 - acc: 0.5381 - val_loss: 0.9530 - val_acc: 0.5133\n",
      "Epoch 4/30\n",
      "15000/15000 [==============================] - 28s 2ms/sample - loss: 0.9373 - acc: 0.5200 - val_loss: 0.9107 - val_acc: 0.5547\n",
      "Epoch 5/30\n",
      "15000/15000 [==============================] - 28s 2ms/sample - loss: 0.8944 - acc: 0.5441 - val_loss: 0.8838 - val_acc: 0.5633\n",
      "Epoch 6/30\n",
      "15000/15000 [==============================] - 28s 2ms/sample - loss: 0.8626 - acc: 0.5921 - val_loss: 0.8677 - val_acc: 0.5869\n",
      "Epoch 7/30\n",
      "15000/15000 [==============================] - 28s 2ms/sample - loss: 0.8354 - acc: 0.6415 - val_loss: 0.8490 - val_acc: 0.6853\n",
      "Epoch 8/30\n",
      "15000/15000 [==============================] - 28s 2ms/sample - loss: 0.8053 - acc: 0.7159 - val_loss: 0.8415 - val_acc: 0.6040\n",
      "Epoch 9/30\n",
      "15000/15000 [==============================] - 29s 2ms/sample - loss: 0.7617 - acc: 0.7285 - val_loss: 0.8030 - val_acc: 0.6910\n",
      "Epoch 10/30\n",
      "15000/15000 [==============================] - 29s 2ms/sample - loss: 0.7066 - acc: 0.7451 - val_loss: 0.8231 - val_acc: 0.6211\n",
      "Epoch 11/30\n",
      "15000/15000 [==============================] - 28s 2ms/sample - loss: 0.6637 - acc: 0.7512 - val_loss: 0.7858 - val_acc: 0.6997\n",
      "Epoch 12/30\n",
      "15000/15000 [==============================] - 28s 2ms/sample - loss: 0.6297 - acc: 0.7689 - val_loss: 0.7844 - val_acc: 0.7061\n",
      "Epoch 13/30\n",
      "15000/15000 [==============================] - 28s 2ms/sample - loss: 0.6005 - acc: 0.7788 - val_loss: 0.7987 - val_acc: 0.6984\n",
      "Epoch 14/30\n",
      "15000/15000 [==============================] - 30s 2ms/sample - loss: 0.5841 - acc: 0.7857 - val_loss: 0.7970 - val_acc: 0.7409\n",
      "Epoch 15/30\n",
      "15000/15000 [==============================] - 29s 2ms/sample - loss: 0.5671 - acc: 0.7891 - val_loss: 0.8068 - val_acc: 0.7151\n",
      "Epoch 16/30\n",
      "15000/15000 [==============================] - 29s 2ms/sample - loss: 0.5541 - acc: 0.7967 - val_loss: 0.8110 - val_acc: 0.7452\n",
      "Epoch 17/30\n",
      "15000/15000 [==============================] - 28s 2ms/sample - loss: 0.5394 - acc: 0.8014 - val_loss: 0.8275 - val_acc: 0.7253\n",
      "Epoch 18/30\n",
      "15000/15000 [==============================] - 28s 2ms/sample - loss: 0.5303 - acc: 0.8071 - val_loss: 0.8201 - val_acc: 0.7301\n",
      "Epoch 19/30\n",
      "15000/15000 [==============================] - 28s 2ms/sample - loss: 0.5218 - acc: 0.8102 - val_loss: 0.8073 - val_acc: 0.7279\n",
      "Epoch 20/30\n",
      "15000/15000 [==============================] - 28s 2ms/sample - loss: 0.5163 - acc: 0.8193 - val_loss: 0.8170 - val_acc: 0.7191\n",
      "Epoch 21/30\n",
      "15000/15000 [==============================] - 28s 2ms/sample - loss: 0.5094 - acc: 0.8192 - val_loss: 0.8593 - val_acc: 0.7463\n",
      "Epoch 22/30\n",
      "15000/15000 [==============================] - 28s 2ms/sample - loss: 0.4977 - acc: 0.8175 - val_loss: 0.8281 - val_acc: 0.7436\n",
      "Epoch 23/30\n",
      "15000/15000 [==============================] - 29s 2ms/sample - loss: 0.4874 - acc: 0.8261 - val_loss: 0.8466 - val_acc: 0.7379\n",
      "Epoch 24/30\n",
      "15000/15000 [==============================] - 29s 2ms/sample - loss: 0.4744 - acc: 0.8315 - val_loss: 0.8329 - val_acc: 0.7583\n",
      "Epoch 25/30\n",
      "15000/15000 [==============================] - 28s 2ms/sample - loss: 0.4701 - acc: 0.8345 - val_loss: 0.8471 - val_acc: 0.7688\n",
      "Epoch 26/30\n",
      "15000/15000 [==============================] - 28s 2ms/sample - loss: 0.4618 - acc: 0.8351 - val_loss: 0.8588 - val_acc: 0.8101\n",
      "Epoch 27/30\n",
      "15000/15000 [==============================] - 29s 2ms/sample - loss: 0.4599 - acc: 0.8323 - val_loss: 0.8299 - val_acc: 0.7398\n",
      "Epoch 28/30\n",
      "15000/15000 [==============================] - 29s 2ms/sample - loss: 0.4499 - acc: 0.8422 - val_loss: 0.8834 - val_acc: 0.7592\n",
      "Epoch 29/30\n",
      "15000/15000 [==============================] - 29s 2ms/sample - loss: 0.4471 - acc: 0.8455 - val_loss: 0.8508 - val_acc: 0.7375\n",
      "Epoch 30/30\n",
      "15000/15000 [==============================] - 29s 2ms/sample - loss: 0.4431 - acc: 0.8449 - val_loss: 0.8706 - val_acc: 0.7359\n",
      "Results:\n",
      "30000/30000 [==============================] - 23s 769us/sample - loss: 0.8898 - acc: 0.8826\n",
      "[0.8898430113871892, 0.8826]\n"
     ]
    },
    {
     "data": {
      "image/png": "[encoded data removed]",
      "text/plain": [
       "<Figure size 432x288 with 1 Axes>"
      ]
     },
     "metadata": {
      "needs_background": "light"
     },
     "output_type": "display_data"
    },
    {
     "name": "stdout",
     "output_type": "stream",
     "text": [
      "C: 0.1\n",
      "Train on 15000 samples, validate on 15000 samples\n",
      "Epoch 1/30\n",
      "15000/15000 [==============================] - 31s 2ms/sample - loss: 21.5064 - acc: 0.5136 - val_loss: 7.1085 - val_acc: 0.5097\n",
      "Epoch 2/30\n",
      "15000/15000 [==============================] - 29s 2ms/sample - loss: 5.2753 - acc: 0.5075 - val_loss: 3.8920 - val_acc: 0.5000\n",
      "Epoch 3/30\n",
      "15000/15000 [==============================] - 29s 2ms/sample - loss: 3.6346 - acc: 0.4999 - val_loss: 3.2140 - val_acc: 0.5000\n",
      "Epoch 4/30\n",
      "15000/15000 [==============================] - 29s 2ms/sample - loss: 3.0727 - acc: 0.5000 - val_loss: 2.8213 - val_acc: 0.5000\n",
      "Epoch 5/30\n",
      "15000/15000 [==============================] - 29s 2ms/sample - loss: 2.7348 - acc: 0.4999 - val_loss: 2.5528 - val_acc: 0.5000\n",
      "Epoch 6/30\n",
      "15000/15000 [==============================] - 29s 2ms/sample - loss: 2.5007 - acc: 0.5001 - val_loss: 2.3605 - val_acc: 0.5001\n",
      "Epoch 7/30\n",
      "15000/15000 [==============================] - 29s 2ms/sample - loss: 2.3231 - acc: 0.5000 - val_loss: 2.2031 - val_acc: 0.5000\n",
      "Epoch 8/30\n",
      "15000/15000 [==============================] - 29s 2ms/sample - loss: 2.1793 - acc: 0.4999 - val_loss: 2.0781 - val_acc: 0.4995\n",
      "Epoch 9/30\n",
      "15000/15000 [==============================] - 28s 2ms/sample - loss: 2.0621 - acc: 0.5001 - val_loss: 1.9731 - val_acc: 0.5000\n",
      "Epoch 10/30\n",
      "15000/15000 [==============================] - 29s 2ms/sample - loss: 1.9674 - acc: 0.5000 - val_loss: 1.9072 - val_acc: 0.5000\n",
      "Epoch 11/30\n",
      "15000/15000 [==============================] - 29s 2ms/sample - loss: 1.9018 - acc: 0.5000 - val_loss: 1.8198 - val_acc: 0.5000\n",
      "Epoch 12/30\n",
      "15000/15000 [==============================] - 29s 2ms/sample - loss: 1.8290 - acc: 0.4999 - val_loss: 1.7625 - val_acc: 0.5000\n",
      "Epoch 13/30\n",
      "15000/15000 [==============================] - 29s 2ms/sample - loss: 1.7695 - acc: 0.5000 - val_loss: 1.7103 - val_acc: 0.5000\n",
      "Epoch 14/30\n",
      "15000/15000 [==============================] - 29s 2ms/sample - loss: 1.7229 - acc: 0.5000 - val_loss: 1.6569 - val_acc: 0.5000\n",
      "Epoch 15/30\n",
      "15000/15000 [==============================] - 29s 2ms/sample - loss: 1.6708 - acc: 0.4999 - val_loss: 1.6209 - val_acc: 0.5000\n",
      "Epoch 16/30\n",
      "15000/15000 [==============================] - 29s 2ms/sample - loss: 1.6172 - acc: 0.5001 - val_loss: 1.5826 - val_acc: 0.5000\n",
      "Epoch 17/30\n",
      "15000/15000 [==============================] - 28s 2ms/sample - loss: 1.5749 - acc: 0.5000 - val_loss: 1.5498 - val_acc: 0.5000\n",
      "Epoch 18/30\n",
      "15000/15000 [==============================] - 28s 2ms/sample - loss: 1.5420 - acc: 0.5000 - val_loss: 1.5110 - val_acc: 0.5000\n",
      "Epoch 19/30\n",
      "15000/15000 [==============================] - 29s 2ms/sample - loss: 1.5071 - acc: 0.5001 - val_loss: 1.4848 - val_acc: 0.5000\n",
      "Epoch 20/30\n",
      "15000/15000 [==============================] - 29s 2ms/sample - loss: 1.4739 - acc: 0.5000 - val_loss: 1.4446 - val_acc: 0.5000\n",
      "Epoch 21/30\n",
      "15000/15000 [==============================] - 28s 2ms/sample - loss: 1.4314 - acc: 0.5000 - val_loss: 1.4110 - val_acc: 0.5000\n",
      "Epoch 22/30\n",
      "15000/15000 [==============================] - 28s 2ms/sample - loss: 1.4022 - acc: 0.5000 - val_loss: 1.3903 - val_acc: 0.5000\n",
      "Epoch 23/30\n",
      "15000/15000 [==============================] - 29s 2ms/sample - loss: 1.3817 - acc: 0.5000 - val_loss: 1.3673 - val_acc: 0.5000\n",
      "Epoch 24/30\n",
      "15000/15000 [==============================] - 29s 2ms/sample - loss: 1.3630 - acc: 0.5000 - val_loss: 1.3484 - val_acc: 0.5000\n",
      "Epoch 25/30\n",
      "15000/15000 [==============================] - 29s 2ms/sample - loss: 1.3409 - acc: 0.5000 - val_loss: 1.3273 - val_acc: 0.5000\n",
      "Epoch 26/30\n",
      "15000/15000 [==============================] - 29s 2ms/sample - loss: 1.3207 - acc: 0.5000 - val_loss: 1.3072 - val_acc: 0.5000\n",
      "Epoch 27/30\n",
      "15000/15000 [==============================] - 29s 2ms/sample - loss: 1.3001 - acc: 0.5000 - val_loss: 1.2913 - val_acc: 0.5001\n",
      "Epoch 28/30\n",
      "15000/15000 [==============================] - 29s 2ms/sample - loss: 1.2860 - acc: 0.4999 - val_loss: 1.2807 - val_acc: 0.5003\n",
      "Epoch 29/30\n",
      "15000/15000 [==============================] - 29s 2ms/sample - loss: 1.2751 - acc: 0.4995 - val_loss: 1.2634 - val_acc: 0.5004\n",
      "Epoch 30/30\n",
      "15000/15000 [==============================] - 29s 2ms/sample - loss: 1.2734 - acc: 0.5009 - val_loss: 1.2677 - val_acc: 0.5011\n",
      "Results:\n",
      "30000/30000 [==============================] - 23s 775us/sample - loss: 1.1761 - acc: 0.9964\n",
      "[1.1760908807754518, 0.9964333]\n"
     ]
    },
    {
     "data": {
      "image/png": "[encoded data removed]",
      "text/plain": [
       "<Figure size 432x288 with 1 Axes>"
      ]
     },
     "metadata": {
      "needs_background": "light"
     },
     "output_type": "display_data"
    }
   ],
   "source": [
    "print(\"Doing L2 Regularization\")\n",
    "num_features = len(bad_words)\n",
    "cvals = [0.001, 0.01, 0.1]\n",
    "for c in cvals:\n",
    "    print(\"C:\", c)\n",
    "    model_mm_l2 = keras.Sequential()\n",
    "    model_mm_l2.add(keras.layers.Dense(units=num_features, input_shape=(num_features,)))\n",
    "    model_mm_l2.add(keras.layers.Dense(units=1500, activation=tf.nn.sigmoid, \n",
    "                                    activity_regularizer=tf.keras.regularizers.l2(l=c)))\n",
    "    model_mm_l2.add(keras.layers.Dense(units=1500, activation=tf.nn.sigmoid, \n",
    "                                    activity_regularizer=tf.keras.regularizers.l2(l=c)))\n",
    "    model_mm_l2.add(keras.layers.Dense(units=1, activation=tf.nn.sigmoid, \n",
    "                                    activity_regularizer=tf.keras.regularizers.l2(l=c)))\n",
    "                 \n",
    "    model_mm_l2.compile(optimizer='adam',\n",
    "                     loss='binary_crossentropy',\n",
    "                     metrics=['acc'])\n",
    "                 \n",
    "    train_mm_l2 = model_mm_l2.fit(X_tr_mm,\n",
    "                               Y_train,\n",
    "                               epochs=30,\n",
    "                               batch_size=500,\n",
    "                               validation_data=(X_va_mm, Y_val),\n",
    "                               verbose=1)\n",
    "    \n",
    "    print(\"Results:\")\n",
    "    results_mm_l2 = model_mm_l2.evaluate(X_te_mm, Y_test)\n",
    "    print(results_mm_l2)\n",
    "                 \n",
    "    train_mm_l2_hist = train_mm_l2.history\n",
    "    train_mm_l2_acc = train_mm_l2_hist['acc']\n",
    "    val_mm_l2_acc = train_mm_l2_hist['val_acc']\n",
    "    plt.figure()   \n",
    "    num_epochs_mm_l2 = range(1, len(train_mm_l2_acc) + 1)\n",
    "    plt.plot(num_epochs_mm_l2, train_mm_l2_acc, 'b.-', label='Training acc')\n",
    "    plt.plot(num_epochs_mm_l2, val_mm_l2_acc, 'r.-', label='Validation acc')\n",
    "    plt.title('Training and validation accuracy, min-max, L2 reg')\n",
    "    plt.xlabel('Epochs')\n",
    "    plt.ylabel('Accuracy')\n",
    "    plt.legend()\n",
    "\n",
    "    plt.show()"
   ]
  },
  {
   "cell_type": "code",
   "execution_count": null,
   "metadata": {},
   "outputs": [],
   "source": []
  }
 ],
 "metadata": {
  "kernelspec": {
   "display_name": "Python 3",
   "language": "python",
   "name": "python3"
  },
  "language_info": {
   "codemirror_mode": {
    "name": "ipython",
    "version": 3
   },
   "file_extension": ".py",
   "mimetype": "text/x-python",
   "name": "python",
   "nbconvert_exporter": "python",
   "pygments_lexer": "ipython3",
   "version": "3.7.1"
  }
 },
 "nbformat": 4,
 "nbformat_minor": 2
}
