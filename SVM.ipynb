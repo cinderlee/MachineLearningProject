{
 "cells": [
  {
   "cell_type": "code",
   "execution_count": 1,
   "metadata": {},
   "outputs": [],
   "source": [
    "import sklearn\n",
    "from sklearn import svm\n",
    "import numpy as np\n",
    "from numpy import ma\n",
    "import pandas as pd\n",
    "from sklearn.feature_extraction.text import CountVectorizer\n",
    "import matplotlib.pyplot as plt\n",
    "%matplotlib inline"
   ]
  },
  {
   "cell_type": "code",
   "execution_count": 2,
   "metadata": {},
   "outputs": [
    {
     "name": "stderr",
     "output_type": "stream",
     "text": [
      "/usr/local/lib/python3.7/site-packages/IPython/core/interactiveshell.py:3020: DtypeWarning: Columns (2,3,4,5,6,7) have mixed types. Specify dtype option on import or set low_memory=False.\n",
      "  interactivity=interactivity, compiler=compiler, result=result)\n"
     ]
    }
   ],
   "source": [
    "names =['id', 'comment_text', 'toxic', 'severe_toxic', 'obscene', 'threat', 'insult', 'identity_hate']\n",
    "df = pd.read_csv('train.csv',header=None,sep=\",\",names=names, encoding = \"ISO-8859-1\")\n",
    "\n",
    "df['toxic_score'] = df[['toxic','severe_toxic','obscene', 'threat', 'insult', 'identity_hate']].max(axis=1)\n",
    "#drop unnecessary columns\n",
    "df = df.drop(['id', 'toxic','severe_toxic','obscene', 'threat', 'insult', 'identity_hate'], axis=1)\n",
    "#drop first row\n",
    "df.drop(df.index[:1], inplace=True)"
   ]
  },
  {
   "cell_type": "code",
   "execution_count": 3,
   "metadata": {},
   "outputs": [],
   "source": [
    "bad_words = []\n",
    "negative_file = open(\"negative-words.txt\", \"r\")\n",
    "for line in negative_file:\n",
    "    bad_words.append(line.strip(\"\\n\"))\n",
    "negative_file.close()\n",
    "profanity_file = open(\"profanity-words.txt\", \"r\")\n",
    "for line in profanity_file:\n",
    "    if (line.strip(\"\\n\") not in bad_words):\n",
    "        bad_words.append(line.strip(\"\\n\"))\n",
    "profanity_file.close()"
   ]
  },
  {
   "cell_type": "code",
   "execution_count": 4,
   "metadata": {},
   "outputs": [
    {
     "name": "stdout",
     "output_type": "stream",
     "text": [
      "[[0 0 0 ... 0 0 0]\n",
      " [0 0 0 ... 0 0 0]\n",
      " [0 0 0 ... 0 0 0]\n",
      " ...\n",
      " [0 0 0 ... 0 0 0]\n",
      " [0 0 0 ... 0 0 0]\n",
      " [0 0 0 ... 0 0 0]] [[0 0 0 ... 0 0 0]\n",
      " [0 0 0 ... 0 0 0]\n",
      " [0 0 0 ... 0 0 0]\n",
      " ...\n",
      " [0 0 0 ... 0 0 0]\n",
      " [0 0 0 ... 0 0 0]\n",
      " [0 0 0 ... 0 0 0]]\n"
     ]
    }
   ],
   "source": [
    "data = df.values\n",
    "\n",
    "X = data[:,0].reshape((159571,1))\n",
    "Y = data[:,1].reshape((159571,1))\n",
    "\n",
    "toxic_count = 0\n",
    "not_toxic_count = 0\n",
    "val_toxic = 0\n",
    "val_not_toxic = 0\n",
    "\n",
    "X_tr = []\n",
    "Y_tr = []\n",
    "X_val = []\n",
    "Y_val = []\n",
    "\n",
    "data_size = 3000\n",
    "\n",
    "for index in range(0,159571):\n",
    "    if ((int(Y[index][0]) == 1 and toxic_count < 0.5 * data_size) or \n",
    "        (int(Y[index][0]) == 0 and not_toxic_count < 0.5 * data_size)):\n",
    "        Y_tr.append(int(Y[index][0]))\n",
    "        X_tr.append(X[index][0])\n",
    "        if (int(Y[index][0]) == 1):\n",
    "            toxic_count += 1\n",
    "        else:\n",
    "            not_toxic_count += 1\n",
    "    if toxic_count == 0.5 * data_size and not_toxic_count == 0.5 * data_size:\n",
    "        if ((int(Y[index][0]) == 1 and val_toxic < 0.5 * data_size) or \n",
    "            (int(Y[index][0]) == 0 and val_not_toxic < 0.5 * data_size)):\n",
    "            Y_val.append(int(Y[index][0]))\n",
    "            X_val.append(X[index][0])\n",
    "            if (int(Y[index][0]) == 1):\n",
    "                val_toxic += 1\n",
    "            else:\n",
    "                val_not_toxic += 1\n",
    "        if val_toxic + val_not_toxic == data_size:\n",
    "            break\n",
    "\n",
    "# X_tr = np.array(X_tr).reshape((15000, 1))\n",
    "Y_train = np.array(Y_tr).reshape((data_size, 1))\n",
    "Y_test = np.array(Y_val).reshape((data_size, 1))\n",
    "\n",
    "\n",
    "cv = sklearn.feature_extraction.text.CountVectorizer(vocabulary=bad_words)\n",
    "X_train = cv.fit_transform(X_tr).toarray()\n",
    "X_test = cv.fit_transform(X_val).toarray()\n",
    "\n",
    "print(X_train, X_test)"
   ]
  },
  {
   "cell_type": "markdown",
   "metadata": {},
   "source": [
    "# SVM Code"
   ]
  },
  {
   "cell_type": "code",
   "execution_count": 5,
   "metadata": {},
   "outputs": [],
   "source": [
    "def svm_machine_run(c, kernel_type):\n",
    "    svc = None\n",
    "    if kernel_type == \"linear\":\n",
    "        svc = svm.SVC(probability=False, kernel=kernel_type, C=c)\n",
    "    else:\n",
    "        svc = svm.SVC(probability=False, kernel=kernel_type, C=c, gamma='auto')\n",
    "    \n",
    "    svc.fit(X_train, Y_train.ravel())\n",
    "    \n",
    "    Yhat_train = svc.predict(X_train)\n",
    "    acc_train = np.mean(Yhat_train == Y_train.ravel())\n",
    "    \n",
    "    Yhat_test = svc.predict(X_test)\n",
    "    acc_test = np.mean(Yhat_test == Y_test.ravel())\n",
    "    \n",
    "    return acc_train, acc_test"
   ]
  },
  {
   "cell_type": "code",
   "execution_count": 6,
   "metadata": {},
   "outputs": [
    {
     "name": "stdout",
     "output_type": "stream",
     "text": [
      "Linear SVM\n",
      "Training accuracy: 0.9153333333333333\n",
      "Test accuracy: 0.829\n",
      "RBF SVM\n",
      "Training accuracy: 0.5103333333333333\n",
      "Test accuracy: 0.5096666666666667\n",
      "Polynomial SVM\n",
      "Training accuracy: 0.506\n",
      "Test accuracy: 0.5013333333333333\n",
      "Sigmoid SVM\n",
      "Training accuracy: 0.5066666666666667\n",
      "Test accuracy: 0.506\n"
     ]
    }
   ],
   "source": [
    "c = 1\n",
    "# linear kernel\n",
    "acc_linear_train, acc_linear_test = svm_machine_run(c, 'linear')\n",
    "# rbf kernel\n",
    "acc_rbf_train, acc_rbf_test = svm_machine_run(c, 'rbf')\n",
    "# poly kernel\n",
    "acc_poly_train, acc_poly_test = svm_machine_run(c, 'poly')\n",
    "# sigmoid kernel\n",
    "acc_sigmoid_train, acc_sigmoid_test = svm_machine_run(c, 'sigmoid')\n",
    "\n",
    "print(\"Linear SVM\")\n",
    "print(\"Training accuracy:\", acc_linear_train)\n",
    "print(\"Test accuracy:\", acc_linear_test)\n",
    "print(\"RBF SVM\")\n",
    "print(\"Training accuracy:\", acc_rbf_train)\n",
    "print(\"Test accuracy:\", acc_rbf_test)\n",
    "print(\"Polynomial SVM\")\n",
    "print(\"Training accuracy:\", acc_poly_train)\n",
    "print(\"Test accuracy:\", acc_poly_test)\n",
    "print(\"Sigmoid SVM\")\n",
    "print(\"Training accuracy:\", acc_sigmoid_train)\n",
    "print(\"Test accuracy:\", acc_sigmoid_test)"
   ]
  },
  {
   "cell_type": "code",
   "execution_count": 9,
   "metadata": {},
   "outputs": [
    {
     "name": "stdout",
     "output_type": "stream",
     "text": [
      "LINEAR Kernel SVM:\n",
      "C: 0.0001 - Training accuracy: 0.5063333333333333\n",
      "C: 0.0001 - Testing accuracy: 0.504\n",
      "\n",
      "C: 0.001 - Training accuracy: 0.521\n",
      "C: 0.001 - Testing accuracy: 0.519\n",
      "\n",
      "C: 0.01 - Training accuracy: 0.6543333333333333\n",
      "C: 0.01 - Testing accuracy: 0.642\n",
      "\n",
      "C: 0.1 - Training accuracy: 0.814\n",
      "C: 0.1 - Testing accuracy: 0.7773333333333333\n",
      "\n",
      "C: 1 - Training accuracy: 0.9153333333333333\n",
      "C: 1 - Testing accuracy: 0.829\n",
      "\n",
      "C: 10 - Training accuracy: 0.933\n",
      "C: 10 - Testing accuracy: 0.8226666666666667\n",
      "\n",
      "C: 100 - Training accuracy: 0.9333333333333333\n",
      "C: 100 - Testing accuracy: 0.8193333333333334\n",
      "\n",
      "\n",
      "RBF Kernel SVM:\n",
      "C: 0.0001 - Training accuracy: 0.5073333333333333\n",
      "C: 0.0001 - Testing accuracy: 0.506\n",
      "\n",
      "C: 0.001 - Training accuracy: 0.5073333333333333\n",
      "C: 0.001 - Testing accuracy: 0.506\n",
      "\n",
      "C: 0.01 - Training accuracy: 0.5073333333333333\n",
      "C: 0.01 - Testing accuracy: 0.506\n",
      "\n",
      "C: 0.1 - Training accuracy: 0.5073333333333333\n",
      "C: 0.1 - Testing accuracy: 0.5066666666666667\n",
      "\n",
      "C: 1 - Training accuracy: 0.5103333333333333\n",
      "C: 1 - Testing accuracy: 0.5096666666666667\n",
      "\n",
      "C: 10 - Training accuracy: 0.585\n",
      "C: 10 - Testing accuracy: 0.5713333333333334\n",
      "\n",
      "C: 100 - Training accuracy: 0.7466666666666667\n",
      "C: 100 - Testing accuracy: 0.7263333333333334\n",
      "\n",
      "\n",
      "POLY Kernel SVM:\n",
      "C: 0.0001 - Training accuracy: 0.502\n",
      "C: 0.0001 - Testing accuracy: 0.5003333333333333\n",
      "\n",
      "C: 0.001 - Training accuracy: 0.5033333333333333\n",
      "C: 0.001 - Testing accuracy: 0.5006666666666667\n",
      "\n",
      "C: 0.01 - Training accuracy: 0.504\n",
      "C: 0.01 - Testing accuracy: 0.5013333333333333\n",
      "\n",
      "C: 0.1 - Training accuracy: 0.5056666666666667\n",
      "C: 0.1 - Testing accuracy: 0.5013333333333333\n",
      "\n",
      "C: 1 - Training accuracy: 0.506\n",
      "C: 1 - Testing accuracy: 0.5013333333333333\n",
      "\n",
      "C: 10 - Training accuracy: 0.5076666666666667\n",
      "C: 10 - Testing accuracy: 0.5026666666666667\n",
      "\n",
      "C: 100 - Training accuracy: 0.509\n",
      "C: 100 - Testing accuracy: 0.504\n",
      "\n",
      "\n",
      "SIGMOID Kernel SVM:\n",
      "C: 0.0001 - Training accuracy: 0.5016666666666667\n",
      "C: 0.0001 - Testing accuracy: 0.5003333333333333\n",
      "\n",
      "C: 0.001 - Training accuracy: 0.5016666666666667\n",
      "C: 0.001 - Testing accuracy: 0.5003333333333333\n",
      "\n",
      "C: 0.01 - Training accuracy: 0.5016666666666667\n",
      "C: 0.01 - Testing accuracy: 0.5003333333333333\n",
      "\n",
      "C: 0.1 - Training accuracy: 0.502\n",
      "C: 0.1 - Testing accuracy: 0.5003333333333333\n",
      "\n",
      "C: 1 - Training accuracy: 0.5066666666666667\n",
      "C: 1 - Testing accuracy: 0.506\n",
      "\n",
      "C: 10 - Training accuracy: 0.5453333333333333\n",
      "C: 10 - Testing accuracy: 0.544\n",
      "\n",
      "C: 100 - Training accuracy: 0.707\n",
      "C: 100 - Testing accuracy: 0.6853333333333333\n",
      "\n",
      "\n"
     ]
    },
    {
     "data": {
      "image/png": "[encoded data removed]",
      "text/plain": [
       "<Figure size 432x288 with 1 Axes>"
      ]
     },
     "metadata": {
      "needs_background": "light"
     },
     "output_type": "display_data"
    },
    {
     "data": {
      "image/png": "[encoded data removed]",
      "text/plain": [
       "<Figure size 432x288 with 1 Axes>"
      ]
     },
     "metadata": {
      "needs_background": "light"
     },
     "output_type": "display_data"
    },
    {
     "data": {
      "image/png": "[encoded data removed]",
      "text/plain": [
       "<Figure size 432x288 with 1 Axes>"
      ]
     },
     "metadata": {
      "needs_background": "light"
     },
     "output_type": "display_data"
    },
    {
     "data": {
      "image/png": "[encoded data removed]",
      "text/plain": [
       "<Figure size 432x288 with 1 Axes>"
      ]
     },
     "metadata": {
      "needs_background": "light"
     },
     "output_type": "display_data"
    }
   ],
   "source": [
    "c_values = [0.0001, 0.001, 0.01, 0.1, 1, 10, 100]\n",
    "kernel_types = ['linear', 'rbf', 'poly', 'sigmoid']\n",
    "for kern in kernel_types:\n",
    "    print(kern.upper() + \" Kernel SVM:\")\n",
    "    acc_training = []\n",
    "    acc_testing = []\n",
    "    for val in c_values:\n",
    "        acc_tr, acc_te = svm_machine_run(val, kern)\n",
    "        acc_training.append(acc_tr)\n",
    "        acc_testing.append(acc_te)\n",
    "        print(\"C:\", val, '-', 'Training accuracy:', acc_tr)\n",
    "        print(\"C:\", val, '-', 'Testing accuracy:', acc_te)\n",
    "        print()\n",
    "    plt.figure()\n",
    "    plt.plot(c_values, acc_training, 'r.-') \n",
    "    plt.plot(c_values, acc_testing,'b.-') \n",
    "    plt.grid()\n",
    "    plt.legend(['Training Accuracy', 'Test Accuracy'], loc='lower right')\n",
    "    print()"
   ]
  },
  {
   "cell_type": "code",
   "execution_count": null,
   "metadata": {},
   "outputs": [],
   "source": []
  }
 ],
 "metadata": {
  "kernelspec": {
   "display_name": "Python 3",
   "language": "python",
   "name": "python3"
  },
  "language_info": {
   "codemirror_mode": {
    "name": "ipython",
    "version": 3
   },
   "file_extension": ".py",
   "mimetype": "text/x-python",
   "name": "python",
   "nbconvert_exporter": "python",
   "pygments_lexer": "ipython3",
   "version": "3.7.1"
  }
 },
 "nbformat": 4,
 "nbformat_minor": 2
}
