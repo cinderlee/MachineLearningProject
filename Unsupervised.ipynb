{
 "cells": [
  {
   "cell_type": "code",
   "execution_count": 1,
   "metadata": {},
   "outputs": [],
   "source": [
    "import sklearn\n",
    "import numpy as np\n",
    "import pandas as pd\n",
    "from sklearn.feature_extraction.text import CountVectorizer\n",
    "import matplotlib.pyplot as plt\n",
    "%matplotlib inline"
   ]
  },
  {
   "cell_type": "code",
   "execution_count": 2,
   "metadata": {},
   "outputs": [],
   "source": [
    "names_test =['id', 'comment_text']\n",
    "df_test = pd.read_csv('test.csv',header=None,sep=\",\",names=names_test, encoding = \"ISO-8859-1\")"
   ]
  },
  {
   "cell_type": "code",
   "execution_count": 3,
   "metadata": {},
   "outputs": [],
   "source": [
    "df_test = df_test.drop(['id'], axis=1)\n",
    "df_test.drop(df_test.index[:1], inplace=True)"
   ]
  },
  {
   "cell_type": "code",
   "execution_count": 4,
   "metadata": {},
   "outputs": [],
   "source": [
    "bad_words = []\n",
    "negative_file = open(\"negative-words.txt\", \"r\")\n",
    "for line in negative_file:\n",
    "    bad_words.append(line.strip(\"\\n\"))\n",
    "negative_file.close()\n",
    "profanity_file = open(\"profanity-words.txt\", \"r\")\n",
    "profanity = []\n",
    "for line in profanity_file:\n",
    "    if (line.strip(\"\\n\") not in bad_words):\n",
    "        bad_words.append(line.strip(\"\\n\"))\n",
    "    profanity.append(line.strip(\"\\n\"))\n",
    "profanity_file.close()\n",
    "# print(bad_words)"
   ]
  },
  {
   "cell_type": "code",
   "execution_count": 5,
   "metadata": {},
   "outputs": [],
   "source": [
    "data_test = df_test.values\n",
    "X_test = []\n",
    "for index in range(0, 15000):\n",
    "    X_test.append(data_test[index][0])\n",
    "cv = sklearn.feature_extraction.text.CountVectorizer(vocabulary=bad_words)\n",
    "X_test_features = cv.fit_transform(X_test).toarray()"
   ]
  },
  {
   "cell_type": "code",
   "execution_count": 6,
   "metadata": {},
   "outputs": [
    {
     "data": {
      "text/plain": [
       "2-faced            0\n",
       "2-faces            0\n",
       "abnormal           2\n",
       "abolish            0\n",
       "abominable         0\n",
       "abominably         0\n",
       "abominate          0\n",
       "abomination        2\n",
       "abort              0\n",
       "aborted            0\n",
       "aborts             0\n",
       "abrade             0\n",
       "abrasive           1\n",
       "abrupt             2\n",
       "abruptly           1\n",
       "abscond            0\n",
       "absence           33\n",
       "absent-minded      0\n",
       "absentee           0\n",
       "absurd            23\n",
       "absurdity          4\n",
       "absurdly           5\n",
       "absurdness         0\n",
       "abuse             67\n",
       "abused             8\n",
       "abuses             4\n",
       "abusive           25\n",
       "abysmal            0\n",
       "abysmally          0\n",
       "abyss              0\n",
       "                ... \n",
       "titt               0\n",
       "tittie5            0\n",
       "tittiefucker       0\n",
       "titties          626\n",
       "tittyfuck          0\n",
       "tittywank          0\n",
       "titwank            0\n",
       "tosser             1\n",
       "turd               4\n",
       "tw4t               0\n",
       "twat              66\n",
       "twathead           0\n",
       "twatty             0\n",
       "twunt              0\n",
       "twunter            0\n",
       "v14gra             0\n",
       "v1gra              0\n",
       "vagina           753\n",
       "viagra             0\n",
       "vulva              5\n",
       "w00se              0\n",
       "wang               5\n",
       "wank              18\n",
       "wanker             9\n",
       "wanky              0\n",
       "whoar              0\n",
       "willies            1\n",
       "willy              7\n",
       "xrated             0\n",
       "xxx               13\n",
       "Length: 5213, dtype: int64"
      ]
     },
     "execution_count": 6,
     "metadata": {},
     "output_type": "execute_result"
    }
   ],
   "source": [
    "df_test_unsupervised = pd.DataFrame(X_test_features, columns=bad_words)\n",
    "df_test_unsupervised.sum()"
   ]
  },
  {
   "cell_type": "code",
   "execution_count": 7,
   "metadata": {
    "scrolled": true
   },
   "outputs": [],
   "source": [
    "sums = df_test_unsupervised.sum().tolist()\n",
    "f = open(\"sums.csv\", \"w\")\n",
    "count = 0\n",
    "for i in sums:\n",
    "    f.write(bad_words[count] + \",\" + str(i) + \"\\n\")\n",
    "    count += 1\n",
    "f.close()\n",
    "count = 0\n",
    "sums_not_zero = []\n",
    "words_not_zero = []\n",
    "for i in sums:\n",
    "    if i > 0:\n",
    "        sums_not_zero.append(i)\n",
    "        words_not_zero.append(bad_words[count])\n",
    "    count += 1\n",
    "#print(sums_not_zero)\n",
    "#print(words_not_zero)"
   ]
  },
  {
   "cell_type": "code",
   "execution_count": 8,
   "metadata": {},
   "outputs": [],
   "source": [
    "words_sums_not_zero = {}\n",
    "for i in range(len(sums_not_zero)):\n",
    "    if (sums_not_zero[i] not in words_sums_not_zero):\n",
    "        words_sums_not_zero[sums_not_zero[i]] = [words_not_zero[i]]\n",
    "    else:\n",
    "        words_sums_not_zero[sums_not_zero[i]].append(words_not_zero[i])\n",
    "#print(words_sums_not_zero)"
   ]
  },
  {
   "cell_type": "code",
   "execution_count": 9,
   "metadata": {},
   "outputs": [
    {
     "name": "stdout",
     "output_type": "stream",
     "text": [
      "['abrasive', 'abruptly', 'aches', 'acrimonious', 'addict', 'addicted', 'adversary', 'afflict', 'affliction', 'aggravate']\n",
      "[1, 1, 1, 1, 1, 1, 1, 1, 1, 1]\n",
      "['fuck', 'sex', 'poop', 'suck', 'penis', 'boob', 'vagina', 'niggaz', 'fucking', 'titties']\n",
      "[2865, 1408, 1406, 1275, 1051, 1000, 753, 717, 632, 626]\n",
      "['f***', 's**', 'p***', 'suck', 'p****', 'b***', 'v*****', 'n*****', 'f******', 't******']\n"
     ]
    }
   ],
   "source": [
    "top_ten_least_frequent_words = []\n",
    "top_ten_least_frequent_sums = []\n",
    "count = 0\n",
    "i = 1\n",
    "while count < 10:\n",
    "    if i in words_sums_not_zero:\n",
    "        for j in words_sums_not_zero[i]:\n",
    "            if count == 10 :\n",
    "                break\n",
    "            top_ten_least_frequent_words.append(j)\n",
    "            top_ten_least_frequent_sums.append(i)\n",
    "            count += 1\n",
    "    i += 1\n",
    "print(top_ten_least_frequent_words)\n",
    "print(top_ten_least_frequent_sums)\n",
    "\n",
    "\n",
    "top_ten_most_frequent_words = []\n",
    "top_ten_most_frequent_sums = []\n",
    "count = 0\n",
    "i = 3000\n",
    "while count < 10:\n",
    "    if i in words_sums_not_zero:\n",
    "        for j in words_sums_not_zero[i]:\n",
    "            if count == 10 :\n",
    "                break\n",
    "            top_ten_most_frequent_words.append(j)\n",
    "            top_ten_most_frequent_sums.append(i)\n",
    "            count += 1\n",
    "    i -= 1\n",
    "print(top_ten_most_frequent_words)\n",
    "print(top_ten_most_frequent_sums)\n",
    "\n",
    "#censor word in if profanity list\n",
    "index = 0\n",
    "for i in top_ten_most_frequent_words:\n",
    "    if i in profanity:\n",
    "        mask = \"*\" * (len(i) - 1)\n",
    "        top_ten_most_frequent_words[index] = top_ten_most_frequent_words[index][:1] + mask\n",
    "    index += 1\n",
    "print(top_ten_most_frequent_words)"
   ]
  },
  {
   "cell_type": "code",
   "execution_count": 10,
   "metadata": {},
   "outputs": [
    {
     "name": "stdout",
     "output_type": "stream",
     "text": [
      "Top Ten Most Frequently Used Word\n"
     ]
    },
    {
     "data": {
      "text/html": [
       "<div>\n",
       "<style scoped>\n",
       "    .dataframe tbody tr th:only-of-type {\n",
       "        vertical-align: middle;\n",
       "    }\n",
       "\n",
       "    .dataframe tbody tr th {\n",
       "        vertical-align: top;\n",
       "    }\n",
       "\n",
       "    .dataframe thead th {\n",
       "        text-align: right;\n",
       "    }\n",
       "</style>\n",
       "<table border=\"1\" class=\"dataframe\">\n",
       "  <thead>\n",
       "    <tr style=\"text-align: right;\">\n",
       "      <th></th>\n",
       "      <th>Word</th>\n",
       "      <th>Frequency</th>\n",
       "    </tr>\n",
       "  </thead>\n",
       "  <tbody>\n",
       "    <tr>\n",
       "      <th>0</th>\n",
       "      <td>f***</td>\n",
       "      <td>2865</td>\n",
       "    </tr>\n",
       "    <tr>\n",
       "      <th>1</th>\n",
       "      <td>s**</td>\n",
       "      <td>1408</td>\n",
       "    </tr>\n",
       "    <tr>\n",
       "      <th>2</th>\n",
       "      <td>p***</td>\n",
       "      <td>1406</td>\n",
       "    </tr>\n",
       "    <tr>\n",
       "      <th>3</th>\n",
       "      <td>suck</td>\n",
       "      <td>1275</td>\n",
       "    </tr>\n",
       "    <tr>\n",
       "      <th>4</th>\n",
       "      <td>p****</td>\n",
       "      <td>1051</td>\n",
       "    </tr>\n",
       "    <tr>\n",
       "      <th>5</th>\n",
       "      <td>b***</td>\n",
       "      <td>1000</td>\n",
       "    </tr>\n",
       "    <tr>\n",
       "      <th>6</th>\n",
       "      <td>v*****</td>\n",
       "      <td>753</td>\n",
       "    </tr>\n",
       "    <tr>\n",
       "      <th>7</th>\n",
       "      <td>n*****</td>\n",
       "      <td>717</td>\n",
       "    </tr>\n",
       "    <tr>\n",
       "      <th>8</th>\n",
       "      <td>f******</td>\n",
       "      <td>632</td>\n",
       "    </tr>\n",
       "    <tr>\n",
       "      <th>9</th>\n",
       "      <td>t******</td>\n",
       "      <td>626</td>\n",
       "    </tr>\n",
       "  </tbody>\n",
       "</table>\n",
       "</div>"
      ],
      "text/plain": [
       "      Word  Frequency\n",
       "0     f***       2865\n",
       "1      s**       1408\n",
       "2     p***       1406\n",
       "3     suck       1275\n",
       "4    p****       1051\n",
       "5     b***       1000\n",
       "6   v*****        753\n",
       "7   n*****        717\n",
       "8  f******        632\n",
       "9  t******        626"
      ]
     },
     "execution_count": 10,
     "metadata": {},
     "output_type": "execute_result"
    }
   ],
   "source": [
    "print(\"Top Ten Most Frequently Used Word\")\n",
    "data = {\"Word\": top_ten_most_frequent_words, \"Frequency\": top_ten_most_frequent_sums}\n",
    "df_top_ten_most_frequent_words = pd.DataFrame(data)\n",
    "df_top_ten_most_frequent_words.head(10)"
   ]
  },
  {
   "cell_type": "code",
   "execution_count": 11,
   "metadata": {},
   "outputs": [
    {
     "data": {
      "text/plain": [
       "Text(0.5, 1.0, 'Frequency vs Word')"
      ]
     },
     "execution_count": 11,
     "metadata": {},
     "output_type": "execute_result"
    },
    {
     "data": {
      "image/png": "[encoded data removed]",
      "text/plain": [
       "<Figure size 432x288 with 1 Axes>"
      ]
     },
     "metadata": {
      "needs_background": "light"
     },
     "output_type": "display_data"
    },
    {
     "data": {
      "image/png": "[encoded data removed]",
      "text/plain": [
       "<Figure size 432x288 with 1 Axes>"
      ]
     },
     "metadata": {
      "needs_background": "light"
     },
     "output_type": "display_data"
    }
   ],
   "source": [
    "plt.figure()\n",
    "plt.bar(top_ten_most_frequent_words[:5], top_ten_most_frequent_sums[:5])\n",
    "plt.xlabel(\"Word\")\n",
    "plt.ylabel(\"Frequency\")\n",
    "plt.title(\"Frequency vs Word\")\n",
    "plt.figure()\n",
    "plt.bar(top_ten_most_frequent_words[5:10], top_ten_most_frequent_sums[5:10])\n",
    "plt.xlabel(\"Word\")\n",
    "plt.ylabel(\"Frequency\")\n",
    "plt.title(\"Frequency vs Word\")"
   ]
  },
  {
   "cell_type": "code",
   "execution_count": 12,
   "metadata": {},
   "outputs": [
    {
     "name": "stdout",
     "output_type": "stream",
     "text": [
      "Top Ten Least Frequently Used Word\n"
     ]
    },
    {
     "data": {
      "text/html": [
       "<div>\n",
       "<style scoped>\n",
       "    .dataframe tbody tr th:only-of-type {\n",
       "        vertical-align: middle;\n",
       "    }\n",
       "\n",
       "    .dataframe tbody tr th {\n",
       "        vertical-align: top;\n",
       "    }\n",
       "\n",
       "    .dataframe thead th {\n",
       "        text-align: right;\n",
       "    }\n",
       "</style>\n",
       "<table border=\"1\" class=\"dataframe\">\n",
       "  <thead>\n",
       "    <tr style=\"text-align: right;\">\n",
       "      <th></th>\n",
       "      <th>Word</th>\n",
       "      <th>Frequency</th>\n",
       "    </tr>\n",
       "  </thead>\n",
       "  <tbody>\n",
       "    <tr>\n",
       "      <th>0</th>\n",
       "      <td>abrasive</td>\n",
       "      <td>1</td>\n",
       "    </tr>\n",
       "    <tr>\n",
       "      <th>1</th>\n",
       "      <td>abruptly</td>\n",
       "      <td>1</td>\n",
       "    </tr>\n",
       "    <tr>\n",
       "      <th>2</th>\n",
       "      <td>aches</td>\n",
       "      <td>1</td>\n",
       "    </tr>\n",
       "    <tr>\n",
       "      <th>3</th>\n",
       "      <td>acrimonious</td>\n",
       "      <td>1</td>\n",
       "    </tr>\n",
       "    <tr>\n",
       "      <th>4</th>\n",
       "      <td>addict</td>\n",
       "      <td>1</td>\n",
       "    </tr>\n",
       "    <tr>\n",
       "      <th>5</th>\n",
       "      <td>addicted</td>\n",
       "      <td>1</td>\n",
       "    </tr>\n",
       "    <tr>\n",
       "      <th>6</th>\n",
       "      <td>adversary</td>\n",
       "      <td>1</td>\n",
       "    </tr>\n",
       "    <tr>\n",
       "      <th>7</th>\n",
       "      <td>afflict</td>\n",
       "      <td>1</td>\n",
       "    </tr>\n",
       "    <tr>\n",
       "      <th>8</th>\n",
       "      <td>affliction</td>\n",
       "      <td>1</td>\n",
       "    </tr>\n",
       "    <tr>\n",
       "      <th>9</th>\n",
       "      <td>aggravate</td>\n",
       "      <td>1</td>\n",
       "    </tr>\n",
       "  </tbody>\n",
       "</table>\n",
       "</div>"
      ],
      "text/plain": [
       "          Word  Frequency\n",
       "0     abrasive          1\n",
       "1     abruptly          1\n",
       "2        aches          1\n",
       "3  acrimonious          1\n",
       "4       addict          1\n",
       "5     addicted          1\n",
       "6    adversary          1\n",
       "7      afflict          1\n",
       "8   affliction          1\n",
       "9    aggravate          1"
      ]
     },
     "execution_count": 12,
     "metadata": {},
     "output_type": "execute_result"
    }
   ],
   "source": [
    "print(\"Top Ten Least Frequently Used Word\")\n",
    "data = {\"Word\": top_ten_least_frequent_words, \"Frequency\": top_ten_least_frequent_sums}\n",
    "df_top_ten_least_frequent_words = pd.DataFrame(data)\n",
    "df_top_ten_least_frequent_words.head(10)"
   ]
  },
  {
   "cell_type": "code",
   "execution_count": 13,
   "metadata": {},
   "outputs": [
    {
     "data": {
      "text/plain": [
       "Text(0.5, 1.0, 'Frequency vs Word')"
      ]
     },
     "execution_count": 13,
     "metadata": {},
     "output_type": "execute_result"
    },
    {
     "data": {
      "image/png": "[encoded data removed]",
      "text/plain": [
       "<Figure size 432x288 with 1 Axes>"
      ]
     },
     "metadata": {
      "needs_background": "light"
     },
     "output_type": "display_data"
    },
    {
     "data": {
      "image/png": "[encoded data removed]",
      "text/plain": [
       "<Figure size 432x288 with 1 Axes>"
      ]
     },
     "metadata": {
      "needs_background": "light"
     },
     "output_type": "display_data"
    }
   ],
   "source": [
    "plt.figure()\n",
    "plt.bar(top_ten_least_frequent_words[:5], top_ten_least_frequent_sums[:5])\n",
    "plt.xlabel(\"Word\")\n",
    "plt.ylabel(\"Frequency\")\n",
    "plt.title(\"Frequency vs Word\")\n",
    "plt.figure()\n",
    "plt.bar(top_ten_least_frequent_words[5:10], top_ten_least_frequent_sums[5:10])\n",
    "plt.xlabel(\"Word\")\n",
    "plt.ylabel(\"Frequency\")\n",
    "plt.title(\"Frequency vs Word\")"
   ]
  }
 ],
 "metadata": {
  "kernelspec": {
   "display_name": "Python 3",
   "language": "python",
   "name": "python3"
  },
  "language_info": {
   "codemirror_mode": {
    "name": "ipython",
    "version": 3
   },
   "file_extension": ".py",
   "mimetype": "text/x-python",
   "name": "python",
   "nbconvert_exporter": "python",
   "pygments_lexer": "ipython3",
   "version": "3.7.0"
  }
 },
 "nbformat": 4,
 "nbformat_minor": 2
}
