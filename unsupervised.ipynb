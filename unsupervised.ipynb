{
 "cells": [
  {
   "cell_type": "code",
   "execution_count": 1,
   "metadata": {},
   "outputs": [],
   "source": [
    "import sklearn\n",
    "import numpy as np\n",
    "import pandas as pd\n",
    "from sklearn.feature_extraction.text import CountVectorizer\n",
    "import matplotlib.pyplot as plt\n",
    "%matplotlib inline"
   ]
  },
  {
   "cell_type": "code",
   "execution_count": 2,
   "metadata": {},
   "outputs": [],
   "source": [
    "names_test =['id', 'comment_text']\n",
    "df_test = pd.read_csv('test.csv',header=None,sep=\",\",names=names_test, encoding = \"ISO-8859-1\")"
   ]
  },
  {
   "cell_type": "code",
   "execution_count": 3,
   "metadata": {},
   "outputs": [],
   "source": [
    "df_test = df_test.drop(['id'], axis=1)\n",
    "df_test.drop(df_test.index[:1], inplace=True)"
   ]
  },
  {
   "cell_type": "code",
   "execution_count": 4,
   "metadata": {},
   "outputs": [],
   "source": [
    "bad_words = []\n",
    "negative_file = open(\"negative-words.txt\", \"r\")\n",
    "for line in negative_file:\n",
    "    bad_words.append(line.strip(\"\\n\"))\n",
    "negative_file.close()\n",
    "profanity_file = open(\"profanity-words.txt\", \"r\")\n",
    "for line in profanity_file:\n",
    "    if (line.strip(\"\\n\") not in bad_words):\n",
    "        bad_words.append(line.strip(\"\\n\"))\n",
    "profanity_file.close()\n",
    "# print(bad_words)"
   ]
  },
  {
   "cell_type": "code",
   "execution_count": 5,
   "metadata": {},
   "outputs": [],
   "source": [
    "data_test = df_test.values\n",
    "X_test = []\n",
    "for index in range(0, 15000):\n",
    "    X_test.append(data_test[index][0])\n",
    "cv = sklearn.feature_extraction.text.CountVectorizer(vocabulary=bad_words)\n",
    "X_test_features = cv.fit_transform(X_test).toarray()"
   ]
  },
  {
   "cell_type": "code",
   "execution_count": 6,
   "metadata": {},
   "outputs": [
    {
     "data": {
      "text/plain": [
       "2-faced            0\n",
       "2-faces            0\n",
       "abnormal           2\n",
       "abolish            0\n",
       "abominable         0\n",
       "abominably         0\n",
       "abominate          0\n",
       "abomination        2\n",
       "abort              0\n",
       "aborted            0\n",
       "aborts             0\n",
       "abrade             0\n",
       "abrasive           1\n",
       "abrupt             2\n",
       "abruptly           1\n",
       "abscond            0\n",
       "absence           33\n",
       "absent-minded      0\n",
       "absentee           0\n",
       "absurd            23\n",
       "absurdity          4\n",
       "absurdly           5\n",
       "absurdness         0\n",
       "abuse             67\n",
       "abused             8\n",
       "abuses             4\n",
       "abusive           25\n",
       "abysmal            0\n",
       "abysmally          0\n",
       "abyss              0\n",
       "                ... \n",
       "titt               0\n",
       "tittie5            0\n",
       "tittiefucker       0\n",
       "titties          626\n",
       "tittyfuck          0\n",
       "tittywank          0\n",
       "titwank            0\n",
       "tosser             1\n",
       "turd               4\n",
       "tw4t               0\n",
       "twat              66\n",
       "twathead           0\n",
       "twatty             0\n",
       "twunt              0\n",
       "twunter            0\n",
       "v14gra             0\n",
       "v1gra              0\n",
       "vagina           753\n",
       "viagra             0\n",
       "vulva              5\n",
       "w00se              0\n",
       "wang               5\n",
       "wank              18\n",
       "wanker             9\n",
       "wanky              0\n",
       "whoar              0\n",
       "willies            1\n",
       "willy              7\n",
       "xrated             0\n",
       "xxx               13\n",
       "Length: 5213, dtype: int64"
      ]
     },
     "execution_count": 6,
     "metadata": {},
     "output_type": "execute_result"
    }
   ],
   "source": [
    "df_test_unsupervised = pd.DataFrame(X_test_features, columns=bad_words)\n",
    "df_test_unsupervised.sum()"
   ]
  },
  {
   "cell_type": "code",
   "execution_count": null,
   "metadata": {
    "scrolled": true
   },
   "outputs": [],
   "source": [
    "f = open(\"sums.csv\", \"w\")\n",
    "sums = []\n",
    "for i in range(len(bad_words)):\n",
    "    f.write(bad_words[i] + \",\" + str(df_test_unsupervised.sum()[i]) + \"\\n\")\n",
    "    sums.append(df_test_unsupervised.sum()[i])\n",
    "f.close()\n",
    "print(\"done\")"
   ]
  },
  {
   "cell_type": "code",
   "execution_count": 12,
   "metadata": {},
   "outputs": [
    {
     "data": {
      "image/png": "[encoded data removed]",
      "text/plain": [
       "<Figure size 432x288 with 1 Axes>"
      ]
     },
     "metadata": {
      "needs_background": "light"
     },
     "output_type": "display_data"
    }
   ],
   "source": [
    "#plt.plot(bad_words[:5], sums[:5], \".\")\n",
    "plt.bar(bad_words[:5], sums[:5])\n",
    "plt.xlabel(\"Words\")\n",
    "plt.ylabel(\"Frequency\")\n",
    "plt.title(\"Frequency vs Words\")\n",
    "plt.grid()"
   ]
  },
  {
   "cell_type": "code",
   "execution_count": 9,
   "metadata": {},
   "outputs": [
    {
     "data": {
      "text/plain": [
       "<matplotlib.axes._subplots.AxesSubplot at 0xb4155f8>"
      ]
     },
     "execution_count": 9,
     "metadata": {},
     "output_type": "execute_result"
    },
    {
     "data": {
      "image/png": "[encoded data removed]",
      "text/plain": [
       "<Figure size 432x288 with 1 Axes>"
      ]
     },
     "metadata": {
      "needs_background": "light"
     },
     "output_type": "display_data"
    }
   ],
   "source": [
    "df_test_unsupervised[['willy']].sum(axis=1).plot()"
   ]
  }
 ],
 "metadata": {
  "kernelspec": {
   "display_name": "Python 3",
   "language": "python",
   "name": "python3"
  },
  "language_info": {
   "codemirror_mode": {
    "name": "ipython",
    "version": 3
   },
   "file_extension": ".py",
   "mimetype": "text/x-python",
   "name": "python",
   "nbconvert_exporter": "python",
   "pygments_lexer": "ipython3",
   "version": "3.7.1"
  }
 },
 "nbformat": 4,
 "nbformat_minor": 2
}
